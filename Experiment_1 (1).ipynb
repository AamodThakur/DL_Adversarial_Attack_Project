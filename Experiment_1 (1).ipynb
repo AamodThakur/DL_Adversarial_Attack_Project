{
 "cells": [
  {
   "cell_type": "code",
   "execution_count": 1,
   "id": "7049be18-2025-4ed0-b06f-b0269fbdbb93",
   "metadata": {
    "tags": []
   },
   "outputs": [],
   "source": [
    "import torch\n",
    "import torch.nn as nn\n",
    "import numpy as np\n",
    "import pandas as pd\n",
    "from transformers import BertTokenizer\n",
    "import pickle\n",
    "\n",
    "from textattack.models.wrappers import ModelWrapper\n",
    "from textattack.datasets import HuggingFaceDataset\n",
    "from textattack.attack_recipes import PWWSRen2019\n",
    "from textattack import Attacker, AttackArgs"
   ]
  },
  {
   "cell_type": "code",
   "execution_count": 2,
   "id": "9033dc5d-ad95-400b-95af-79a713169aac",
   "metadata": {
    "tags": []
   },
   "outputs": [],
   "source": [
    "import torch\n",
    "from torch.nn import CrossEntropyLoss\n",
    "import textattack\n",
    "from model_wrapper import ModelWrapper\n",
    "\n",
    "from models import model_1 as mm"
   ]
  },
  {
   "cell_type": "code",
   "execution_count": 3,
   "id": "d1a81f4e-44c5-4d2f-a422-c6f8f4e2b81c",
   "metadata": {
    "tags": []
   },
   "outputs": [],
   "source": [
    "torch.cuda.empty_cache()"
   ]
  },
  {
   "cell_type": "markdown",
   "id": "42ac3741-10da-4013-8925-1f0d8ce411a7",
   "metadata": {
    "tags": []
   },
   "source": [
    "### PyTorchModelWrapper"
   ]
  },
  {
   "cell_type": "code",
   "execution_count": 4,
   "id": "3916c7f2-9acc-4cf6-9447-1cb42d824813",
   "metadata": {
    "tags": []
   },
   "outputs": [],
   "source": [
    "class PyTorchModelWrapper(ModelWrapper):\n",
    "    \"\"\"Loads a PyTorch model (`nn.Module`) and tokenizer.\n",
    "\n",
    "    Args:\n",
    "        model (torch.nn.Module): PyTorch model\n",
    "        tokenizer: tokenizer whose output can be packed as a tensor and passed to the model.\n",
    "            No type requirement, but most have `tokenizer` method that accepts list of strings.\n",
    "    \"\"\"\n",
    "\n",
    "    def __init__(self, model, tokenizer):\n",
    "        if not isinstance(model, torch.nn.Module):\n",
    "            raise TypeError(\n",
    "                f\"PyTorch model must be torch.nn.Module, got type {type(model)}\"\n",
    "            )\n",
    "\n",
    "        self.model = model\n",
    "        self.tokenizer = tokenizer\n",
    "\n",
    "    def to(self, device):\n",
    "        self.model.to(device)\n",
    "\n",
    "    def __call__(self, text_input_list, batch_size=32):\n",
    "        model_device = next(self.model.parameters()).device\n",
    "        ############################################################ Change 1\n",
    "        ids = self.tokenizer(text_input_list, return_tensors=\"pt\", padding=True)\n",
    "        ids = ids.to(model_device)\n",
    "\n",
    "        with torch.no_grad():\n",
    "            outputs = textattack.shared.utils.batch_model_predict(\n",
    "                self.model, ids, batch_size=batch_size\n",
    "            )\n",
    "\n",
    "        return outputs\n",
    "\n",
    "    def get_grad(self, text_input, loss_fn=CrossEntropyLoss()):\n",
    "        \"\"\"Get gradient of loss with respect to input tokens.\n",
    "\n",
    "        Args:\n",
    "            text_input (str): input string\n",
    "            loss_fn (torch.nn.Module): loss function. Default is `torch.nn.CrossEntropyLoss`\n",
    "        Returns:\n",
    "            Dict of ids, tokens, and gradient as numpy array.\n",
    "        \"\"\"\n",
    "\n",
    "        if not hasattr(self.model, \"get_input_embeddings\"):\n",
    "            raise AttributeError(\n",
    "                f\"{type(self.model)} must have method `get_input_embeddings` that returns `torch.nn.Embedding` object that represents input embedding layer\"\n",
    "            )\n",
    "        if not isinstance(loss_fn, torch.nn.Module):\n",
    "            raise ValueError(\"Loss function must be of type `torch.nn.Module`.\")\n",
    "\n",
    "        self.model.train()\n",
    "\n",
    "        embedding_layer = self.model.get_input_embeddings()\n",
    "        original_state = embedding_layer.weight.requires_grad\n",
    "        embedding_layer.weight.requires_grad = True\n",
    "\n",
    "        emb_grads = []\n",
    "\n",
    "        def grad_hook(module, grad_in, grad_out):\n",
    "            emb_grads.append(grad_out[0])\n",
    "\n",
    "        emb_hook = embedding_layer.register_backward_hook(grad_hook)\n",
    "\n",
    "        self.model.zero_grad()\n",
    "        model_device = next(self.model.parameters()).device\n",
    "        \n",
    "        ######################################################### Change 2\n",
    "        ids = self.tokenizer(text_input_list, return_tensors=\"pt\", padding=True)\n",
    "        ids = ids.to(model_device)\n",
    "\n",
    "        predictions = self.model(ids)\n",
    "\n",
    "        output = predictions.argmax(dim=1)\n",
    "        loss = loss_fn(predictions, output)\n",
    "        loss.backward()\n",
    "\n",
    "        # grad w.r.t to word embeddings\n",
    "\n",
    "        # Fix for Issue #601\n",
    "\n",
    "        # Check if gradient has shape [max_sequence,1,_] ( when model input in transpose of input sequence)\n",
    "\n",
    "        if emb_grads[0].shape[1] == 1:\n",
    "            grad = torch.transpose(emb_grads[0], 0, 1)[0].cpu().numpy()\n",
    "        else:\n",
    "            # gradient has shape [1,max_sequence,_]\n",
    "            grad = emb_grads[0][0].cpu().numpy()\n",
    "\n",
    "        embedding_layer.weight.requires_grad = original_state\n",
    "        emb_hook.remove()\n",
    "        self.model.eval()\n",
    "\n",
    "        output = {\"ids\": ids[0].tolist(), \"gradient\": grad}\n",
    "\n",
    "        return output\n",
    "\n",
    "    def _tokenize(self, inputs):\n",
    "        \"\"\"Helper method that for `tokenize`\n",
    "        Args:\n",
    "            inputs (list[str]): list of input strings\n",
    "        Returns:\n",
    "            tokens (list[list[str]]): List of list of tokens as strings\n",
    "        \"\"\"\n",
    "        return [self.tokenizer.convert_ids_to_tokens(self.tokenizer(x)) for x in inputs]"
   ]
  },
  {
   "cell_type": "markdown",
   "id": "c0580a9c-44b6-4bc9-9cd1-5bcdb0c19f15",
   "metadata": {
    "tags": []
   },
   "source": [
    "### Self Tx"
   ]
  },
  {
   "cell_type": "code",
   "execution_count": 5,
   "id": "a031a345-3045-460a-b645-722db0226563",
   "metadata": {
    "tags": []
   },
   "outputs": [],
   "source": [
    "d_model = 768\n",
    "max_token = 512\n",
    "nhead = 12\n",
    "nlayer = 6\n",
    "device = \"cuda\""
   ]
  },
  {
   "cell_type": "code",
   "execution_count": 6,
   "id": "d85c977d-8aba-460e-afb0-474b636ee2e1",
   "metadata": {
    "tags": []
   },
   "outputs": [],
   "source": [
    "with open(\"bert_embedding.pkl\", \"rb\") as file:\n",
    "    embd = pickle.load(file)"
   ]
  },
  {
   "cell_type": "code",
   "execution_count": 7,
   "id": "f2e89fd2-a358-4b23-b041-32c94e2ca1b5",
   "metadata": {
    "tags": []
   },
   "outputs": [],
   "source": [
    "model = mm.ad_transformer(d_model,nhead, nlayer, max_token, embd, device).to(device)"
   ]
  },
  {
   "cell_type": "code",
   "execution_count": 8,
   "id": "89254143-a950-4897-aba7-4d3cdca9e44f",
   "metadata": {
    "tags": []
   },
   "outputs": [],
   "source": [
    "tokenizer = BertTokenizer.from_pretrained('bert-base-uncased')"
   ]
  },
  {
   "cell_type": "code",
   "execution_count": 9,
   "id": "b504c8db-b6e6-4f29-a188-2f2cc26e63fc",
   "metadata": {
    "tags": []
   },
   "outputs": [
    {
     "data": {
      "text/plain": [
       "<All keys matched successfully>"
      ]
     },
     "execution_count": 9,
     "metadata": {},
     "output_type": "execute_result"
    }
   ],
   "source": [
    "model.load_state_dict(torch.load(\"weight_trained_1.pth\"))"
   ]
  },
  {
   "cell_type": "markdown",
   "id": "e8ce8152-23ec-49bd-a94b-a40a13654076",
   "metadata": {
    "tags": []
   },
   "source": [
    "### Spam Dataset"
   ]
  },
  {
   "cell_type": "code",
   "execution_count": 10,
   "id": "bbbadc2d-fed9-4268-b05c-d511694bff8b",
   "metadata": {
    "tags": []
   },
   "outputs": [],
   "source": [
    "#f = pd.read_csv(\"dataset/spam_train.csv\")"
   ]
  },
  {
   "cell_type": "code",
   "execution_count": 11,
   "id": "ec987be9-14c2-434c-b029-bc29f04eb71d",
   "metadata": {
    "tags": []
   },
   "outputs": [],
   "source": [
    "#df = df.drop(\"len\", axis=1)"
   ]
  },
  {
   "cell_type": "code",
   "execution_count": 12,
   "id": "09fc61b8-bb0e-4f75-b0da-debb5aa1bc2d",
   "metadata": {
    "tags": []
   },
   "outputs": [],
   "source": [
    "### Removing Sequence more than 500 tokens\n",
    "#tok_threshold = []\n",
    "#for i in range(len(df) - 1, -1, -1):\n",
    "#    tok_len = len(tokenizer(df.iloc[i,1], return_tensors=\"pt\", padding=True)[\"input_ids\"][0])\n",
    "#    if tok_len > 500:\n",
    "#        tok_threshold.append(i)\n",
    "#        \n",
    "#df.drop(859, inplace=True)"
   ]
  },
  {
   "cell_type": "code",
   "execution_count": 13,
   "id": "6a7e333a-a3cf-4095-bdfe-2b18ad513b50",
   "metadata": {
    "tags": []
   },
   "outputs": [],
   "source": [
    "#df = df[df[\"text_type\"] == \"spam\"]"
   ]
  },
  {
   "cell_type": "code",
   "execution_count": 14,
   "id": "047cca20-5893-4e61-9293-aca91a1577e6",
   "metadata": {
    "tags": []
   },
   "outputs": [],
   "source": [
    "#df_test.to_csv(\"attack_spam_only.csv\", index = False)"
   ]
  },
  {
   "cell_type": "code",
   "execution_count": 15,
   "id": "3aa6e39e-a4ae-4645-a807-d123ef095cdb",
   "metadata": {
    "tags": []
   },
   "outputs": [],
   "source": [
    "df_test = pd.read_csv(\"dataset/attack_test.csv\")"
   ]
  },
  {
   "cell_type": "code",
   "execution_count": 16,
   "id": "ac673a5a-d863-4828-9d6b-c894d30b31be",
   "metadata": {
    "tags": []
   },
   "outputs": [],
   "source": [
    "df_test = df_test.replace(\"spam\",0)"
   ]
  },
  {
   "cell_type": "markdown",
   "id": "5946d094-a653-4cdb-bfd8-274627f15105",
   "metadata": {
    "tags": []
   },
   "source": [
    "### Testing Acurracy"
   ]
  },
  {
   "cell_type": "code",
   "execution_count": 17,
   "id": "cca8c6be-5ed1-4d6f-a837-8ead76728b98",
   "metadata": {
    "tags": []
   },
   "outputs": [],
   "source": [
    "## Actual Value (SPAM, HAM)  ## Y - Predicted Value (SPAM, HAM)\n",
    "#conf_matrix = np.zeros((2,2))"
   ]
  },
  {
   "cell_type": "code",
   "execution_count": 18,
   "id": "63c28c47-cda0-491c-b7d0-35d5116fe270",
   "metadata": {
    "tags": []
   },
   "outputs": [
    {
     "data": {
      "text/plain": [
       "'\\nfor i in range(len(df_test)):\\n    input_list = df_test.iloc[i,1]\\n    tok_input = tokenizer(input_list, return_tensors=\"pt\", padding=True).to(device)\\n    out = model(tok_input)\\n    \\n    index_1 = torch.argmax(out[0]).tolist()\\n    \\n    if df_test.iloc[i,0] == 0:\\n        index_2 = 0\\n    else:\\n        index_2 = 1\\n        \\n    conf_matrix[index_1][index_2] += 1\\n'"
      ]
     },
     "execution_count": 18,
     "metadata": {},
     "output_type": "execute_result"
    }
   ],
   "source": [
    "\"\"\"\n",
    "for i in range(len(df_test)):\n",
    "    input_list = df_test.iloc[i,1]\n",
    "    tok_input = tokenizer(input_list, return_tensors=\"pt\", padding=True).to(device)\n",
    "    out = model(tok_input)\n",
    "    \n",
    "    index_1 = torch.argmax(out[0]).tolist()\n",
    "    \n",
    "    if df_test.iloc[i,0] == 0:\n",
    "        index_2 = 0\n",
    "    else:\n",
    "        index_2 = 1\n",
    "        \n",
    "    conf_matrix[index_1][index_2] += 1\n",
    "\"\"\""
   ]
  },
  {
   "cell_type": "code",
   "execution_count": 19,
   "id": "afaccf29-a4ba-4cd2-b595-2c6643b4ee03",
   "metadata": {
    "tags": []
   },
   "outputs": [],
   "source": [
    "#conf_matrix"
   ]
  },
  {
   "cell_type": "markdown",
   "id": "a61c33c6-8611-41cb-88e6-e07b450f23b8",
   "metadata": {},
   "source": [
    "### Attack"
   ]
  },
  {
   "cell_type": "code",
   "execution_count": 20,
   "id": "7e2b0de6-f07d-4d1f-a52f-c93d988500e0",
   "metadata": {
    "tags": []
   },
   "outputs": [],
   "source": [
    "df_test = df_test.rename(columns={'text_type': 'label'})"
   ]
  },
  {
   "cell_type": "code",
   "execution_count": 21,
   "id": "a7a14008-a471-4843-9de0-2bc4b10a7ed2",
   "metadata": {
    "tags": []
   },
   "outputs": [],
   "source": [
    "model_wrapper = PyTorchModelWrapper(model, tokenizer)"
   ]
  },
  {
   "cell_type": "code",
   "execution_count": 22,
   "id": "85db722d-9611-4aaa-98d0-450653bbd8df",
   "metadata": {},
   "outputs": [],
   "source": [
    "from textattack import Attack\n",
    "from textattack.search_methods import GreedySearch\n",
    "from textattack.constraints.pre_transformation import (\n",
    "    RepeatModification,\n",
    "    StopwordModification,\n",
    ")\n",
    "from textattack.goal_functions import UntargetedClassification, TargetedClassification\n",
    "from textattack.transformations import WordSwapEmbedding\n",
    "from textattack.constraints.pre_transformation import RepeatModification\n",
    "from textattack.constraints.pre_transformation import StopwordModification"
   ]
  },
  {
   "cell_type": "code",
   "execution_count": 23,
   "id": "c447e937-f2ef-438b-a96b-b402d1dbd13d",
   "metadata": {},
   "outputs": [
    {
     "name": "stderr",
     "output_type": "stream",
     "text": [
      "textattack: Unknown if model of class <class 'models.model_1.ad_transformer'> compatible with goal function <class 'textattack.goal_functions.classification.targeted_classification.TargetedClassification'>.\n"
     ]
    }
   ],
   "source": [
    "goal_function = TargetedClassification(model_wrapper, target_class = 1)\n",
    "\n",
    "transformation = WordSwapEmbedding()\n",
    "\n",
    "constraints = [RepeatModification(), StopwordModification()]\n",
    "\n",
    "search_method = GreedySearch()\n",
    "\n",
    "attack = Attack(goal_function, constraints, transformation, search_method)"
   ]
  },
  {
   "cell_type": "code",
   "execution_count": 24,
   "id": "367153a4-ef8c-4f98-81c2-67e37da48e0b",
   "metadata": {
    "tags": []
   },
   "outputs": [],
   "source": [
    "custom_ds = []\n",
    "for i in range(len(df_test)):\n",
    "    custom_ds.append((df_test.iloc[i,1], int(df_test.iloc[i,0])))"
   ]
  },
  {
   "cell_type": "code",
   "execution_count": 25,
   "id": "415e4dd0-77e1-4795-9d70-4f75309f3f77",
   "metadata": {
    "tags": []
   },
   "outputs": [],
   "source": [
    "dataset = textattack.datasets.Dataset(custom_ds)"
   ]
  },
  {
   "cell_type": "markdown",
   "id": "ad4631a6-626f-4899-ac4a-1a84713bbfd5",
   "metadata": {},
   "source": [
    "### Getting Low Rank of only Attention Weights"
   ]
  },
  {
   "cell_type": "code",
   "execution_count": 26,
   "id": "d170a09d-d159-4c0a-a113-5756cb2a0f5f",
   "metadata": {
    "tags": []
   },
   "outputs": [],
   "source": [
    "def svd_sa(model, rank):\n",
    "    all_model_weight = model.state_dict()\n",
    "    \n",
    "    for layer_num in range(nlayer):\n",
    "        layer_name = 'transformer_encoder.layers.' + str(layer_num) + '.self_attn.in_proj_weight'\n",
    "\n",
    "        in_proj_weight = all_model_weight[layer_name]\n",
    "        q, k, v = torch.split(in_proj_weight, [d_model, d_model, d_model])\n",
    "\n",
    "        U, s, V = np.linalg.svd(q.to(\"cpu\").numpy())\n",
    "        low_rank_mat = np.dot(U[:, :rank], np.dot(np.diag(s[:rank]), V[:rank, :]))\n",
    "        q = low_rank_mat\n",
    "\n",
    "        U, s, V = np.linalg.svd(k.to(\"cpu\").numpy())\n",
    "        low_rank_mat = np.dot(U[:, :rank], np.dot(np.diag(s[:rank]), V[:rank, :]))\n",
    "        k = low_rank_mat\n",
    "\n",
    "        U, s, V = np.linalg.svd(v.to(\"cpu\").numpy())\n",
    "        low_rank_mat = np.dot(U[:, :rank], np.dot(np.diag(s[:rank]), V[:rank, :]))\n",
    "        v = low_rank_mat\n",
    "\n",
    "        all_model_weight[layer_name] = torch.concat((torch.tensor(q),torch.tensor(k), torch.tensor(v))).to(\"cuda\")\n",
    "        \n",
    "    return all_model_weight"
   ]
  },
  {
   "cell_type": "markdown",
   "id": "b0486247-b0b1-417e-93d1-9b18d1a092d3",
   "metadata": {},
   "source": [
    "### Experimenting on different rank"
   ]
  },
  {
   "cell_type": "code",
   "execution_count": 40,
   "id": "b03e61e4-cdab-4535-a035-0d0a9b153326",
   "metadata": {
    "tags": []
   },
   "outputs": [],
   "source": [
    "transformation = WordSwapEmbedding()\n",
    "constraints = [RepeatModification(), StopwordModification()]\n",
    "search_method = GreedySearch()"
   ]
  },
  {
   "cell_type": "code",
   "execution_count": null,
   "id": "08f829d2-61e3-4ce9-bc58-26891d3b5ff5",
   "metadata": {
    "scrolled": true,
    "tags": []
   },
   "outputs": [
    {
     "name": "stderr",
     "output_type": "stream",
     "text": [
      "textattack: Unknown if model of class <class 'models.model_1.ad_transformer'> compatible with goal function <class 'textattack.goal_functions.classification.targeted_classification.TargetedClassification'>.\n",
      "textattack: Logging to CSV at path rank/log_1.csv\n"
     ]
    },
    {
     "name": "stdout",
     "output_type": "stream",
     "text": [
      "Attack(\n",
      "  (search_method): GreedySearch\n",
      "  (goal_function):  TargetedClassification(\n",
      "    (target_class):  1\n",
      "  )\n",
      "  (transformation):  WordSwapEmbedding(\n",
      "    (max_candidates):  15\n",
      "    (embedding):  WordEmbedding\n",
      "  )\n",
      "  (constraints): \n",
      "    (0): RepeatModification\n",
      "    (1): StopwordModification\n",
      "  (is_black_box):  True\n",
      ") \n",
      "\n"
     ]
    },
    {
     "name": "stderr",
     "output_type": "stream",
     "text": [
      "\n",
      "  0%|                                                                                                                                    | 0/30 [00:00<?, ?it/s]\u001b[A\n",
      "  3%|████▏                                                                                                                       | 1/30 [00:15<07:37, 15.77s/it]\u001b[A\n",
      "[Succeeded / Failed / Skipped / Total] 0 / 1 / 0 / 1:   3%|██▎                                                                   | 1/30 [00:15<07:37, 15.79s/it]\u001b[A\n",
      "[Succeeded / Failed / Skipped / Total] 0 / 1 / 0 / 1:   7%|████▋                                                                 | 2/30 [00:37<08:46, 18.81s/it]\u001b[A\n",
      "[Succeeded / Failed / Skipped / Total] 0 / 2 / 0 / 2:   7%|████▋                                                                 | 2/30 [00:37<08:46, 18.82s/it]\u001b[A\n",
      "[Succeeded / Failed / Skipped / Total] 0 / 2 / 0 / 2:  10%|███████                                                               | 3/30 [01:06<09:54, 22.03s/it]\u001b[A\n",
      "[Succeeded / Failed / Skipped / Total] 0 / 3 / 0 / 3:  10%|███████                                                               | 3/30 [01:06<09:55, 22.04s/it]\u001b[A\n",
      "[Succeeded / Failed / Skipped / Total] 0 / 3 / 0 / 3:  13%|█████████▎                                                            | 4/30 [01:38<10:41, 24.68s/it]\u001b[A\n",
      "[Succeeded / Failed / Skipped / Total] 0 / 4 / 0 / 4:  13%|█████████▎                                                            | 4/30 [01:38<10:41, 24.68s/it]\u001b[A\n",
      "[Succeeded / Failed / Skipped / Total] 0 / 4 / 0 / 4:  17%|███████████▋                                                          | 5/30 [02:03<10:17, 24.68s/it]\u001b[A\n",
      "[Succeeded / Failed / Skipped / Total] 0 / 5 / 0 / 5:  17%|███████████▋                                                          | 5/30 [02:03<10:17, 24.69s/it]\u001b[Atextattack: Saving checkpoint under \"checkpoints/1713627041310.ta.chkpt\" at 2024-04-20 15:30:41 after 5 attacks.\n"
     ]
    },
    {
     "name": "stdout",
     "output_type": "stream",
     "text": [
      "\n",
      "\n",
      "=============================================================================================================================\n",
      "=============================================================================================================================\n",
      "\n"
     ]
    },
    {
     "name": "stderr",
     "output_type": "stream",
     "text": [
      "\n",
      "[Succeeded / Failed / Skipped / Total] 0 / 5 / 0 / 5:  20%|██████████████                                                        | 6/30 [02:31<10:07, 25.33s/it]\u001b[A\n",
      "[Succeeded / Failed / Skipped / Total] 0 / 6 / 0 / 6:  20%|██████████████                                                        | 6/30 [02:32<10:08, 25.33s/it]\u001b[A\n",
      "[Succeeded / Failed / Skipped / Total] 0 / 6 / 0 / 6:  23%|████████████████▎                                                     | 7/30 [03:03<10:04, 26.27s/it]\u001b[A\n",
      "[Succeeded / Failed / Skipped / Total] 0 / 7 / 0 / 7:  23%|████████████████▎                                                     | 7/30 [03:03<10:04, 26.27s/it]\u001b[A\n",
      "[Succeeded / Failed / Skipped / Total] 0 / 7 / 0 / 7:  27%|██████████████████▋                                                   | 8/30 [03:04<08:27, 23.08s/it]\u001b[A\n",
      "[Succeeded / Failed / Skipped / Total] 0 / 8 / 0 / 8:  27%|██████████████████▋                                                   | 8/30 [03:04<08:27, 23.08s/it]\u001b[A\n",
      "[Succeeded / Failed / Skipped / Total] 0 / 8 / 0 / 8:  30%|█████████████████████                                                 | 9/30 [03:15<07:36, 21.73s/it]\u001b[A\n",
      "[Succeeded / Failed / Skipped / Total] 0 / 9 / 0 / 9:  30%|█████████████████████                                                 | 9/30 [03:15<07:36, 21.74s/it]\u001b[A\n",
      "[Succeeded / Failed / Skipped / Total] 0 / 9 / 0 / 9:  33%|███████████████████████                                              | 10/30 [03:35<07:10, 21.51s/it]\u001b[A\n",
      "[Succeeded / Failed / Skipped / Total] 0 / 10 / 0 / 10:  33%|██████████████████████▎                                            | 10/30 [03:35<07:10, 21.51s/it]\u001b[Atextattack: Saving checkpoint under \"checkpoints/1713627132965.ta.chkpt\" at 2024-04-20 15:32:12 after 10 attacks.\n"
     ]
    },
    {
     "name": "stdout",
     "output_type": "stream",
     "text": [
      "\n",
      "\n",
      "=============================================================================================================================\n",
      "=============================================================================================================================\n",
      "\n"
     ]
    },
    {
     "name": "stderr",
     "output_type": "stream",
     "text": [
      "\n",
      "[Succeeded / Failed / Skipped / Total] 0 / 10 / 0 / 10:  37%|████████████████████████▌                                          | 11/30 [04:06<07:05, 22.41s/it]\u001b[A\n",
      "[Succeeded / Failed / Skipped / Total] 0 / 11 / 0 / 11:  37%|████████████████████████▌                                          | 11/30 [04:06<07:05, 22.41s/it]\u001b[A\n",
      "[Succeeded / Failed / Skipped / Total] 0 / 11 / 0 / 11:  40%|██████████████████████████▊                                        | 12/30 [04:15<06:23, 21.30s/it]\u001b[A\n",
      "[Succeeded / Failed / Skipped / Total] 0 / 12 / 0 / 12:  40%|██████████████████████████▊                                        | 12/30 [04:15<06:23, 21.30s/it]\u001b[A\n",
      "[Succeeded / Failed / Skipped / Total] 0 / 12 / 0 / 12:  43%|█████████████████████████████                                      | 13/30 [04:24<05:45, 20.33s/it]\u001b[A\n",
      "[Succeeded / Failed / Skipped / Total] 0 / 13 / 0 / 13:  43%|█████████████████████████████                                      | 13/30 [04:24<05:45, 20.33s/it]\u001b[A\n",
      "[Succeeded / Failed / Skipped / Total] 0 / 13 / 0 / 13:  47%|███████████████████████████████▎                                   | 14/30 [04:33<05:12, 19.54s/it]\u001b[A\n",
      "[Succeeded / Failed / Skipped / Total] 0 / 14 / 0 / 14:  47%|███████████████████████████████▎                                   | 14/30 [04:33<05:12, 19.54s/it]\u001b[A\n",
      "[Succeeded / Failed / Skipped / Total] 0 / 14 / 0 / 14:  50%|█████████████████████████████████▌                                 | 15/30 [04:42<04:42, 18.81s/it]\u001b[A\n",
      "[Succeeded / Failed / Skipped / Total] 0 / 15 / 0 / 15:  50%|█████████████████████████████████▌                                 | 15/30 [04:42<04:42, 18.81s/it]\u001b[Atextattack: Saving checkpoint under \"checkpoints/1713627200079.ta.chkpt\" at 2024-04-20 15:33:20 after 15 attacks.\n"
     ]
    },
    {
     "name": "stdout",
     "output_type": "stream",
     "text": [
      "\n",
      "\n",
      "=============================================================================================================================\n",
      "=============================================================================================================================\n",
      "\n"
     ]
    },
    {
     "name": "stderr",
     "output_type": "stream",
     "text": [
      "\n",
      "[Succeeded / Failed / Skipped / Total] 0 / 15 / 0 / 15:  53%|███████████████████████████████████▋                               | 16/30 [04:55<04:18, 18.48s/it]\u001b[A\n",
      "[Succeeded / Failed / Skipped / Total] 0 / 16 / 0 / 16:  53%|███████████████████████████████████▋                               | 16/30 [04:55<04:18, 18.49s/it]\u001b[A\n",
      "[Succeeded / Failed / Skipped / Total] 0 / 16 / 0 / 16:  57%|█████████████████████████████████████▉                             | 17/30 [05:23<04:07, 19.05s/it]\u001b[A\n",
      "[Succeeded / Failed / Skipped / Total] 0 / 17 / 0 / 17:  57%|█████████████████████████████████████▉                             | 17/30 [05:23<04:07, 19.05s/it]\u001b[A\n",
      "[Succeeded / Failed / Skipped / Total] 0 / 17 / 0 / 17:  60%|████████████████████████████████████████▏                          | 18/30 [05:46<03:50, 19.24s/it]\u001b[A\n",
      "[Succeeded / Failed / Skipped / Total] 0 / 18 / 0 / 18:  60%|████████████████████████████████████████▏                          | 18/30 [05:46<03:50, 19.24s/it]\u001b[A\n",
      "[Succeeded / Failed / Skipped / Total] 0 / 18 / 0 / 18:  63%|██████████████████████████████████████████▍                        | 19/30 [06:15<03:37, 19.74s/it]\u001b[A\n",
      "[Succeeded / Failed / Skipped / Total] 0 / 19 / 0 / 19:  63%|██████████████████████████████████████████▍                        | 19/30 [06:15<03:37, 19.74s/it]\u001b[A\n",
      "[Succeeded / Failed / Skipped / Total] 0 / 19 / 0 / 19:  67%|████████████████████████████████████████████▋                      | 20/30 [06:31<03:15, 19.58s/it]\u001b[A\n",
      "[Succeeded / Failed / Skipped / Total] 0 / 20 / 0 / 20:  67%|████████████████████████████████████████████▋                      | 20/30 [06:31<03:15, 19.58s/it]\u001b[Atextattack: Saving checkpoint under \"checkpoints/1713627309518.ta.chkpt\" at 2024-04-20 15:35:09 after 20 attacks.\n"
     ]
    },
    {
     "name": "stdout",
     "output_type": "stream",
     "text": [
      "\n",
      "\n",
      "=============================================================================================================================\n",
      "=============================================================================================================================\n",
      "\n"
     ]
    },
    {
     "name": "stderr",
     "output_type": "stream",
     "text": [
      "\n",
      "[Succeeded / Failed / Skipped / Total] 0 / 20 / 0 / 20:  70%|██████████████████████████████████████████████▉                    | 21/30 [06:53<02:57, 19.68s/it]\u001b[A\n",
      "[Succeeded / Failed / Skipped / Total] 0 / 21 / 0 / 21:  70%|██████████████████████████████████████████████▉                    | 21/30 [06:53<02:57, 19.68s/it]\u001b[A\n",
      "[Succeeded / Failed / Skipped / Total] 0 / 21 / 0 / 21:  73%|█████████████████████████████████████████████████▏                 | 22/30 [07:01<02:33, 19.18s/it]\u001b[A\n",
      "[Succeeded / Failed / Skipped / Total] 0 / 22 / 0 / 22:  73%|█████████████████████████████████████████████████▏                 | 22/30 [07:02<02:33, 19.18s/it]\u001b[A\n",
      "[Succeeded / Failed / Skipped / Total] 0 / 26 / 0 / 26:  90%|████████████████████████████████████████████████████████████▎      | 27/30 [08:35<00:57, 19.08s/it]\u001b[A\n",
      "[Succeeded / Failed / Skipped / Total] 0 / 27 / 0 / 27:  90%|████████████████████████████████████████████████████████████▎      | 27/30 [08:35<00:57, 19.08s/it]\u001b[A\n",
      "[Succeeded / Failed / Skipped / Total] 0 / 27 / 0 / 27:  93%|██████████████████████████████████████████████████████████████▌    | 28/30 [08:45<00:37, 18.79s/it]\u001b[A\n",
      "[Succeeded / Failed / Skipped / Total] 0 / 28 / 0 / 28:  93%|██████████████████████████████████████████████████████████████▌    | 28/30 [08:46<00:37, 18.79s/it]\u001b[A\n",
      "[Succeeded / Failed / Skipped / Total] 0 / 28 / 0 / 28:  97%|████████████████████████████████████████████████████████████████▊  | 29/30 [09:04<00:18, 18.78s/it]\u001b[A\n",
      "[Succeeded / Failed / Skipped / Total] 0 / 29 / 0 / 29:  97%|████████████████████████████████████████████████████████████████▊  | 29/30 [09:04<00:18, 18.78s/it]\u001b[A\n",
      "[Succeeded / Failed / Skipped / Total] 0 / 29 / 0 / 29: 100%|███████████████████████████████████████████████████████████████████| 30/30 [09:13<00:00, 18.45s/it]\u001b[A\n",
      "[Succeeded / Failed / Skipped / Total] 0 / 30 / 0 / 30: 100%|███████████████████████████████████████████████████████████████████| 30/30 [09:13<00:00, 18.45s/it]\u001b[Atextattack: Saving checkpoint under \"checkpoints/1713627471304.ta.chkpt\" at 2024-04-20 15:37:51 after 30 attacks.\n",
      "[Succeeded / Failed / Skipped / Total] 0 / 30 / 0 / 30: 100%|███████████████████████████████████████████████████████████████████| 30/30 [09:13<00:00, 18.45s/it]"
     ]
    },
    {
     "name": "stdout",
     "output_type": "stream",
     "text": [
      "\n",
      "\n",
      "=============================================================================================================================\n",
      "=============================================================================================================================\n",
      "\n",
      "\n",
      "+-------------------------------+--------+\n",
      "| Attack Results                |        |\n",
      "+-------------------------------+--------+\n",
      "| Number of successful attacks: | 0      |\n",
      "| Number of failed attacks:     | 30     |\n",
      "| Number of skipped attacks:    | 0      |\n",
      "| Original accuracy:            | 100.0% |\n",
      "| Accuracy under attack:        | 100.0% |\n",
      "| Attack success rate:          | 0.0%   |\n",
      "| Average perturbed word %:     | nan%   |\n",
      "| Average num. words per input: | 22.7   |\n",
      "| Avg num queries:              | 1150.0 |\n",
      "+-------------------------------+--------+"
     ]
    },
    {
     "name": "stderr",
     "output_type": "stream",
     "text": [
      "\n",
      "/opt/conda/lib/python3.10/site-packages/textattack/metrics/attack_metrics/words_perturbed.py:83: RuntimeWarning: Mean of empty slice.\n",
      "  average_perc_words_perturbed = self.perturbed_word_percentages.mean()\n",
      "/opt/conda/lib/python3.10/site-packages/numpy/core/_methods.py:129: RuntimeWarning: invalid value encountered in scalar divide\n",
      "  ret = ret.dtype.type(ret / rcount)\n"
     ]
    },
    {
     "name": "stdout",
     "output_type": "stream",
     "text": [
      "\n"
     ]
    },
    {
     "name": "stderr",
     "output_type": "stream",
     "text": [
      "textattack: Unknown if model of class <class 'models.model_1.ad_transformer'> compatible with goal function <class 'textattack.goal_functions.classification.targeted_classification.TargetedClassification'>.\n",
      "textattack: Logging to CSV at path rank/log_6.csv\n"
     ]
    },
    {
     "name": "stdout",
     "output_type": "stream",
     "text": [
      "Attack(\n",
      "  (search_method): GreedySearch\n",
      "  (goal_function):  TargetedClassification(\n",
      "    (target_class):  1\n",
      "  )\n",
      "  (transformation):  WordSwapEmbedding(\n",
      "    (max_candidates):  15\n",
      "    (embedding):  WordEmbedding\n",
      "  )\n",
      "  (constraints): \n",
      "    (0): RepeatModification\n",
      "    (1): StopwordModification\n",
      "  (is_black_box):  True\n",
      ") \n",
      "\n"
     ]
    },
    {
     "name": "stderr",
     "output_type": "stream",
     "text": [
      "\n",
      "  0%|                                                                                                                                    | 0/30 [00:00<?, ?it/s]\u001b[A\n",
      "[Succeeded / Failed / Skipped / Total] 0 / 0 / 1 / 1:   3%|██▎                                                                   | 1/30 [00:00<00:01, 20.69it/s]\u001b[A\n",
      "[Succeeded / Failed / Skipped / Total] 0 / 0 / 2 / 2:   7%|████▋                                                                 | 2/30 [00:00<00:01, 19.14it/s]\u001b[A\n",
      "[Succeeded / Failed / Skipped / Total] 0 / 0 / 2 / 2:  10%|███████                                                               | 3/30 [00:03<00:35,  1.31s/it]\u001b[A\n",
      "[Succeeded / Failed / Skipped / Total] 1 / 0 / 2 / 3:  10%|███████                                                               | 3/30 [00:03<00:35,  1.33s/it]\u001b[A\n",
      "[Succeeded / Failed / Skipped / Total] 1 / 0 / 3 / 4:  13%|█████████▎                                                            | 4/30 [00:04<00:26,  1.01s/it]\u001b[A\n",
      "[Succeeded / Failed / Skipped / Total] 2 / 0 / 3 / 5:  17%|███████████▋                                                          | 5/30 [00:07<00:38,  1.55s/it]\u001b[Atextattack: Saving checkpoint under \"checkpoints/1713627486797.ta.chkpt\" at 2024-04-20 15:38:06 after 5 attacks.\n"
     ]
    },
    {
     "name": "stdout",
     "output_type": "stream",
     "text": [
      "\n",
      "\n",
      "=============================================================================================================================\n",
      "=============================================================================================================================\n",
      "\n"
     ]
    },
    {
     "name": "stderr",
     "output_type": "stream",
     "text": [
      "\n",
      "[Succeeded / Failed / Skipped / Total] 2 / 0 / 3 / 5:  20%|██████████████                                                        | 6/30 [00:11<00:44,  1.87s/it]\u001b[A\n",
      "[Succeeded / Failed / Skipped / Total] 3 / 0 / 3 / 6:  20%|██████████████                                                        | 6/30 [00:11<00:44,  1.87s/it]\u001b[A\n",
      "[Succeeded / Failed / Skipped / Total] 4 / 0 / 3 / 7:  23%|████████████████▎                                                     | 7/30 [00:14<00:48,  2.13s/it]\u001b[A\n",
      "[Succeeded / Failed / Skipped / Total] 4 / 1 / 3 / 8:  27%|██████████████████▋                                                   | 8/30 [00:15<00:43,  1.96s/it]\u001b[A\n",
      "[Succeeded / Failed / Skipped / Total] 4 / 1 / 3 / 8:  30%|█████████████████████                                                 | 9/30 [00:17<00:41,  1.98s/it]\u001b[A\n",
      "[Succeeded / Failed / Skipped / Total] 5 / 1 / 3 / 9:  30%|█████████████████████                                                 | 9/30 [00:17<00:41,  1.98s/it]\u001b[A\n",
      "[Succeeded / Failed / Skipped / Total] 6 / 1 / 3 / 10:  33%|██████████████████████▋                                             | 10/30 [00:20<00:41,  2.07s/it]\u001b[Atextattack: Saving checkpoint under \"checkpoints/1713627499773.ta.chkpt\" at 2024-04-20 15:38:19 after 10 attacks.\n"
     ]
    },
    {
     "name": "stdout",
     "output_type": "stream",
     "text": [
      "\n",
      "\n",
      "=============================================================================================================================\n",
      "=============================================================================================================================\n",
      "\n"
     ]
    },
    {
     "name": "stderr",
     "output_type": "stream",
     "text": [
      "\n",
      "[Succeeded / Failed / Skipped / Total] 7 / 1 / 3 / 11:  37%|████████████████████████▉                                           | 11/30 [00:24<00:42,  2.23s/it]\u001b[A\n",
      "[Succeeded / Failed / Skipped / Total] 7 / 1 / 3 / 11:  37%|████████████████████████▉                                           | 11/30 [00:31<00:54,  2.86s/it]\u001b[A\n",
      "[Succeeded / Failed / Skipped / Total] 7 / 1 / 3 / 11:  40%|███████████████████████████▏                                        | 12/30 [00:32<00:49,  2.73s/it]\u001b[A\n",
      "[Succeeded / Failed / Skipped / Total] 8 / 1 / 3 / 12:  40%|███████████████████████████▏                                        | 12/30 [00:32<00:49,  2.73s/it]\u001b[A\n",
      "[Succeeded / Failed / Skipped / Total] 8 / 1 / 3 / 12:  43%|█████████████████████████████▍                                      | 13/30 [00:41<00:53,  3.17s/it]\u001b[A\n",
      "[Succeeded / Failed / Skipped / Total] 8 / 2 / 3 / 13:  43%|█████████████████████████████▍                                      | 13/30 [00:41<00:53,  3.17s/it]\u001b[A\n",
      "[Succeeded / Failed / Skipped / Total] 8 / 2 / 3 / 13:  47%|███████████████████████████████▋                                    | 14/30 [00:43<00:49,  3.08s/it]\u001b[A\n",
      "[Succeeded / Failed / Skipped / Total] 9 / 2 / 3 / 14:  47%|███████████████████████████████▋                                    | 14/30 [00:43<00:49,  3.08s/it]\u001b[A\n",
      "[Succeeded / Failed / Skipped / Total] 9 / 2 / 3 / 14:  50%|██████████████████████████████████                                  | 15/30 [00:51<00:51,  3.43s/it]\u001b[A\n",
      "[Succeeded / Failed / Skipped / Total] 9 / 3 / 3 / 15:  50%|██████████████████████████████████                                  | 15/30 [00:51<00:51,  3.44s/it]\u001b[Atextattack: Saving checkpoint under \"checkpoints/1713627530577.ta.chkpt\" at 2024-04-20 15:38:50 after 15 attacks.\n"
     ]
    },
    {
     "name": "stdout",
     "output_type": "stream",
     "text": [
      "\n",
      "\n",
      "=============================================================================================================================\n",
      "=============================================================================================================================\n",
      "\n"
     ]
    },
    {
     "name": "stderr",
     "output_type": "stream",
     "text": [
      "\n",
      "[Succeeded / Failed / Skipped / Total] 9 / 3 / 3 / 15:  53%|████████████████████████████████████▎                               | 16/30 [01:02<00:54,  3.88s/it]\u001b[A\n",
      "[Succeeded / Failed / Skipped / Total] 10 / 3 / 3 / 16:  53%|███████████████████████████████████▋                               | 16/30 [01:02<00:54,  3.89s/it]\u001b[A\n",
      "[Succeeded / Failed / Skipped / Total] 10 / 3 / 3 / 16:  57%|█████████████████████████████████████▉                             | 17/30 [01:06<00:50,  3.89s/it]\u001b[A\n",
      "[Succeeded / Failed / Skipped / Total] 11 / 3 / 3 / 17:  57%|█████████████████████████████████████▉                             | 17/30 [01:06<00:50,  3.89s/it]\u001b[A\n",
      "[Succeeded / Failed / Skipped / Total] 11 / 3 / 4 / 18:  60%|████████████████████████████████████████▏                          | 18/30 [01:06<00:44,  3.67s/it]\u001b[A\n",
      "[Succeeded / Failed / Skipped / Total] 11 / 3 / 4 / 18:  63%|██████████████████████████████████████████▍                        | 19/30 [01:12<00:42,  3.84s/it]\u001b[A\n",
      "[Succeeded / Failed / Skipped / Total] 12 / 3 / 4 / 19:  63%|██████████████████████████████████████████▍                        | 19/30 [01:12<00:42,  3.84s/it]\u001b[A\n",
      "[Succeeded / Failed / Skipped / Total] 13 / 3 / 4 / 20:  67%|████████████████████████████████████████████▋                      | 20/30 [01:20<00:40,  4.01s/it]\u001b[Atextattack: Saving checkpoint under \"checkpoints/1713627559146.ta.chkpt\" at 2024-04-20 15:39:19 after 20 attacks.\n"
     ]
    },
    {
     "name": "stdout",
     "output_type": "stream",
     "text": [
      "\n",
      "\n",
      "=============================================================================================================================\n",
      "=============================================================================================================================\n",
      "\n"
     ]
    },
    {
     "name": "stderr",
     "output_type": "stream",
     "text": [
      "\n",
      "[Succeeded / Failed / Skipped / Total] 13 / 3 / 4 / 20:  70%|██████████████████████████████████████████████▉                    | 21/30 [01:25<00:36,  4.09s/it]\u001b[A\n",
      "[Succeeded / Failed / Skipped / Total] 14 / 3 / 4 / 21:  70%|██████████████████████████████████████████████▉                    | 21/30 [01:25<00:36,  4.09s/it]\u001b[A\n",
      "[Succeeded / Failed / Skipped / Total] 14 / 3 / 4 / 21:  73%|█████████████████████████████████████████████████▏                 | 22/30 [01:34<00:34,  4.30s/it]\u001b[A\n",
      "[Succeeded / Failed / Skipped / Total] 14 / 4 / 4 / 22:  73%|█████████████████████████████████████████████████▏                 | 22/30 [01:34<00:34,  4.31s/it]\u001b[A\n",
      "[Succeeded / Failed / Skipped / Total] 14 / 4 / 4 / 22:  77%|███████████████████████████████████████████████████▎               | 23/30 [01:37<00:29,  4.24s/it]\u001b[A\n",
      "[Succeeded / Failed / Skipped / Total] 15 / 4 / 4 / 23:  77%|███████████████████████████████████████████████████▎               | 23/30 [01:37<00:29,  4.24s/it]\u001b[A\n",
      "[Succeeded / Failed / Skipped / Total] 15 / 4 / 4 / 23:  80%|█████████████████████████████████████████████████████▌             | 24/30 [01:46<00:26,  4.46s/it]\u001b[A\n",
      "[Succeeded / Failed / Skipped / Total] 16 / 4 / 4 / 24:  80%|█████████████████████████████████████████████████████▌             | 24/30 [01:47<00:26,  4.46s/it]\u001b[A\n",
      "[Succeeded / Failed / Skipped / Total] 16 / 4 / 4 / 24:  83%|███████████████████████████████████████████████████████▊           | 25/30 [01:55<00:23,  4.64s/it]\u001b[A\n",
      "[Succeeded / Failed / Skipped / Total] 17 / 4 / 4 / 25:  83%|███████████████████████████████████████████████████████▊           | 25/30 [01:55<00:23,  4.64s/it]\u001b[Atextattack: Saving checkpoint under \"checkpoints/1713627594970.ta.chkpt\" at 2024-04-20 15:39:54 after 25 attacks.\n"
     ]
    },
    {
     "name": "stdout",
     "output_type": "stream",
     "text": [
      "\n",
      "\n",
      "=============================================================================================================================\n",
      "=============================================================================================================================\n",
      "\n"
     ]
    },
    {
     "name": "stderr",
     "output_type": "stream",
     "text": [
      "\n",
      "[Succeeded / Failed / Skipped / Total] 17 / 4 / 4 / 25:  87%|██████████████████████████████████████████████████████████         | 26/30 [02:11<00:20,  5.08s/it]\u001b[A\n",
      "[Succeeded / Failed / Skipped / Total] 17 / 5 / 4 / 26:  87%|██████████████████████████████████████████████████████████         | 26/30 [02:12<00:20,  5.08s/it]\u001b[A\n",
      "[Succeeded / Failed / Skipped / Total] 17 / 5 / 4 / 26:  90%|████████████████████████████████████████████████████████████▎      | 27/30 [02:18<00:15,  5.11s/it]\u001b[A\n",
      "[Succeeded / Failed / Skipped / Total] 18 / 5 / 4 / 27:  90%|████████████████████████████████████████████████████████████▎      | 27/30 [02:18<00:15,  5.12s/it]\u001b[A\n",
      "[Succeeded / Failed / Skipped / Total] 18 / 5 / 4 / 27:  93%|██████████████████████████████████████████████████████████████▌    | 28/30 [02:23<00:10,  5.14s/it]\u001b[A\n",
      "[Succeeded / Failed / Skipped / Total] 19 / 5 / 4 / 28:  93%|██████████████████████████████████████████████████████████████▌    | 28/30 [02:23<00:10,  5.14s/it]\u001b[A\n",
      "[Succeeded / Failed / Skipped / Total] 19 / 5 / 5 / 29:  97%|████████████████████████████████████████████████████████████████▊  | 29/30 [02:23<00:04,  4.96s/it]\u001b[A\n",
      "[Succeeded / Failed / Skipped / Total] 19 / 5 / 5 / 29: 100%|███████████████████████████████████████████████████████████████████| 30/30 [02:25<00:00,  4.86s/it]\u001b[A\n",
      "[Succeeded / Failed / Skipped / Total] 20 / 5 / 5 / 30: 100%|███████████████████████████████████████████████████████████████████| 30/30 [02:25<00:00,  4.86s/it]\u001b[Atextattack: Saving checkpoint under \"checkpoints/1713627624975.ta.chkpt\" at 2024-04-20 15:40:24 after 30 attacks.\n",
      "[Succeeded / Failed / Skipped / Total] 20 / 5 / 5 / 30: 100%|███████████████████████████████████████████████████████████████████| 30/30 [02:25<00:00,  4.86s/it]"
     ]
    },
    {
     "name": "stdout",
     "output_type": "stream",
     "text": [
      "\n",
      "\n",
      "=============================================================================================================================\n",
      "=============================================================================================================================\n",
      "\n",
      "\n",
      "+-------------------------------+--------+\n",
      "| Attack Results                |        |\n",
      "+-------------------------------+--------+\n",
      "| Number of successful attacks: | 20     |\n",
      "| Number of failed attacks:     | 5      |\n",
      "| Number of skipped attacks:    | 5      |\n",
      "| Original accuracy:            | 83.33% |\n",
      "| Accuracy under attack:        | 16.67% |\n",
      "| Attack success rate:          | 80.0%  |\n",
      "| Average perturbed word %:     | 9.25%  |\n",
      "| Average num. words per input: | 22.7   |\n",
      "| Avg num queries:              | 361.6  |\n",
      "+-------------------------------+--------+"
     ]
    },
    {
     "name": "stderr",
     "output_type": "stream",
     "text": [
      "\n"
     ]
    },
    {
     "name": "stdout",
     "output_type": "stream",
     "text": [
      "\n"
     ]
    },
    {
     "name": "stderr",
     "output_type": "stream",
     "text": [
      "textattack: Unknown if model of class <class 'models.model_1.ad_transformer'> compatible with goal function <class 'textattack.goal_functions.classification.targeted_classification.TargetedClassification'>.\n",
      "textattack: Logging to CSV at path rank/log_11.csv\n"
     ]
    },
    {
     "name": "stdout",
     "output_type": "stream",
     "text": [
      "Attack(\n",
      "  (search_method): GreedySearch\n",
      "  (goal_function):  TargetedClassification(\n",
      "    (target_class):  1\n",
      "  )\n",
      "  (transformation):  WordSwapEmbedding(\n",
      "    (max_candidates):  15\n",
      "    (embedding):  WordEmbedding\n",
      "  )\n",
      "  (constraints): \n",
      "    (0): RepeatModification\n",
      "    (1): StopwordModification\n",
      "  (is_black_box):  True\n",
      ") \n",
      "\n"
     ]
    },
    {
     "name": "stderr",
     "output_type": "stream",
     "text": [
      "\n",
      "  0%|                                                                                                                                    | 0/30 [00:00<?, ?it/s]\u001b[A\n",
      "[Succeeded / Failed / Skipped / Total] 0 / 0 / 1 / 1:   3%|██▎                                                                   | 1/30 [00:00<00:01, 21.96it/s]\u001b[A\n",
      "[Succeeded / Failed / Skipped / Total] 0 / 0 / 2 / 2:   7%|████▋                                                                 | 2/30 [00:00<00:01, 16.50it/s]\u001b[A\n",
      "[Succeeded / Failed / Skipped / Total] 0 / 0 / 2 / 2:  10%|███████                                                               | 3/30 [00:03<00:33,  1.26s/it]\u001b[A\n",
      "[Succeeded / Failed / Skipped / Total] 1 / 0 / 2 / 3:  10%|███████                                                               | 3/30 [00:03<00:34,  1.27s/it]\u001b[A\n",
      "[Succeeded / Failed / Skipped / Total] 1 / 0 / 3 / 4:  13%|█████████▎                                                            | 4/30 [00:03<00:24,  1.04it/s]\u001b[A\n",
      "[Succeeded / Failed / Skipped / Total] 2 / 0 / 3 / 5:  17%|███████████▋                                                          | 5/30 [00:07<00:35,  1.44s/it]\u001b[Atextattack: Saving checkpoint under \"checkpoints/1713627640510.ta.chkpt\" at 2024-04-20 15:40:40 after 5 attacks.\n"
     ]
    },
    {
     "name": "stdout",
     "output_type": "stream",
     "text": [
      "\n",
      "\n",
      "=============================================================================================================================\n",
      "=============================================================================================================================\n",
      "\n"
     ]
    },
    {
     "name": "stderr",
     "output_type": "stream",
     "text": [
      "\n",
      "[Succeeded / Failed / Skipped / Total] 2 / 0 / 3 / 5:  20%|██████████████                                                        | 6/30 [00:10<00:42,  1.78s/it]\u001b[A\n",
      "[Succeeded / Failed / Skipped / Total] 3 / 0 / 3 / 6:  20%|██████████████                                                        | 6/30 [00:10<00:42,  1.79s/it]\u001b[A\n",
      "[Succeeded / Failed / Skipped / Total] 4 / 0 / 3 / 7:  23%|████████████████▎                                                     | 7/30 [00:14<00:47,  2.06s/it]\u001b[A\n",
      "[Succeeded / Failed / Skipped / Total] 4 / 1 / 3 / 8:  27%|██████████████████▋                                                   | 8/30 [00:15<00:41,  1.90s/it]\u001b[A\n",
      "[Succeeded / Failed / Skipped / Total] 4 / 1 / 3 / 8:  30%|█████████████████████                                                 | 9/30 [00:19<00:44,  2.13s/it]\u001b[A\n",
      "[Succeeded / Failed / Skipped / Total] 5 / 1 / 3 / 9:  30%|█████████████████████                                                 | 9/30 [00:19<00:44,  2.13s/it]\u001b[A\n",
      "[Succeeded / Failed / Skipped / Total] 6 / 1 / 3 / 10:  33%|██████████████████████▋                                             | 10/30 [00:22<00:44,  2.21s/it]\u001b[Atextattack: Saving checkpoint under \"checkpoints/1713627655401.ta.chkpt\" at 2024-04-20 15:40:55 after 10 attacks.\n"
     ]
    },
    {
     "name": "stdout",
     "output_type": "stream",
     "text": [
      "\n",
      "\n",
      "=============================================================================================================================\n",
      "=============================================================================================================================\n",
      "\n"
     ]
    },
    {
     "name": "stderr",
     "output_type": "stream",
     "text": [
      "\n",
      "[Succeeded / Failed / Skipped / Total] 7 / 1 / 3 / 11:  37%|████████████████████████▉                                           | 11/30 [00:25<00:44,  2.35s/it]\u001b[A\n",
      "[Succeeded / Failed / Skipped / Total] 7 / 1 / 3 / 11:  40%|███████████████████████████▏                                        | 12/30 [00:35<00:52,  2.94s/it]\u001b[A\n",
      "[Succeeded / Failed / Skipped / Total] 7 / 2 / 3 / 12:  40%|███████████████████████████▏                                        | 12/30 [00:35<00:52,  2.94s/it]\u001b[A\n",
      "[Succeeded / Failed / Skipped / Total] 7 / 2 / 3 / 12:  43%|█████████████████████████████▍                                      | 13/30 [00:43<00:57,  3.38s/it]\u001b[A\n",
      "[Succeeded / Failed / Skipped / Total] 7 / 3 / 3 / 13:  43%|█████████████████████████████▍                                      | 13/30 [00:43<00:57,  3.38s/it]\u001b[A\n",
      "[Succeeded / Failed / Skipped / Total] 7 / 3 / 3 / 13:  47%|███████████████████████████████▋                                    | 14/30 [00:45<00:52,  3.28s/it]\u001b[A\n",
      "[Succeeded / Failed / Skipped / Total] 8 / 3 / 3 / 14:  47%|███████████████████████████████▋                                    | 14/30 [00:46<00:52,  3.29s/it]\u001b[A\n",
      "[Succeeded / Failed / Skipped / Total] 8 / 3 / 3 / 14:  50%|██████████████████████████████████                                  | 15/30 [00:54<00:54,  3.65s/it]\u001b[A\n",
      "[Succeeded / Failed / Skipped / Total] 8 / 4 / 3 / 15:  50%|██████████████████████████████████                                  | 15/30 [00:54<00:54,  3.65s/it]\u001b[Atextattack: Saving checkpoint under \"checkpoints/1713627688057.ta.chkpt\" at 2024-04-20 15:41:28 after 15 attacks.\n"
     ]
    },
    {
     "name": "stdout",
     "output_type": "stream",
     "text": [
      "\n",
      "\n",
      "=============================================================================================================================\n",
      "=============================================================================================================================\n",
      "\n"
     ]
    },
    {
     "name": "stderr",
     "output_type": "stream",
     "text": [
      "\n",
      "[Succeeded / Failed / Skipped / Total] 8 / 4 / 3 / 15:  53%|████████████████████████████████████▎                               | 16/30 [01:07<00:59,  4.25s/it]\u001b[A\n",
      "[Succeeded / Failed / Skipped / Total] 8 / 5 / 3 / 16:  53%|████████████████████████████████████▎                               | 16/30 [01:07<00:59,  4.25s/it]\u001b[A\n",
      "[Succeeded / Failed / Skipped / Total] 8 / 5 / 3 / 16:  57%|██████████████████████████████████████▌                             | 17/30 [01:11<00:54,  4.21s/it]\u001b[A\n",
      "[Succeeded / Failed / Skipped / Total] 9 / 5 / 3 / 17:  57%|██████████████████████████████████████▌                             | 17/30 [01:11<00:54,  4.21s/it]\u001b[A\n",
      "[Succeeded / Failed / Skipped / Total] 9 / 5 / 4 / 18:  60%|████████████████████████████████████████▊                           | 18/30 [01:11<00:47,  3.98s/it]\u001b[A\n",
      "[Succeeded / Failed / Skipped / Total] 9 / 5 / 4 / 18:  63%|███████████████████████████████████████████                         | 19/30 [01:18<00:45,  4.13s/it]\u001b[A\n",
      "[Succeeded / Failed / Skipped / Total] 10 / 5 / 4 / 19:  63%|██████████████████████████████████████████▍                        | 19/30 [01:18<00:45,  4.13s/it]\u001b[A\n",
      "[Succeeded / Failed / Skipped / Total] 11 / 5 / 4 / 20:  67%|████████████████████████████████████████████▋                      | 20/30 [01:25<00:42,  4.27s/it]\u001b[Atextattack: Saving checkpoint under \"checkpoints/1713627718792.ta.chkpt\" at 2024-04-20 15:41:58 after 20 attacks.\n"
     ]
    },
    {
     "name": "stdout",
     "output_type": "stream",
     "text": [
      "\n",
      "\n",
      "=============================================================================================================================\n",
      "=============================================================================================================================\n",
      "\n"
     ]
    },
    {
     "name": "stderr",
     "output_type": "stream",
     "text": [
      "\n",
      "[Succeeded / Failed / Skipped / Total] 11 / 5 / 4 / 20:  70%|██████████████████████████████████████████████▉                    | 21/30 [01:28<00:37,  4.22s/it]\u001b[A\n",
      "[Succeeded / Failed / Skipped / Total] 12 / 5 / 4 / 21:  70%|██████████████████████████████████████████████▉                    | 21/30 [01:28<00:38,  4.23s/it]\u001b[A\n",
      "[Succeeded / Failed / Skipped / Total] 12 / 5 / 4 / 21:  73%|█████████████████████████████████████████████████▏                 | 22/30 [01:37<00:35,  4.44s/it]\u001b[A\n",
      "[Succeeded / Failed / Skipped / Total] 12 / 6 / 4 / 22:  73%|█████████████████████████████████████████████████▏                 | 22/30 [01:37<00:35,  4.44s/it]\u001b[A\n",
      "[Succeeded / Failed / Skipped / Total] 12 / 6 / 4 / 22:  77%|███████████████████████████████████████████████████▎               | 23/30 [01:40<00:30,  4.36s/it]\u001b[A\n",
      "[Succeeded / Failed / Skipped / Total] 13 / 6 / 4 / 23:  77%|███████████████████████████████████████████████████▎               | 23/30 [01:40<00:30,  4.36s/it]\u001b[A\n",
      "[Succeeded / Failed / Skipped / Total] 13 / 6 / 4 / 23:  80%|█████████████████████████████████████████████████████▌             | 24/30 [01:49<00:27,  4.56s/it]\u001b[A\n",
      "[Succeeded / Failed / Skipped / Total] 14 / 6 / 4 / 24:  80%|█████████████████████████████████████████████████████▌             | 24/30 [01:49<00:27,  4.56s/it]\u001b[A\n",
      "[Succeeded / Failed / Skipped / Total] 14 / 6 / 4 / 24:  83%|███████████████████████████████████████████████████████▊           | 25/30 [02:00<00:24,  4.83s/it]\u001b[A\n",
      "[Succeeded / Failed / Skipped / Total] 15 / 6 / 4 / 25:  83%|███████████████████████████████████████████████████████▊           | 25/30 [02:00<00:24,  4.83s/it]\u001b[Atextattack: Saving checkpoint under \"checkpoints/1713627754069.ta.chkpt\" at 2024-04-20 15:42:34 after 25 attacks.\n"
     ]
    },
    {
     "name": "stdout",
     "output_type": "stream",
     "text": [
      "\n",
      "\n",
      "=============================================================================================================================\n",
      "=============================================================================================================================\n",
      "\n"
     ]
    },
    {
     "name": "stderr",
     "output_type": "stream",
     "text": [
      "\n",
      "[Succeeded / Failed / Skipped / Total] 15 / 6 / 4 / 25:  87%|██████████████████████████████████████████████████████████         | 26/30 [02:12<00:20,  5.11s/it]\u001b[A\n",
      "[Succeeded / Failed / Skipped / Total] 16 / 6 / 4 / 26:  87%|██████████████████████████████████████████████████████████         | 26/30 [02:12<00:20,  5.11s/it]\u001b[A\n",
      "[Succeeded / Failed / Skipped / Total] 16 / 6 / 4 / 26:  90%|████████████████████████████████████████████████████████████▎      | 27/30 [02:18<00:15,  5.15s/it]\u001b[A\n",
      "[Succeeded / Failed / Skipped / Total] 17 / 6 / 4 / 27:  90%|████████████████████████████████████████████████████████████▎      | 27/30 [02:18<00:15,  5.15s/it]\u001b[A\n",
      "[Succeeded / Failed / Skipped / Total] 17 / 6 / 4 / 27:  93%|██████████████████████████████████████████████████████████████▌    | 28/30 [02:27<00:10,  5.28s/it]\u001b[A\n",
      "[Succeeded / Failed / Skipped / Total] 18 / 6 / 4 / 28:  93%|██████████████████████████████████████████████████████████████▌    | 28/30 [02:27<00:10,  5.28s/it]\u001b[A\n",
      "[Succeeded / Failed / Skipped / Total] 18 / 6 / 4 / 28:  97%|████████████████████████████████████████████████████████████████▊  | 29/30 [02:30<00:05,  5.21s/it]\u001b[A\n",
      "[Succeeded / Failed / Skipped / Total] 19 / 6 / 4 / 29:  97%|████████████████████████████████████████████████████████████████▊  | 29/30 [02:31<00:05,  5.21s/it]\u001b[A\n",
      "[Succeeded / Failed / Skipped / Total] 19 / 6 / 4 / 29: 100%|███████████████████████████████████████████████████████████████████| 30/30 [02:33<00:00,  5.10s/it]\u001b[A\n",
      "[Succeeded / Failed / Skipped / Total] 20 / 6 / 4 / 30: 100%|███████████████████████████████████████████████████████████████████| 30/30 [02:33<00:00,  5.10s/it]\u001b[Atextattack: Saving checkpoint under \"checkpoints/1713627786420.ta.chkpt\" at 2024-04-20 15:43:06 after 30 attacks.\n",
      "[Succeeded / Failed / Skipped / Total] 20 / 6 / 4 / 30: 100%|███████████████████████████████████████████████████████████████████| 30/30 [02:33<00:00,  5.10s/it]"
     ]
    },
    {
     "name": "stdout",
     "output_type": "stream",
     "text": [
      "\n",
      "\n",
      "=============================================================================================================================\n",
      "=============================================================================================================================\n",
      "\n",
      "\n",
      "+-------------------------------+--------+\n",
      "| Attack Results                |        |\n",
      "+-------------------------------+--------+\n",
      "| Number of successful attacks: | 20     |\n",
      "| Number of failed attacks:     | 6      |\n",
      "| Number of skipped attacks:    | 4      |\n",
      "| Original accuracy:            | 86.67% |\n",
      "| Accuracy under attack:        | 20.0%  |\n",
      "| Attack success rate:          | 76.92% |\n",
      "| Average perturbed word %:     | 8.81%  |\n",
      "| Average num. words per input: | 22.7   |\n",
      "| Avg num queries:              | 363.31 |\n",
      "+-------------------------------+--------+"
     ]
    },
    {
     "name": "stderr",
     "output_type": "stream",
     "text": [
      "\n"
     ]
    },
    {
     "name": "stdout",
     "output_type": "stream",
     "text": [
      "\n"
     ]
    },
    {
     "name": "stderr",
     "output_type": "stream",
     "text": [
      "textattack: Unknown if model of class <class 'models.model_1.ad_transformer'> compatible with goal function <class 'textattack.goal_functions.classification.targeted_classification.TargetedClassification'>.\n",
      "textattack: Logging to CSV at path rank/log_16.csv\n"
     ]
    },
    {
     "name": "stdout",
     "output_type": "stream",
     "text": [
      "Attack(\n",
      "  (search_method): GreedySearch\n",
      "  (goal_function):  TargetedClassification(\n",
      "    (target_class):  1\n",
      "  )\n",
      "  (transformation):  WordSwapEmbedding(\n",
      "    (max_candidates):  15\n",
      "    (embedding):  WordEmbedding\n",
      "  )\n",
      "  (constraints): \n",
      "    (0): RepeatModification\n",
      "    (1): StopwordModification\n",
      "  (is_black_box):  True\n",
      ") \n",
      "\n"
     ]
    },
    {
     "name": "stderr",
     "output_type": "stream",
     "text": [
      "\n",
      "  0%|                                                                                                                                    | 0/30 [00:00<?, ?it/s]\u001b[A\n",
      "  3%|████▏                                                                                                                       | 1/30 [00:02<01:19,  2.74s/it]\u001b[A\n",
      "[Succeeded / Failed / Skipped / Total] 1 / 0 / 0 / 1:   3%|██▎                                                                   | 1/30 [00:02<01:20,  2.77s/it]\u001b[A\n",
      "[Succeeded / Failed / Skipped / Total] 1 / 0 / 1 / 2:   7%|████▋                                                                 | 2/30 [00:02<00:39,  1.40s/it]\u001b[A\n",
      "[Succeeded / Failed / Skipped / Total] 1 / 0 / 1 / 2:  10%|███████                                                               | 3/30 [00:06<00:57,  2.13s/it]\u001b[A\n",
      "[Succeeded / Failed / Skipped / Total] 2 / 0 / 1 / 3:  10%|███████                                                               | 3/30 [00:06<00:57,  2.14s/it]\u001b[A\n",
      "[Succeeded / Failed / Skipped / Total] 2 / 0 / 2 / 4:  13%|█████████▎                                                            | 4/30 [00:06<00:41,  1.61s/it]\u001b[A\n",
      "[Succeeded / Failed / Skipped / Total] 2 / 0 / 2 / 4:  17%|███████████▋                                                          | 5/30 [00:09<00:48,  1.95s/it]\u001b[A\n",
      "[Succeeded / Failed / Skipped / Total] 3 / 0 / 2 / 5:  17%|███████████▋                                                          | 5/30 [00:09<00:48,  1.96s/it]\u001b[Atextattack: Saving checkpoint under \"checkpoints/1713627803545.ta.chkpt\" at 2024-04-20 15:43:23 after 5 attacks.\n"
     ]
    },
    {
     "name": "stdout",
     "output_type": "stream",
     "text": [
      "\n",
      "\n",
      "=============================================================================================================================\n",
      "=============================================================================================================================\n",
      "\n"
     ]
    },
    {
     "name": "stderr",
     "output_type": "stream",
     "text": [
      "\n",
      "[Succeeded / Failed / Skipped / Total] 4 / 0 / 2 / 6:  20%|██████████████                                                        | 6/30 [00:13<00:53,  2.21s/it]\u001b[A\n",
      "[Succeeded / Failed / Skipped / Total] 4 / 0 / 2 / 6:  23%|████████████████▎                                                     | 7/30 [00:17<00:56,  2.44s/it]\u001b[A\n",
      "[Succeeded / Failed / Skipped / Total] 5 / 0 / 2 / 7:  23%|████████████████▎                                                     | 7/30 [00:17<00:56,  2.44s/it]\u001b[A\n",
      "[Succeeded / Failed / Skipped / Total] 5 / 1 / 2 / 8:  27%|██████████████████▋                                                   | 8/30 [00:17<00:49,  2.24s/it]\u001b[A\n",
      "[Succeeded / Failed / Skipped / Total] 5 / 1 / 2 / 8:  30%|█████████████████████                                                 | 9/30 [00:20<00:46,  2.23s/it]\u001b[A\n",
      "[Succeeded / Failed / Skipped / Total] 6 / 1 / 2 / 9:  30%|█████████████████████                                                 | 9/30 [00:20<00:46,  2.23s/it]\u001b[A\n",
      "[Succeeded / Failed / Skipped / Total] 7 / 1 / 2 / 10:  33%|██████████████████████▋                                             | 10/30 [00:22<00:45,  2.29s/it]\u001b[Atextattack: Saving checkpoint under \"checkpoints/1713627816697.ta.chkpt\" at 2024-04-20 15:43:36 after 10 attacks.\n"
     ]
    },
    {
     "name": "stdout",
     "output_type": "stream",
     "text": [
      "\n",
      "\n",
      "=============================================================================================================================\n",
      "=============================================================================================================================\n",
      "\n"
     ]
    },
    {
     "name": "stderr",
     "output_type": "stream",
     "text": [
      "\n",
      "[Succeeded / Failed / Skipped / Total] 7 / 1 / 2 / 10:  37%|████████████████████████▉                                           | 11/30 [00:26<00:46,  2.43s/it]\u001b[A\n",
      "[Succeeded / Failed / Skipped / Total] 8 / 1 / 2 / 11:  37%|████████████████████████▉                                           | 11/30 [00:26<00:46,  2.43s/it]\u001b[A\n",
      "[Succeeded / Failed / Skipped / Total] 9 / 1 / 2 / 12:  40%|███████████████████████████▏                                        | 12/30 [00:34<00:51,  2.85s/it]\u001b[A\n",
      "[Succeeded / Failed / Skipped / Total] 9 / 1 / 2 / 12:  40%|███████████████████████████▏                                        | 12/30 [00:36<00:55,  3.07s/it]\u001b[A\n",
      "[Succeeded / Failed / Skipped / Total] 9 / 1 / 2 / 12:  43%|█████████████████████████████▍                                      | 13/30 [00:42<00:56,  3.30s/it]\u001b[A\n",
      "[Succeeded / Failed / Skipped / Total] 9 / 2 / 2 / 13:  43%|█████████████████████████████▍                                      | 13/30 [00:42<00:56,  3.30s/it]\u001b[A\n",
      "[Succeeded / Failed / Skipped / Total] 9 / 2 / 2 / 13:  47%|███████████████████████████████▋                                    | 14/30 [00:44<00:51,  3.21s/it]\u001b[A\n",
      "[Succeeded / Failed / Skipped / Total] 10 / 2 / 2 / 14:  47%|███████████████████████████████▎                                   | 14/30 [00:44<00:51,  3.21s/it]\u001b[A\n",
      "[Succeeded / Failed / Skipped / Total] 10 / 2 / 2 / 14:  50%|█████████████████████████████████▌                                 | 15/30 [00:53<00:53,  3.60s/it]\u001b[A\n",
      "[Succeeded / Failed / Skipped / Total] 10 / 3 / 2 / 15:  50%|█████████████████████████████████▌                                 | 15/30 [00:54<00:54,  3.60s/it]\u001b[Atextattack: Saving checkpoint under \"checkpoints/1713627847766.ta.chkpt\" at 2024-04-20 15:44:07 after 15 attacks.\n"
     ]
    },
    {
     "name": "stdout",
     "output_type": "stream",
     "text": [
      "\n",
      "\n",
      "=============================================================================================================================\n",
      "=============================================================================================================================\n",
      "\n"
     ]
    },
    {
     "name": "stderr",
     "output_type": "stream",
     "text": [
      "\n",
      "[Succeeded / Failed / Skipped / Total] 10 / 3 / 2 / 15:  53%|███████████████████████████████████▋                               | 16/30 [01:06<00:58,  4.15s/it]\u001b[A\n",
      "[Succeeded / Failed / Skipped / Total] 11 / 3 / 2 / 16:  53%|███████████████████████████████████▋                               | 16/30 [01:06<00:58,  4.15s/it]\u001b[A\n",
      "[Succeeded / Failed / Skipped / Total] 11 / 3 / 2 / 16:  57%|█████████████████████████████████████▉                             | 17/30 [01:09<00:53,  4.11s/it]\u001b[A\n",
      "[Succeeded / Failed / Skipped / Total] 12 / 3 / 2 / 17:  57%|█████████████████████████████████████▉                             | 17/30 [01:09<00:53,  4.11s/it]\u001b[A\n",
      "[Succeeded / Failed / Skipped / Total] 12 / 3 / 3 / 18:  60%|████████████████████████████████████████▏                          | 18/30 [01:09<00:46,  3.89s/it]\u001b[A\n",
      "[Succeeded / Failed / Skipped / Total] 12 / 3 / 3 / 18:  63%|██████████████████████████████████████████▍                        | 19/30 [01:16<00:44,  4.04s/it]\u001b[A\n",
      "[Succeeded / Failed / Skipped / Total] 13 / 3 / 3 / 19:  63%|██████████████████████████████████████████▍                        | 19/30 [01:16<00:44,  4.04s/it]\u001b[A\n",
      "[Succeeded / Failed / Skipped / Total] 14 / 3 / 3 / 20:  67%|████████████████████████████████████████████▋                      | 20/30 [01:23<00:41,  4.20s/it]\u001b[Atextattack: Saving checkpoint under \"checkpoints/1713627877658.ta.chkpt\" at 2024-04-20 15:44:37 after 20 attacks.\n"
     ]
    },
    {
     "name": "stdout",
     "output_type": "stream",
     "text": [
      "\n",
      "\n",
      "=============================================================================================================================\n",
      "=============================================================================================================================\n",
      "\n"
     ]
    },
    {
     "name": "stderr",
     "output_type": "stream",
     "text": [
      "\n",
      "[Succeeded / Failed / Skipped / Total] 14 / 3 / 3 / 20:  67%|████████████████████████████████████████████▋                      | 20/30 [01:26<00:43,  4.34s/it]\u001b[A\n",
      "[Succeeded / Failed / Skipped / Total] 14 / 3 / 3 / 20:  70%|██████████████████████████████████████████████▉                    | 21/30 [01:29<00:38,  4.27s/it]\u001b[A\n",
      "[Succeeded / Failed / Skipped / Total] 15 / 3 / 3 / 21:  70%|██████████████████████████████████████████████▉                    | 21/30 [01:29<00:38,  4.27s/it]\u001b[A\n",
      "[Succeeded / Failed / Skipped / Total] 15 / 3 / 3 / 21:  73%|█████████████████████████████████████████████████▏                 | 22/30 [01:38<00:35,  4.47s/it]\u001b[A\n",
      "[Succeeded / Failed / Skipped / Total] 15 / 4 / 3 / 22:  73%|█████████████████████████████████████████████████▏                 | 22/30 [01:38<00:35,  4.48s/it]\u001b[A\n",
      "[Succeeded / Failed / Skipped / Total] 15 / 4 / 3 / 22:  77%|███████████████████████████████████████████████████▎               | 23/30 [01:43<00:31,  4.51s/it]\u001b[A\n",
      "[Succeeded / Failed / Skipped / Total] 16 / 4 / 3 / 23:  77%|███████████████████████████████████████████████████▎               | 23/30 [01:43<00:31,  4.51s/it]\u001b[A\n",
      "[Succeeded / Failed / Skipped / Total] 16 / 4 / 3 / 23:  80%|█████████████████████████████████████████████████████▌             | 24/30 [01:51<00:27,  4.65s/it]\u001b[A\n",
      "[Succeeded / Failed / Skipped / Total] 17 / 4 / 3 / 24:  80%|█████████████████████████████████████████████████████▌             | 24/30 [01:51<00:27,  4.65s/it]\u001b[A\n",
      "[Succeeded / Failed / Skipped / Total] 17 / 4 / 3 / 24:  83%|███████████████████████████████████████████████████████▊           | 25/30 [02:04<00:24,  5.00s/it]\u001b[A\n",
      "[Succeeded / Failed / Skipped / Total] 18 / 4 / 3 / 25:  83%|███████████████████████████████████████████████████████▊           | 25/30 [02:05<00:25,  5.00s/it]\u001b[Atextattack: Saving checkpoint under \"checkpoints/1713627918773.ta.chkpt\" at 2024-04-20 15:45:18 after 25 attacks.\n"
     ]
    },
    {
     "name": "stdout",
     "output_type": "stream",
     "text": [
      "\n",
      "\n",
      "=============================================================================================================================\n",
      "=============================================================================================================================\n",
      "\n"
     ]
    },
    {
     "name": "stderr",
     "output_type": "stream",
     "text": [
      "\n",
      "[Succeeded / Failed / Skipped / Total] 18 / 4 / 3 / 25:  87%|██████████████████████████████████████████████████████████         | 26/30 [02:15<00:20,  5.22s/it]\u001b[A\n",
      "[Succeeded / Failed / Skipped / Total] 19 / 4 / 3 / 26:  87%|██████████████████████████████████████████████████████████         | 26/30 [02:15<00:20,  5.22s/it]\u001b[A\n",
      "[Succeeded / Failed / Skipped / Total] 19 / 4 / 3 / 26:  90%|████████████████████████████████████████████████████████████▎      | 27/30 [02:21<00:15,  5.26s/it]\u001b[A\n",
      "[Succeeded / Failed / Skipped / Total] 20 / 4 / 3 / 27:  90%|████████████████████████████████████████████████████████████▎      | 27/30 [02:21<00:15,  5.26s/it]\u001b[A\n",
      "[Succeeded / Failed / Skipped / Total] 20 / 4 / 3 / 27:  93%|██████████████████████████████████████████████████████████████▌    | 28/30 [02:32<00:10,  5.45s/it]\u001b[A\n",
      "[Succeeded / Failed / Skipped / Total] 21 / 4 / 3 / 28:  93%|██████████████████████████████████████████████████████████████▌    | 28/30 [02:32<00:10,  5.45s/it]\u001b[A\n",
      "[Succeeded / Failed / Skipped / Total] 21 / 4 / 3 / 28:  97%|████████████████████████████████████████████████████████████████▊  | 29/30 [02:35<00:05,  5.36s/it]\u001b[A\n",
      "[Succeeded / Failed / Skipped / Total] 22 / 4 / 3 / 29:  97%|████████████████████████████████████████████████████████████████▊  | 29/30 [02:35<00:05,  5.36s/it]\u001b[A\n",
      "[Succeeded / Failed / Skipped / Total] 22 / 4 / 3 / 29: 100%|███████████████████████████████████████████████████████████████████| 30/30 [02:37<00:00,  5.24s/it]\u001b[A\n",
      "[Succeeded / Failed / Skipped / Total] 23 / 4 / 3 / 30: 100%|███████████████████████████████████████████████████████████████████| 30/30 [02:37<00:00,  5.25s/it]\u001b[Atextattack: Saving checkpoint under \"checkpoints/1713627951108.ta.chkpt\" at 2024-04-20 15:45:51 after 30 attacks.\n",
      "[Succeeded / Failed / Skipped / Total] 23 / 4 / 3 / 30: 100%|███████████████████████████████████████████████████████████████████| 30/30 [02:37<00:00,  5.25s/it]"
     ]
    },
    {
     "name": "stdout",
     "output_type": "stream",
     "text": [
      "\n",
      "\n",
      "=============================================================================================================================\n",
      "=============================================================================================================================\n",
      "\n",
      "\n",
      "+-------------------------------+--------+\n",
      "| Attack Results                |        |\n",
      "+-------------------------------+--------+\n",
      "| Number of successful attacks: | 23     |\n",
      "| Number of failed attacks:     | 4      |\n",
      "| Number of skipped attacks:    | 3      |\n",
      "| Original accuracy:            | 90.0%  |\n",
      "| Accuracy under attack:        | 13.33% |\n",
      "| Attack success rate:          | 85.19% |\n",
      "| Average perturbed word %:     | 10.87% |\n",
      "| Average num. words per input: | 22.7   |\n",
      "| Avg num queries:              | 361.0  |\n",
      "+-------------------------------+--------+"
     ]
    },
    {
     "name": "stderr",
     "output_type": "stream",
     "text": [
      "\n"
     ]
    },
    {
     "name": "stdout",
     "output_type": "stream",
     "text": [
      "\n"
     ]
    },
    {
     "name": "stderr",
     "output_type": "stream",
     "text": [
      "textattack: Unknown if model of class <class 'models.model_1.ad_transformer'> compatible with goal function <class 'textattack.goal_functions.classification.targeted_classification.TargetedClassification'>.\n",
      "textattack: Logging to CSV at path rank/log_21.csv\n"
     ]
    },
    {
     "name": "stdout",
     "output_type": "stream",
     "text": [
      "Attack(\n",
      "  (search_method): GreedySearch\n",
      "  (goal_function):  TargetedClassification(\n",
      "    (target_class):  1\n",
      "  )\n",
      "  (transformation):  WordSwapEmbedding(\n",
      "    (max_candidates):  15\n",
      "    (embedding):  WordEmbedding\n",
      "  )\n",
      "  (constraints): \n",
      "    (0): RepeatModification\n",
      "    (1): StopwordModification\n",
      "  (is_black_box):  True\n",
      ") \n",
      "\n"
     ]
    },
    {
     "name": "stderr",
     "output_type": "stream",
     "text": [
      "\n",
      "  0%|                                                                                                                                    | 0/30 [00:00<?, ?it/s]\u001b[A\n",
      "  3%|████▏                                                                                                                       | 1/30 [00:02<01:19,  2.75s/it]\u001b[A\n",
      "[Succeeded / Failed / Skipped / Total] 1 / 0 / 0 / 1:   3%|██▎                                                                   | 1/30 [00:02<01:20,  2.77s/it]\u001b[A\n",
      "[Succeeded / Failed / Skipped / Total] 1 / 0 / 1 / 2:   7%|████▋                                                                 | 2/30 [00:02<00:39,  1.40s/it]\u001b[A\n",
      "[Succeeded / Failed / Skipped / Total] 1 / 0 / 1 / 2:  10%|███████                                                               | 3/30 [00:06<01:01,  2.27s/it]\u001b[A\n",
      "[Succeeded / Failed / Skipped / Total] 2 / 0 / 1 / 3:  10%|███████                                                               | 3/30 [00:06<01:01,  2.28s/it]\u001b[A\n",
      "[Succeeded / Failed / Skipped / Total] 2 / 0 / 2 / 4:  13%|█████████▎                                                            | 4/30 [00:06<00:44,  1.72s/it]\u001b[A\n",
      "[Succeeded / Failed / Skipped / Total] 2 / 0 / 2 / 4:  17%|███████████▋                                                          | 5/30 [00:10<00:51,  2.06s/it]\u001b[A\n",
      "[Succeeded / Failed / Skipped / Total] 3 / 0 / 2 / 5:  17%|███████████▋                                                          | 5/30 [00:10<00:51,  2.06s/it]\u001b[Atextattack: Saving checkpoint under \"checkpoints/1713627968388.ta.chkpt\" at 2024-04-20 15:46:08 after 5 attacks.\n"
     ]
    },
    {
     "name": "stdout",
     "output_type": "stream",
     "text": [
      "\n",
      "\n",
      "=============================================================================================================================\n",
      "=============================================================================================================================\n",
      "\n"
     ]
    },
    {
     "name": "stderr",
     "output_type": "stream",
     "text": [
      "\n",
      "[Succeeded / Failed / Skipped / Total] 4 / 0 / 2 / 6:  20%|██████████████                                                        | 6/30 [00:13<00:55,  2.29s/it]\u001b[A\n",
      "[Succeeded / Failed / Skipped / Total] 4 / 0 / 2 / 6:  23%|████████████████▎                                                     | 7/30 [00:17<00:57,  2.49s/it]\u001b[A\n",
      "[Succeeded / Failed / Skipped / Total] 5 / 0 / 2 / 7:  23%|████████████████▎                                                     | 7/30 [00:17<00:57,  2.49s/it]\u001b[A\n",
      "[Succeeded / Failed / Skipped / Total] 5 / 1 / 2 / 8:  27%|██████████████████▋                                                   | 8/30 [00:18<00:50,  2.27s/it]\u001b[A\n",
      "[Succeeded / Failed / Skipped / Total] 5 / 1 / 2 / 8:  30%|█████████████████████                                                 | 9/30 [00:20<00:47,  2.26s/it]\u001b[A\n",
      "[Succeeded / Failed / Skipped / Total] 6 / 1 / 2 / 9:  30%|█████████████████████                                                 | 9/30 [00:20<00:47,  2.26s/it]\u001b[A\n",
      "[Succeeded / Failed / Skipped / Total] 7 / 1 / 2 / 10:  33%|██████████████████████▋                                             | 10/30 [00:23<00:46,  2.33s/it]\u001b[Atextattack: Saving checkpoint under \"checkpoints/1713627981377.ta.chkpt\" at 2024-04-20 15:46:21 after 10 attacks.\n"
     ]
    },
    {
     "name": "stdout",
     "output_type": "stream",
     "text": [
      "\n",
      "\n",
      "=============================================================================================================================\n",
      "=============================================================================================================================\n",
      "\n"
     ]
    },
    {
     "name": "stderr",
     "output_type": "stream",
     "text": [
      "\n",
      "[Succeeded / Failed / Skipped / Total] 7 / 1 / 2 / 10:  37%|████████████████████████▉                                           | 11/30 [00:27<00:46,  2.46s/it]\u001b[A\n",
      "[Succeeded / Failed / Skipped / Total] 8 / 1 / 2 / 11:  37%|████████████████████████▉                                           | 11/30 [00:27<00:46,  2.46s/it]\u001b[A\n",
      "[Succeeded / Failed / Skipped / Total] 9 / 1 / 2 / 12:  40%|███████████████████████████▏                                        | 12/30 [00:34<00:51,  2.87s/it]\u001b[A\n",
      "[Succeeded / Failed / Skipped / Total] 9 / 1 / 2 / 12:  40%|███████████████████████████▏                                        | 12/30 [00:42<01:03,  3.54s/it]\u001b[A\n",
      "[Succeeded / Failed / Skipped / Total] 9 / 1 / 2 / 12:  43%|█████████████████████████████▍                                      | 13/30 [00:43<00:56,  3.31s/it]\u001b[A\n",
      "[Succeeded / Failed / Skipped / Total] 9 / 2 / 2 / 13:  43%|█████████████████████████████▍                                      | 13/30 [00:43<00:56,  3.31s/it]\u001b[A\n",
      "[Succeeded / Failed / Skipped / Total] 9 / 2 / 2 / 13:  47%|███████████████████████████████▋                                    | 14/30 [00:45<00:51,  3.22s/it]\u001b[A\n",
      "[Succeeded / Failed / Skipped / Total] 10 / 2 / 2 / 14:  47%|███████████████████████████████▎                                   | 14/30 [00:45<00:51,  3.22s/it]\u001b[A\n",
      "[Succeeded / Failed / Skipped / Total] 10 / 2 / 2 / 14:  50%|█████████████████████████████████▌                                 | 15/30 [00:53<00:53,  3.58s/it]\u001b[A\n",
      "[Succeeded / Failed / Skipped / Total] 10 / 3 / 2 / 15:  50%|█████████████████████████████████▌                                 | 15/30 [00:53<00:53,  3.58s/it]\u001b[Atextattack: Saving checkpoint under \"checkpoints/1713628011823.ta.chkpt\" at 2024-04-20 15:46:51 after 15 attacks.\n"
     ]
    },
    {
     "name": "stdout",
     "output_type": "stream",
     "text": [
      "\n",
      "\n",
      "=============================================================================================================================\n",
      "=============================================================================================================================\n",
      "\n"
     ]
    },
    {
     "name": "stderr",
     "output_type": "stream",
     "text": [
      "\n",
      "[Succeeded / Failed / Skipped / Total] 10 / 3 / 2 / 15:  53%|███████████████████████████████████▋                               | 16/30 [01:07<00:59,  4.23s/it]\u001b[A\n",
      "[Succeeded / Failed / Skipped / Total] 10 / 4 / 2 / 16:  53%|███████████████████████████████████▋                               | 16/30 [01:07<00:59,  4.23s/it]\u001b[A\n",
      "[Succeeded / Failed / Skipped / Total] 10 / 4 / 2 / 16:  57%|█████████████████████████████████████▉                             | 17/30 [01:11<00:54,  4.20s/it]\u001b[A\n",
      "[Succeeded / Failed / Skipped / Total] 11 / 4 / 2 / 17:  57%|█████████████████████████████████████▉                             | 17/30 [01:11<00:54,  4.20s/it]\u001b[A\n",
      "[Succeeded / Failed / Skipped / Total] 11 / 4 / 3 / 18:  60%|████████████████████████████████████████▏                          | 18/30 [01:11<00:47,  3.97s/it]\u001b[A\n",
      "[Succeeded / Failed / Skipped / Total] 11 / 4 / 3 / 18:  63%|██████████████████████████████████████████▍                        | 19/30 [01:18<00:45,  4.12s/it]\u001b[A\n",
      "[Succeeded / Failed / Skipped / Total] 12 / 4 / 3 / 19:  63%|██████████████████████████████████████████▍                        | 19/30 [01:18<00:45,  4.13s/it]\u001b[A\n",
      "[Succeeded / Failed / Skipped / Total] 13 / 4 / 3 / 20:  67%|████████████████████████████████████████████▋                      | 20/30 [01:25<00:42,  4.27s/it]\u001b[Atextattack: Saving checkpoint under \"checkpoints/1713628043550.ta.chkpt\" at 2024-04-20 15:47:23 after 20 attacks.\n"
     ]
    },
    {
     "name": "stdout",
     "output_type": "stream",
     "text": [
      "\n",
      "\n",
      "=============================================================================================================================\n",
      "=============================================================================================================================\n",
      "\n"
     ]
    },
    {
     "name": "stderr",
     "output_type": "stream",
     "text": [
      "\n",
      "[Succeeded / Failed / Skipped / Total] 13 / 4 / 3 / 20:  70%|██████████████████████████████████████████████▉                    | 21/30 [01:31<00:39,  4.38s/it]\u001b[A\n",
      "[Succeeded / Failed / Skipped / Total] 14 / 4 / 3 / 21:  70%|██████████████████████████████████████████████▉                    | 21/30 [01:31<00:39,  4.38s/it]\u001b[A\n",
      "[Succeeded / Failed / Skipped / Total] 14 / 4 / 3 / 21:  73%|█████████████████████████████████████████████████▏                 | 22/30 [01:40<00:36,  4.58s/it]\u001b[A\n",
      "[Succeeded / Failed / Skipped / Total] 14 / 5 / 3 / 22:  73%|█████████████████████████████████████████████████▏                 | 22/30 [01:40<00:36,  4.58s/it]\u001b[A\n",
      "[Succeeded / Failed / Skipped / Total] 14 / 5 / 3 / 22:  77%|███████████████████████████████████████████████████▎               | 23/30 [01:45<00:32,  4.60s/it]\u001b[A\n",
      "[Succeeded / Failed / Skipped / Total] 15 / 5 / 3 / 23:  77%|███████████████████████████████████████████████████▎               | 23/30 [01:45<00:32,  4.60s/it]\u001b[A\n",
      "[Succeeded / Failed / Skipped / Total] 15 / 5 / 3 / 23:  80%|█████████████████████████████████████████████████████▌             | 24/30 [01:55<00:28,  4.80s/it]\u001b[A\n",
      "[Succeeded / Failed / Skipped / Total] 16 / 5 / 3 / 24:  80%|█████████████████████████████████████████████████████▌             | 24/30 [01:55<00:28,  4.80s/it]\u001b[A\n",
      "[Succeeded / Failed / Skipped / Total] 16 / 5 / 3 / 24:  83%|███████████████████████████████████████████████████████▊           | 25/30 [02:03<00:24,  4.96s/it]\u001b[A\n",
      "[Succeeded / Failed / Skipped / Total] 17 / 5 / 3 / 25:  83%|███████████████████████████████████████████████████████▊           | 25/30 [02:04<00:24,  4.96s/it]\u001b[Atextattack: Saving checkpoint under \"checkpoints/1713628082136.ta.chkpt\" at 2024-04-20 15:48:02 after 25 attacks.\n"
     ]
    },
    {
     "name": "stdout",
     "output_type": "stream",
     "text": [
      "\n",
      "\n",
      "=============================================================================================================================\n",
      "=============================================================================================================================\n",
      "\n"
     ]
    },
    {
     "name": "stderr",
     "output_type": "stream",
     "text": [
      "\n",
      "[Succeeded / Failed / Skipped / Total] 19 / 5 / 4 / 28:  97%|████████████████████████████████████████████████████████████████▊  | 29/30 [02:38<00:05,  5.45s/it]\u001b[A\n",
      "[Succeeded / Failed / Skipped / Total] 20 / 5 / 4 / 29:  97%|████████████████████████████████████████████████████████████████▊  | 29/30 [02:38<00:05,  5.45s/it]\u001b[A\n",
      "[Succeeded / Failed / Skipped / Total] 20 / 5 / 4 / 29: 100%|███████████████████████████████████████████████████████████████████| 30/30 [02:41<00:00,  5.39s/it]\u001b[A\n",
      "[Succeeded / Failed / Skipped / Total] 21 / 5 / 4 / 30: 100%|███████████████████████████████████████████████████████████████████| 30/30 [02:41<00:00,  5.40s/it]\u001b[Atextattack: Saving checkpoint under \"checkpoints/1713628462568.ta.chkpt\" at 2024-04-20 15:54:22 after 30 attacks.\n",
      "[Succeeded / Failed / Skipped / Total] 21 / 5 / 4 / 30: 100%|███████████████████████████████████████████████████████████████████| 30/30 [02:41<00:00,  5.40s/it]"
     ]
    },
    {
     "name": "stdout",
     "output_type": "stream",
     "text": [
      "\n",
      "\n",
      "=============================================================================================================================\n",
      "=============================================================================================================================\n",
      "\n",
      "\n",
      "+-------------------------------+--------+\n",
      "| Attack Results                |        |\n",
      "+-------------------------------+--------+\n",
      "| Number of successful attacks: | 21     |\n",
      "| Number of failed attacks:     | 5      |\n",
      "| Number of skipped attacks:    | 4      |\n",
      "| Original accuracy:            | 86.67% |\n",
      "| Accuracy under attack:        | 16.67% |\n",
      "| Attack success rate:          | 80.77% |\n",
      "| Average perturbed word %:     | 10.73% |\n",
      "| Average num. words per input: | 22.7   |\n",
      "| Avg num queries:              | 380.04 |\n",
      "+-------------------------------+--------+"
     ]
    },
    {
     "name": "stderr",
     "output_type": "stream",
     "text": [
      "\n"
     ]
    },
    {
     "name": "stdout",
     "output_type": "stream",
     "text": [
      "\n"
     ]
    },
    {
     "name": "stderr",
     "output_type": "stream",
     "text": [
      "textattack: Unknown if model of class <class 'models.model_1.ad_transformer'> compatible with goal function <class 'textattack.goal_functions.classification.targeted_classification.TargetedClassification'>.\n",
      "textattack: Logging to CSV at path rank/log_36.csv\n"
     ]
    },
    {
     "name": "stdout",
     "output_type": "stream",
     "text": [
      "Attack(\n",
      "  (search_method): GreedySearch\n",
      "  (goal_function):  TargetedClassification(\n",
      "    (target_class):  1\n",
      "  )\n",
      "  (transformation):  WordSwapEmbedding(\n",
      "    (max_candidates):  15\n",
      "    (embedding):  WordEmbedding\n",
      "  )\n",
      "  (constraints): \n",
      "    (0): RepeatModification\n",
      "    (1): StopwordModification\n",
      "  (is_black_box):  True\n",
      ") \n",
      "\n"
     ]
    },
    {
     "name": "stderr",
     "output_type": "stream",
     "text": [
      "\n",
      "  0%|                                                                                                                                    | 0/30 [00:00<?, ?it/s]\u001b[A\n",
      "[Succeeded / Failed / Skipped / Total] 0 / 0 / 1 / 1:   3%|██▎                                                                   | 1/30 [00:00<00:01, 17.37it/s]\u001b[A\n",
      "[Succeeded / Failed / Skipped / Total] 0 / 0 / 2 / 2:   7%|████▋                                                                 | 2/30 [00:00<00:01, 18.08it/s]\u001b[A\n",
      "[Succeeded / Failed / Skipped / Total] 0 / 0 / 2 / 2:  10%|███████                                                               | 3/30 [00:03<00:34,  1.28s/it]\u001b[A\n",
      "[Succeeded / Failed / Skipped / Total] 1 / 0 / 2 / 3:  10%|███████                                                               | 3/30 [00:03<00:34,  1.29s/it]\u001b[A\n",
      "[Succeeded / Failed / Skipped / Total] 1 / 0 / 3 / 4:  13%|█████████▎                                                            | 4/30 [00:03<00:25,  1.03it/s]\u001b[A\n",
      "[Succeeded / Failed / Skipped / Total] 2 / 0 / 3 / 5:  17%|███████████▋                                                          | 5/30 [00:07<00:36,  1.46s/it]\u001b[Atextattack: Saving checkpoint under \"checkpoints/1713628477129.ta.chkpt\" at 2024-04-20 15:54:37 after 5 attacks.\n"
     ]
    },
    {
     "name": "stdout",
     "output_type": "stream",
     "text": [
      "\n",
      "\n",
      "=============================================================================================================================\n",
      "=============================================================================================================================\n",
      "\n"
     ]
    },
    {
     "name": "stderr",
     "output_type": "stream",
     "text": [
      "\n",
      "[Succeeded / Failed / Skipped / Total] 2 / 0 / 3 / 5:  20%|██████████████                                                        | 6/30 [00:10<00:43,  1.80s/it]\u001b[A\n",
      "[Succeeded / Failed / Skipped / Total] 3 / 0 / 3 / 6:  20%|██████████████                                                        | 6/30 [00:10<00:43,  1.80s/it]\u001b[A\n",
      "[Succeeded / Failed / Skipped / Total] 4 / 0 / 3 / 7:  23%|████████████████▎                                                     | 7/30 [00:14<00:47,  2.08s/it]\u001b[A\n",
      "[Succeeded / Failed / Skipped / Total] 4 / 1 / 3 / 8:  27%|██████████████████▋                                                   | 8/30 [00:15<00:42,  1.92s/it]\u001b[A\n",
      "[Succeeded / Failed / Skipped / Total] 4 / 1 / 3 / 8:  30%|█████████████████████                                                 | 9/30 [00:21<00:49,  2.34s/it]\u001b[A\n",
      "[Succeeded / Failed / Skipped / Total] 5 / 1 / 3 / 9:  30%|█████████████████████                                                 | 9/30 [00:21<00:49,  2.34s/it]\u001b[A\n",
      "[Succeeded / Failed / Skipped / Total] 5 / 1 / 3 / 9:  33%|███████████████████████                                              | 10/30 [00:23<00:47,  2.40s/it]\u001b[A\n",
      "[Succeeded / Failed / Skipped / Total] 6 / 1 / 3 / 10:  33%|██████████████████████▋                                             | 10/30 [00:24<00:48,  2.40s/it]\u001b[Atextattack: Saving checkpoint under \"checkpoints/1713628493819.ta.chkpt\" at 2024-04-20 15:54:53 after 10 attacks.\n"
     ]
    },
    {
     "name": "stdout",
     "output_type": "stream",
     "text": [
      "\n",
      "\n",
      "=============================================================================================================================\n",
      "=============================================================================================================================\n",
      "\n"
     ]
    },
    {
     "name": "stderr",
     "output_type": "stream",
     "text": [
      "\n",
      "[Succeeded / Failed / Skipped / Total] 6 / 1 / 3 / 10:  37%|████████████████████████▉                                           | 11/30 [00:27<00:48,  2.53s/it]\u001b[A\n",
      "[Succeeded / Failed / Skipped / Total] 7 / 1 / 3 / 11:  37%|████████████████████████▉                                           | 11/30 [00:27<00:48,  2.53s/it]\u001b[A\n",
      "[Succeeded / Failed / Skipped / Total] 7 / 1 / 3 / 11:  40%|███████████████████████████▏                                        | 12/30 [00:31<00:47,  2.62s/it]\u001b[A\n",
      "[Succeeded / Failed / Skipped / Total] 8 / 1 / 3 / 12:  40%|███████████████████████████▏                                        | 12/30 [00:31<00:47,  2.63s/it]\u001b[A\n",
      "[Succeeded / Failed / Skipped / Total] 8 / 1 / 3 / 12:  43%|█████████████████████████████▍                                      | 13/30 [00:40<00:52,  3.11s/it]\u001b[A\n",
      "[Succeeded / Failed / Skipped / Total] 8 / 2 / 3 / 13:  43%|█████████████████████████████▍                                      | 13/30 [00:40<00:52,  3.11s/it]\u001b[A\n",
      "[Succeeded / Failed / Skipped / Total] 8 / 2 / 3 / 13:  47%|███████████████████████████████▋                                    | 14/30 [00:43<00:50,  3.14s/it]\u001b[A\n",
      "[Succeeded / Failed / Skipped / Total] 9 / 2 / 3 / 14:  47%|███████████████████████████████▋                                    | 14/30 [00:44<00:50,  3.14s/it]\u001b[A\n",
      "[Succeeded / Failed / Skipped / Total] 9 / 2 / 3 / 14:  50%|██████████████████████████████████                                  | 15/30 [00:52<00:52,  3.52s/it]\u001b[A\n",
      "[Succeeded / Failed / Skipped / Total] 9 / 3 / 3 / 15:  50%|██████████████████████████████████                                  | 15/30 [00:52<00:52,  3.52s/it]\u001b[Atextattack: Saving checkpoint under \"checkpoints/1713628522633.ta.chkpt\" at 2024-04-20 15:55:22 after 15 attacks.\n"
     ]
    },
    {
     "name": "stdout",
     "output_type": "stream",
     "text": [
      "\n",
      "\n",
      "=============================================================================================================================\n",
      "=============================================================================================================================\n",
      "\n"
     ]
    },
    {
     "name": "stderr",
     "output_type": "stream",
     "text": [
      "\n",
      "[Succeeded / Failed / Skipped / Total] 9 / 3 / 3 / 15:  53%|████████████████████████████████████▎                               | 16/30 [01:05<00:57,  4.12s/it]\u001b[A\n",
      "[Succeeded / Failed / Skipped / Total] 10 / 3 / 3 / 16:  53%|███████████████████████████████████▋                               | 16/30 [01:05<00:57,  4.12s/it]\u001b[A\n",
      "[Succeeded / Failed / Skipped / Total] 10 / 3 / 3 / 16:  57%|█████████████████████████████████████▉                             | 17/30 [01:09<00:53,  4.09s/it]\u001b[A\n",
      "[Succeeded / Failed / Skipped / Total] 11 / 3 / 3 / 17:  57%|█████████████████████████████████████▉                             | 17/30 [01:09<00:53,  4.09s/it]\u001b[A\n",
      "[Succeeded / Failed / Skipped / Total] 11 / 3 / 3 / 17:  60%|████████████████████████████████████████▏                          | 18/30 [01:12<00:48,  4.04s/it]\u001b[A\n",
      "[Succeeded / Failed / Skipped / Total] 12 / 3 / 3 / 18:  60%|████████████████████████████████████████▏                          | 18/30 [01:12<00:48,  4.04s/it]\u001b[A\n",
      "[Succeeded / Failed / Skipped / Total] 12 / 3 / 3 / 18:  63%|██████████████████████████████████████████▍                        | 19/30 [01:19<00:46,  4.19s/it]\u001b[A\n",
      "[Succeeded / Failed / Skipped / Total] 13 / 3 / 3 / 19:  63%|██████████████████████████████████████████▍                        | 19/30 [01:19<00:46,  4.20s/it]\u001b[A\n",
      "[Succeeded / Failed / Skipped / Total] 13 / 3 / 3 / 19:  67%|████████████████████████████████████████████▋                      | 20/30 [01:24<00:42,  4.23s/it]\u001b[A\n",
      "[Succeeded / Failed / Skipped / Total] 14 / 3 / 3 / 20:  67%|████████████████████████████████████████████▋                      | 20/30 [01:24<00:42,  4.23s/it]\u001b[Atextattack: Saving checkpoint under \"checkpoints/1713628554434.ta.chkpt\" at 2024-04-20 15:55:54 after 20 attacks.\n"
     ]
    },
    {
     "name": "stdout",
     "output_type": "stream",
     "text": [
      "\n",
      "\n",
      "=============================================================================================================================\n",
      "=============================================================================================================================\n",
      "\n"
     ]
    },
    {
     "name": "stderr",
     "output_type": "stream",
     "text": [
      "\n",
      "[Succeeded / Failed / Skipped / Total] 14 / 3 / 3 / 20:  70%|██████████████████████████████████████████████▉                    | 21/30 [01:30<00:38,  4.31s/it]\u001b[A\n",
      "[Succeeded / Failed / Skipped / Total] 15 / 3 / 3 / 21:  70%|██████████████████████████████████████████████▉                    | 21/30 [01:30<00:38,  4.31s/it]\u001b[A\n",
      "[Succeeded / Failed / Skipped / Total] 15 / 3 / 3 / 21:  73%|█████████████████████████████████████████████████▏                 | 22/30 [01:39<00:36,  4.54s/it]\u001b[A\n",
      "[Succeeded / Failed / Skipped / Total] 15 / 4 / 3 / 22:  73%|█████████████████████████████████████████████████▏                 | 22/30 [01:39<00:36,  4.54s/it]\u001b[A\n",
      "[Succeeded / Failed / Skipped / Total] 15 / 4 / 3 / 22:  77%|███████████████████████████████████████████████████▎               | 23/30 [01:45<00:32,  4.57s/it]\u001b[A\n",
      "[Succeeded / Failed / Skipped / Total] 16 / 4 / 3 / 23:  77%|███████████████████████████████████████████████████▎               | 23/30 [01:45<00:32,  4.57s/it]\u001b[A\n",
      "[Succeeded / Failed / Skipped / Total] 16 / 4 / 3 / 23:  80%|█████████████████████████████████████████████████████▌             | 24/30 [01:52<00:28,  4.69s/it]\u001b[A\n",
      "[Succeeded / Failed / Skipped / Total] 17 / 4 / 3 / 24:  80%|█████████████████████████████████████████████████████▌             | 24/30 [01:52<00:28,  4.70s/it]\u001b[A\n",
      "[Succeeded / Failed / Skipped / Total] 17 / 4 / 3 / 24:  83%|███████████████████████████████████████████████████████▊           | 25/30 [02:01<00:24,  4.86s/it]\u001b[A\n",
      "[Succeeded / Failed / Skipped / Total] 18 / 4 / 3 / 25:  83%|███████████████████████████████████████████████████████▊           | 25/30 [02:01<00:24,  4.87s/it]\u001b[Atextattack: Saving checkpoint under \"checkpoints/1713628591436.ta.chkpt\" at 2024-04-20 15:56:31 after 25 attacks.\n"
     ]
    },
    {
     "name": "stdout",
     "output_type": "stream",
     "text": [
      "\n",
      "\n",
      "=============================================================================================================================\n",
      "=============================================================================================================================\n",
      "\n"
     ]
    },
    {
     "name": "stderr",
     "output_type": "stream",
     "text": [
      "\n",
      "[Succeeded / Failed / Skipped / Total] 18 / 4 / 3 / 25:  87%|██████████████████████████████████████████████████████████         | 26/30 [02:16<00:21,  5.27s/it]\u001b[A\n",
      "[Succeeded / Failed / Skipped / Total] 19 / 4 / 3 / 26:  87%|██████████████████████████████████████████████████████████         | 26/30 [02:16<00:21,  5.27s/it]\u001b[A\n",
      "[Succeeded / Failed / Skipped / Total] 19 / 4 / 3 / 26:  90%|████████████████████████████████████████████████████████████▎      | 27/30 [02:23<00:15,  5.30s/it]\u001b[A\n",
      "[Succeeded / Failed / Skipped / Total] 20 / 4 / 3 / 27:  90%|████████████████████████████████████████████████████████████▎      | 27/30 [02:23<00:15,  5.30s/it]\u001b[A\n",
      "[Succeeded / Failed / Skipped / Total] 20 / 4 / 3 / 27:  93%|██████████████████████████████████████████████████████████████▌    | 28/30 [02:34<00:11,  5.52s/it]\u001b[A\n",
      "[Succeeded / Failed / Skipped / Total] 20 / 5 / 3 / 28:  93%|██████████████████████████████████████████████████████████████▌    | 28/30 [02:34<00:11,  5.52s/it]\u001b[A\n",
      "[Succeeded / Failed / Skipped / Total] 20 / 5 / 3 / 28:  97%|████████████████████████████████████████████████████████████████▊  | 29/30 [02:37<00:05,  5.43s/it]\u001b[A\n",
      "[Succeeded / Failed / Skipped / Total] 21 / 5 / 3 / 29:  97%|████████████████████████████████████████████████████████████████▊  | 29/30 [02:37<00:05,  5.43s/it]\u001b[A\n",
      "[Succeeded / Failed / Skipped / Total] 21 / 5 / 3 / 29: 100%|███████████████████████████████████████████████████████████████████| 30/30 [02:41<00:00,  5.38s/it]\u001b[A\n",
      "[Succeeded / Failed / Skipped / Total] 22 / 5 / 3 / 30: 100%|███████████████████████████████████████████████████████████████████| 30/30 [02:41<00:00,  5.38s/it]\u001b[Atextattack: Saving checkpoint under \"checkpoints/1713628631185.ta.chkpt\" at 2024-04-20 15:57:11 after 30 attacks.\n",
      "[Succeeded / Failed / Skipped / Total] 22 / 5 / 3 / 30: 100%|███████████████████████████████████████████████████████████████████| 30/30 [02:41<00:00,  5.38s/it]"
     ]
    },
    {
     "name": "stdout",
     "output_type": "stream",
     "text": [
      "\n",
      "\n",
      "=============================================================================================================================\n",
      "=============================================================================================================================\n",
      "\n",
      "\n",
      "+-------------------------------+--------+\n",
      "| Attack Results                |        |\n",
      "+-------------------------------+--------+\n",
      "| Number of successful attacks: | 22     |\n",
      "| Number of failed attacks:     | 5      |\n",
      "| Number of skipped attacks:    | 3      |\n",
      "| Original accuracy:            | 90.0%  |\n",
      "| Accuracy under attack:        | 16.67% |\n",
      "| Attack success rate:          | 81.48% |\n",
      "| Average perturbed word %:     | 10.57% |\n",
      "| Average num. words per input: | 22.7   |\n",
      "| Avg num queries:              | 366.0  |\n",
      "+-------------------------------+--------+"
     ]
    },
    {
     "name": "stderr",
     "output_type": "stream",
     "text": [
      "\n"
     ]
    },
    {
     "name": "stdout",
     "output_type": "stream",
     "text": [
      "\n"
     ]
    },
    {
     "name": "stderr",
     "output_type": "stream",
     "text": [
      "textattack: Unknown if model of class <class 'models.model_1.ad_transformer'> compatible with goal function <class 'textattack.goal_functions.classification.targeted_classification.TargetedClassification'>.\n",
      "textattack: Logging to CSV at path rank/log_41.csv\n"
     ]
    },
    {
     "name": "stdout",
     "output_type": "stream",
     "text": [
      "Attack(\n",
      "  (search_method): GreedySearch\n",
      "  (goal_function):  TargetedClassification(\n",
      "    (target_class):  1\n",
      "  )\n",
      "  (transformation):  WordSwapEmbedding(\n",
      "    (max_candidates):  15\n",
      "    (embedding):  WordEmbedding\n",
      "  )\n",
      "  (constraints): \n",
      "    (0): RepeatModification\n",
      "    (1): StopwordModification\n",
      "  (is_black_box):  True\n",
      ") \n",
      "\n"
     ]
    },
    {
     "name": "stderr",
     "output_type": "stream",
     "text": [
      "\n",
      "  0%|                                                                                                                                    | 0/30 [00:00<?, ?it/s]\u001b[A\n",
      "  3%|████▏                                                                                                                       | 1/30 [00:02<01:20,  2.76s/it]\u001b[A\n",
      "[Succeeded / Failed / Skipped / Total] 1 / 0 / 0 / 1:   3%|██▎                                                                   | 1/30 [00:02<01:20,  2.78s/it]\u001b[A\n",
      "[Succeeded / Failed / Skipped / Total] 1 / 0 / 1 / 2:   7%|████▋                                                                 | 2/30 [00:02<00:39,  1.41s/it]\u001b[A\n",
      "[Succeeded / Failed / Skipped / Total] 1 / 0 / 1 / 2:  10%|███████                                                               | 3/30 [00:06<00:58,  2.16s/it]\u001b[A\n",
      "[Succeeded / Failed / Skipped / Total] 2 / 0 / 1 / 3:  10%|███████                                                               | 3/30 [00:06<00:58,  2.17s/it]\u001b[A\n",
      "[Succeeded / Failed / Skipped / Total] 2 / 0 / 2 / 4:  13%|█████████▎                                                            | 4/30 [00:06<00:42,  1.63s/it]\u001b[A\n",
      "[Succeeded / Failed / Skipped / Total] 2 / 0 / 2 / 4:  17%|███████████▋                                                          | 5/30 [00:09<00:49,  1.99s/it]\u001b[A\n",
      "[Succeeded / Failed / Skipped / Total] 3 / 0 / 2 / 5:  17%|███████████▋                                                          | 5/30 [00:09<00:49,  1.99s/it]\u001b[Atextattack: Saving checkpoint under \"checkpoints/1713628648549.ta.chkpt\" at 2024-04-20 15:57:28 after 5 attacks.\n"
     ]
    },
    {
     "name": "stdout",
     "output_type": "stream",
     "text": [
      "\n",
      "\n",
      "=============================================================================================================================\n",
      "=============================================================================================================================\n",
      "\n"
     ]
    },
    {
     "name": "stderr",
     "output_type": "stream",
     "text": [
      "\n",
      "[Succeeded / Failed / Skipped / Total] 4 / 0 / 2 / 6:  20%|██████████████                                                        | 6/30 [00:13<00:54,  2.25s/it]\u001b[A\n",
      "[Succeeded / Failed / Skipped / Total] 4 / 0 / 2 / 6:  23%|████████████████▎                                                     | 7/30 [00:17<00:56,  2.46s/it]\u001b[A\n",
      "[Succeeded / Failed / Skipped / Total] 5 / 0 / 2 / 7:  23%|████████████████▎                                                     | 7/30 [00:17<00:56,  2.47s/it]\u001b[A\n",
      "[Succeeded / Failed / Skipped / Total] 5 / 1 / 2 / 8:  27%|██████████████████▋                                                   | 8/30 [00:18<00:49,  2.25s/it]\u001b[A\n",
      "[Succeeded / Failed / Skipped / Total] 5 / 1 / 2 / 8:  30%|█████████████████████                                                 | 9/30 [00:22<00:52,  2.48s/it]\u001b[A\n",
      "[Succeeded / Failed / Skipped / Total] 6 / 1 / 2 / 9:  30%|█████████████████████                                                 | 9/30 [00:22<00:52,  2.48s/it]\u001b[A\n",
      "[Succeeded / Failed / Skipped / Total] 7 / 1 / 2 / 10:  33%|██████████████████████▋                                             | 10/30 [00:25<00:50,  2.54s/it]\u001b[Atextattack: Saving checkpoint under \"checkpoints/1713628663954.ta.chkpt\" at 2024-04-20 15:57:43 after 10 attacks.\n"
     ]
    },
    {
     "name": "stdout",
     "output_type": "stream",
     "text": [
      "\n",
      "\n",
      "=============================================================================================================================\n",
      "=============================================================================================================================\n",
      "\n"
     ]
    },
    {
     "name": "stderr",
     "output_type": "stream",
     "text": [
      "\n",
      "[Succeeded / Failed / Skipped / Total] 7 / 1 / 2 / 10:  37%|████████████████████████▉                                           | 11/30 [00:29<00:50,  2.65s/it]\u001b[A\n",
      "[Succeeded / Failed / Skipped / Total] 8 / 1 / 2 / 11:  37%|████████████████████████▉                                           | 11/30 [00:29<00:50,  2.66s/it]\u001b[A\n",
      "[Succeeded / Failed / Skipped / Total] 9 / 1 / 2 / 12:  40%|███████████████████████████▏                                        | 12/30 [00:34<00:51,  2.87s/it]\u001b[A\n",
      "[Succeeded / Failed / Skipped / Total] 9 / 1 / 2 / 12:  40%|███████████████████████████▏                                        | 12/30 [00:42<01:03,  3.50s/it]\u001b[A\n",
      "[Succeeded / Failed / Skipped / Total] 9 / 1 / 2 / 12:  43%|█████████████████████████████▍                                      | 13/30 [00:42<00:55,  3.28s/it]\u001b[A\n",
      "[Succeeded / Failed / Skipped / Total] 9 / 2 / 2 / 13:  43%|█████████████████████████████▍                                      | 13/30 [00:42<00:55,  3.28s/it]\u001b[A\n",
      "[Succeeded / Failed / Skipped / Total] 9 / 2 / 2 / 13:  47%|███████████████████████████████▋                                    | 14/30 [00:46<00:53,  3.33s/it]\u001b[A\n",
      "[Succeeded / Failed / Skipped / Total] 10 / 2 / 2 / 14:  47%|███████████████████████████████▎                                   | 14/30 [00:46<00:53,  3.33s/it]\u001b[A\n",
      "[Succeeded / Failed / Skipped / Total] 10 / 2 / 2 / 14:  50%|█████████████████████████████████▌                                 | 15/30 [00:55<00:55,  3.68s/it]\u001b[A\n",
      "[Succeeded / Failed / Skipped / Total] 10 / 3 / 2 / 15:  50%|█████████████████████████████████▌                                 | 15/30 [00:55<00:55,  3.68s/it]\u001b[Atextattack: Saving checkpoint under \"checkpoints/1713628693770.ta.chkpt\" at 2024-04-20 15:58:13 after 15 attacks.\n"
     ]
    },
    {
     "name": "stdout",
     "output_type": "stream",
     "text": [
      "\n",
      "\n",
      "=============================================================================================================================\n",
      "=============================================================================================================================\n",
      "\n"
     ]
    },
    {
     "name": "stderr",
     "output_type": "stream",
     "text": [
      "\n",
      "[Succeeded / Failed / Skipped / Total] 10 / 3 / 2 / 15:  53%|███████████████████████████████████▋                               | 16/30 [01:08<00:59,  4.28s/it]\u001b[A\n",
      "[Succeeded / Failed / Skipped / Total] 10 / 4 / 2 / 16:  53%|███████████████████████████████████▋                               | 16/30 [01:08<00:59,  4.28s/it]\u001b[A\n",
      "[Succeeded / Failed / Skipped / Total] 10 / 4 / 2 / 16:  57%|█████████████████████████████████████▉                             | 17/30 [01:11<00:54,  4.23s/it]\u001b[A\n",
      "[Succeeded / Failed / Skipped / Total] 11 / 4 / 2 / 17:  57%|█████████████████████████████████████▉                             | 17/30 [01:11<00:55,  4.23s/it]\u001b[A\n",
      "[Succeeded / Failed / Skipped / Total] 11 / 4 / 2 / 17:  60%|████████████████████████████████████████▏                          | 18/30 [01:15<00:50,  4.17s/it]\u001b[A\n",
      "[Succeeded / Failed / Skipped / Total] 12 / 4 / 2 / 18:  60%|████████████████████████████████████████▏                          | 18/30 [01:15<00:50,  4.17s/it]\u001b[A\n",
      "[Succeeded / Failed / Skipped / Total] 12 / 4 / 2 / 18:  63%|██████████████████████████████████████████▍                        | 19/30 [01:21<00:47,  4.31s/it]\u001b[A\n",
      "[Succeeded / Failed / Skipped / Total] 13 / 4 / 2 / 19:  63%|██████████████████████████████████████████▍                        | 19/30 [01:21<00:47,  4.31s/it]\u001b[A\n",
      "[Succeeded / Failed / Skipped / Total] 13 / 4 / 2 / 19:  67%|████████████████████████████████████████████▋                      | 20/30 [01:27<00:43,  4.35s/it]\u001b[A\n",
      "[Succeeded / Failed / Skipped / Total] 14 / 4 / 2 / 20:  67%|████████████████████████████████████████████▋                      | 20/30 [01:27<00:43,  4.35s/it]\u001b[Atextattack: Saving checkpoint under \"checkpoints/1713628725626.ta.chkpt\" at 2024-04-20 15:58:45 after 20 attacks.\n"
     ]
    },
    {
     "name": "stdout",
     "output_type": "stream",
     "text": [
      "\n",
      "\n",
      "=============================================================================================================================\n",
      "=============================================================================================================================\n",
      "\n"
     ]
    },
    {
     "name": "stderr",
     "output_type": "stream",
     "text": [
      "\n",
      "[Succeeded / Failed / Skipped / Total] 14 / 4 / 2 / 20:  70%|██████████████████████████████████████████████▉                    | 21/30 [01:32<00:39,  4.43s/it]\u001b[A\n",
      "[Succeeded / Failed / Skipped / Total] 15 / 4 / 2 / 21:  70%|██████████████████████████████████████████████▉                    | 21/30 [01:32<00:39,  4.43s/it]\u001b[A\n",
      "[Succeeded / Failed / Skipped / Total] 15 / 4 / 2 / 21:  73%|█████████████████████████████████████████████████▏                 | 22/30 [01:41<00:37,  4.63s/it]\u001b[A\n",
      "[Succeeded / Failed / Skipped / Total] 15 / 5 / 2 / 22:  73%|█████████████████████████████████████████████████▏                 | 22/30 [01:41<00:37,  4.63s/it]\u001b[A\n",
      "[Succeeded / Failed / Skipped / Total] 15 / 5 / 2 / 22:  77%|███████████████████████████████████████████████████▎               | 23/30 [01:47<00:32,  4.67s/it]\u001b[A\n",
      "[Succeeded / Failed / Skipped / Total] 16 / 5 / 2 / 23:  77%|███████████████████████████████████████████████████▎               | 23/30 [01:47<00:32,  4.67s/it]\u001b[A\n",
      "[Succeeded / Failed / Skipped / Total] 16 / 5 / 2 / 23:  80%|█████████████████████████████████████████████████████▌             | 24/30 [01:54<00:28,  4.79s/it]\u001b[A\n",
      "[Succeeded / Failed / Skipped / Total] 17 / 5 / 2 / 24:  80%|█████████████████████████████████████████████████████▌             | 24/30 [01:54<00:28,  4.79s/it]\u001b[A\n",
      "[Succeeded / Failed / Skipped / Total] 17 / 5 / 2 / 24:  83%|███████████████████████████████████████████████████████▊           | 25/30 [02:08<00:25,  5.13s/it]\u001b[A\n",
      "[Succeeded / Failed / Skipped / Total] 18 / 5 / 2 / 25:  83%|███████████████████████████████████████████████████████▊           | 25/30 [02:08<00:25,  5.13s/it]\u001b[Atextattack: Saving checkpoint under \"checkpoints/1713628766967.ta.chkpt\" at 2024-04-20 15:59:26 after 25 attacks.\n"
     ]
    },
    {
     "name": "stdout",
     "output_type": "stream",
     "text": [
      "\n",
      "\n",
      "=============================================================================================================================\n",
      "=============================================================================================================================\n",
      "\n"
     ]
    },
    {
     "name": "stderr",
     "output_type": "stream",
     "text": [
      "\n",
      "[Succeeded / Failed / Skipped / Total] 18 / 5 / 2 / 25:  87%|██████████████████████████████████████████████████████████         | 26/30 [02:19<00:21,  5.35s/it]\u001b[A\n",
      "[Succeeded / Failed / Skipped / Total] 19 / 5 / 2 / 26:  87%|██████████████████████████████████████████████████████████         | 26/30 [02:19<00:21,  5.35s/it]\u001b[A\n",
      "[Succeeded / Failed / Skipped / Total] 19 / 5 / 2 / 26:  90%|████████████████████████████████████████████████████████████▎      | 27/30 [02:25<00:16,  5.38s/it]\u001b[A\n",
      "[Succeeded / Failed / Skipped / Total] 20 / 5 / 2 / 27:  90%|████████████████████████████████████████████████████████████▎      | 27/30 [02:25<00:16,  5.38s/it]\u001b[A\n",
      "[Succeeded / Failed / Skipped / Total] 20 / 5 / 2 / 27:  93%|██████████████████████████████████████████████████████████████▌    | 28/30 [02:36<00:11,  5.58s/it]\u001b[A\n",
      "[Succeeded / Failed / Skipped / Total] 20 / 6 / 2 / 28:  93%|██████████████████████████████████████████████████████████████▌    | 28/30 [02:36<00:11,  5.58s/it]\u001b[A\n",
      "[Succeeded / Failed / Skipped / Total] 20 / 6 / 2 / 28:  97%|████████████████████████████████████████████████████████████████▊  | 29/30 [02:39<00:05,  5.49s/it]\u001b[A\n",
      "[Succeeded / Failed / Skipped / Total] 21 / 6 / 2 / 29:  97%|████████████████████████████████████████████████████████████████▊  | 29/30 [02:39<00:05,  5.49s/it]\u001b[A\n",
      "[Succeeded / Failed / Skipped / Total] 21 / 6 / 2 / 29: 100%|███████████████████████████████████████████████████████████████████| 30/30 [02:43<00:00,  5.43s/it]\u001b[A\n",
      "[Succeeded / Failed / Skipped / Total] 22 / 6 / 2 / 30: 100%|███████████████████████████████████████████████████████████████████| 30/30 [02:43<00:00,  5.44s/it]\u001b[Atextattack: Saving checkpoint under \"checkpoints/1713628801729.ta.chkpt\" at 2024-04-20 16:00:01 after 30 attacks.\n",
      "[Succeeded / Failed / Skipped / Total] 22 / 6 / 2 / 30: 100%|███████████████████████████████████████████████████████████████████| 30/30 [02:43<00:00,  5.44s/it]"
     ]
    },
    {
     "name": "stdout",
     "output_type": "stream",
     "text": [
      "\n",
      "\n",
      "=============================================================================================================================\n",
      "=============================================================================================================================\n",
      "\n",
      "\n",
      "+-------------------------------+--------+\n",
      "| Attack Results                |        |\n",
      "+-------------------------------+--------+\n",
      "| Number of successful attacks: | 22     |\n",
      "| Number of failed attacks:     | 6      |\n",
      "| Number of skipped attacks:    | 2      |\n",
      "| Original accuracy:            | 93.33% |\n",
      "| Accuracy under attack:        | 20.0%  |\n",
      "| Attack success rate:          | 78.57% |\n",
      "| Average perturbed word %:     | 8.44%  |\n",
      "| Average num. words per input: | 22.7   |\n",
      "| Avg num queries:              | 359.39 |\n",
      "+-------------------------------+--------+"
     ]
    },
    {
     "name": "stderr",
     "output_type": "stream",
     "text": [
      "\n"
     ]
    },
    {
     "name": "stdout",
     "output_type": "stream",
     "text": [
      "\n"
     ]
    },
    {
     "name": "stderr",
     "output_type": "stream",
     "text": [
      "textattack: Unknown if model of class <class 'models.model_1.ad_transformer'> compatible with goal function <class 'textattack.goal_functions.classification.targeted_classification.TargetedClassification'>.\n",
      "textattack: Logging to CSV at path rank/log_46.csv\n"
     ]
    },
    {
     "name": "stdout",
     "output_type": "stream",
     "text": [
      "Attack(\n",
      "  (search_method): GreedySearch\n",
      "  (goal_function):  TargetedClassification(\n",
      "    (target_class):  1\n",
      "  )\n",
      "  (transformation):  WordSwapEmbedding(\n",
      "    (max_candidates):  15\n",
      "    (embedding):  WordEmbedding\n",
      "  )\n",
      "  (constraints): \n",
      "    (0): RepeatModification\n",
      "    (1): StopwordModification\n",
      "  (is_black_box):  True\n",
      ") \n",
      "\n"
     ]
    },
    {
     "name": "stderr",
     "output_type": "stream",
     "text": [
      "\n",
      "  0%|                                                                                                                                    | 0/30 [00:00<?, ?it/s]\u001b[A\n",
      "[Succeeded / Failed / Skipped / Total] 0 / 0 / 1 / 1:   3%|██▎                                                                   | 1/30 [00:00<00:01, 14.99it/s]\u001b[A\n",
      "[Succeeded / Failed / Skipped / Total] 0 / 0 / 2 / 2:   7%|████▋                                                                 | 2/30 [00:00<00:01, 17.12it/s]\u001b[A\n",
      "[Succeeded / Failed / Skipped / Total] 0 / 0 / 2 / 2:  10%|███████                                                               | 3/30 [00:03<00:34,  1.28s/it]\u001b[A\n",
      "[Succeeded / Failed / Skipped / Total] 1 / 0 / 2 / 3:  10%|███████                                                               | 3/30 [00:03<00:34,  1.29s/it]\u001b[A\n",
      "[Succeeded / Failed / Skipped / Total] 1 / 0 / 3 / 4:  13%|█████████▎                                                            | 4/30 [00:03<00:25,  1.03it/s]\u001b[A\n",
      "[Succeeded / Failed / Skipped / Total] 2 / 0 / 3 / 5:  17%|███████████▋                                                          | 5/30 [00:07<00:36,  1.46s/it]\u001b[Atextattack: Saving checkpoint under \"checkpoints/1713628818686.ta.chkpt\" at 2024-04-20 16:00:18 after 5 attacks.\n"
     ]
    },
    {
     "name": "stdout",
     "output_type": "stream",
     "text": [
      "\n",
      "\n",
      "=============================================================================================================================\n",
      "=============================================================================================================================\n",
      "\n"
     ]
    },
    {
     "name": "stderr",
     "output_type": "stream",
     "text": [
      "\n",
      "[Succeeded / Failed / Skipped / Total] 2 / 0 / 3 / 5:  20%|██████████████                                                        | 6/30 [00:10<00:42,  1.79s/it]\u001b[A\n",
      "[Succeeded / Failed / Skipped / Total] 3 / 0 / 3 / 6:  20%|██████████████                                                        | 6/30 [00:10<00:43,  1.79s/it]\u001b[A\n",
      "[Succeeded / Failed / Skipped / Total] 4 / 0 / 3 / 7:  23%|████████████████▎                                                     | 7/30 [00:14<00:47,  2.06s/it]\u001b[A\n",
      "[Succeeded / Failed / Skipped / Total] 4 / 1 / 3 / 8:  27%|██████████████████▋                                                   | 8/30 [00:15<00:41,  1.90s/it]\u001b[A\n",
      "[Succeeded / Failed / Skipped / Total] 4 / 1 / 3 / 8:  30%|█████████████████████                                                 | 9/30 [00:22<00:51,  2.47s/it]\u001b[A\n",
      "[Succeeded / Failed / Skipped / Total] 5 / 1 / 3 / 9:  30%|█████████████████████                                                 | 9/30 [00:22<00:51,  2.47s/it]\u001b[A\n",
      "[Succeeded / Failed / Skipped / Total] 5 / 1 / 3 / 9:  33%|███████████████████████                                              | 10/30 [00:25<00:50,  2.52s/it]\u001b[A\n",
      "[Succeeded / Failed / Skipped / Total] 6 / 1 / 3 / 10:  33%|██████████████████████▋                                             | 10/30 [00:25<00:50,  2.52s/it]\u001b[Atextattack: Saving checkpoint under \"checkpoints/1713628836581.ta.chkpt\" at 2024-04-20 16:00:36 after 10 attacks.\n"
     ]
    },
    {
     "name": "stdout",
     "output_type": "stream",
     "text": [
      "\n",
      "\n",
      "=============================================================================================================================\n",
      "=============================================================================================================================\n",
      "\n"
     ]
    },
    {
     "name": "stderr",
     "output_type": "stream",
     "text": [
      "\n",
      "[Succeeded / Failed / Skipped / Total] 6 / 1 / 3 / 10:  37%|████████████████████████▉                                           | 11/30 [00:29<00:50,  2.65s/it]\u001b[A\n",
      "[Succeeded / Failed / Skipped / Total] 7 / 1 / 3 / 11:  37%|████████████████████████▉                                           | 11/30 [00:29<00:50,  2.65s/it]\u001b[A\n",
      "[Succeeded / Failed / Skipped / Total] 7 / 1 / 3 / 11:  40%|███████████████████████████▏                                        | 12/30 [00:37<00:56,  3.17s/it]\u001b[A\n",
      "[Succeeded / Failed / Skipped / Total] 7 / 2 / 3 / 12:  40%|███████████████████████████▏                                        | 12/30 [00:38<00:57,  3.17s/it]\u001b[A\n",
      "[Succeeded / Failed / Skipped / Total] 7 / 2 / 3 / 12:  43%|█████████████████████████████▍                                      | 13/30 [00:46<01:00,  3.57s/it]\u001b[A\n",
      "[Succeeded / Failed / Skipped / Total] 7 / 3 / 3 / 13:  43%|█████████████████████████████▍                                      | 13/30 [00:46<01:00,  3.57s/it]\u001b[A\n",
      "[Succeeded / Failed / Skipped / Total] 7 / 3 / 3 / 13:  47%|███████████████████████████████▋                                    | 14/30 [00:49<00:57,  3.57s/it]\u001b[A\n",
      "[Succeeded / Failed / Skipped / Total] 8 / 3 / 3 / 14:  47%|███████████████████████████████▋                                    | 14/30 [00:49<00:57,  3.57s/it]\u001b[A\n",
      "[Succeeded / Failed / Skipped / Total] 8 / 3 / 3 / 14:  50%|██████████████████████████████████                                  | 15/30 [00:58<00:58,  3.91s/it]\u001b[A\n",
      "[Succeeded / Failed / Skipped / Total] 8 / 4 / 3 / 15:  50%|██████████████████████████████████                                  | 15/30 [00:58<00:58,  3.91s/it]\u001b[Atextattack: Saving checkpoint under \"checkpoints/1713628870092.ta.chkpt\" at 2024-04-20 16:01:10 after 15 attacks.\n"
     ]
    },
    {
     "name": "stdout",
     "output_type": "stream",
     "text": [
      "\n",
      "\n",
      "=============================================================================================================================\n",
      "=============================================================================================================================\n",
      "\n"
     ]
    },
    {
     "name": "stderr",
     "output_type": "stream",
     "text": [
      "\n",
      "[Succeeded / Failed / Skipped / Total] 8 / 4 / 3 / 15:  53%|████████████████████████████████████▎                               | 16/30 [01:11<01:02,  4.48s/it]\u001b[A\n",
      "[Succeeded / Failed / Skipped / Total] 9 / 4 / 3 / 16:  53%|████████████████████████████████████▎                               | 16/30 [01:11<01:02,  4.48s/it]\u001b[A\n",
      "[Succeeded / Failed / Skipped / Total] 9 / 4 / 3 / 16:  57%|██████████████████████████████████████▌                             | 17/30 [01:15<00:57,  4.43s/it]\u001b[A\n",
      "[Succeeded / Failed / Skipped / Total] 10 / 4 / 3 / 17:  57%|█████████████████████████████████████▉                             | 17/30 [01:15<00:57,  4.43s/it]\u001b[A\n",
      "[Succeeded / Failed / Skipped / Total] 10 / 4 / 4 / 18:  60%|████████████████████████████████████████▏                          | 18/30 [01:15<00:50,  4.19s/it]\u001b[A\n",
      "[Succeeded / Failed / Skipped / Total] 10 / 4 / 4 / 18:  63%|██████████████████████████████████████████▍                        | 19/30 [01:22<00:47,  4.34s/it]\u001b[A\n",
      "[Succeeded / Failed / Skipped / Total] 11 / 4 / 4 / 19:  63%|██████████████████████████████████████████▍                        | 19/30 [01:22<00:47,  4.34s/it]\u001b[A\n",
      "[Succeeded / Failed / Skipped / Total] 12 / 4 / 4 / 20:  67%|████████████████████████████████████████████▋                      | 20/30 [01:27<00:43,  4.37s/it]\u001b[Atextattack: Saving checkpoint under \"checkpoints/1713628898725.ta.chkpt\" at 2024-04-20 16:01:38 after 20 attacks.\n"
     ]
    },
    {
     "name": "stdout",
     "output_type": "stream",
     "text": [
      "\n",
      "\n",
      "=============================================================================================================================\n",
      "=============================================================================================================================\n",
      "\n"
     ]
    },
    {
     "name": "stderr",
     "output_type": "stream",
     "text": [
      "\n",
      "[Succeeded / Failed / Skipped / Total] 12 / 4 / 4 / 20:  70%|██████████████████████████████████████████████▉                    | 21/30 [01:33<00:39,  4.43s/it]\u001b[A\n",
      "[Succeeded / Failed / Skipped / Total] 13 / 4 / 4 / 21:  70%|██████████████████████████████████████████████▉                    | 21/30 [01:33<00:39,  4.43s/it]\u001b[A\n",
      "[Succeeded / Failed / Skipped / Total] 13 / 4 / 4 / 21:  73%|█████████████████████████████████████████████████▏                 | 22/30 [01:42<00:37,  4.66s/it]\u001b[A\n",
      "[Succeeded / Failed / Skipped / Total] 13 / 5 / 4 / 22:  73%|█████████████████████████████████████████████████▏                 | 22/30 [01:42<00:37,  4.66s/it]\u001b[A\n",
      "[Succeeded / Failed / Skipped / Total] 13 / 5 / 4 / 22:  77%|███████████████████████████████████████████████████▎               | 23/30 [01:47<00:32,  4.69s/it]\u001b[A\n",
      "[Succeeded / Failed / Skipped / Total] 14 / 5 / 4 / 23:  77%|███████████████████████████████████████████████████▎               | 23/30 [01:47<00:32,  4.69s/it]\u001b[A\n",
      "[Succeeded / Failed / Skipped / Total] 14 / 5 / 4 / 23:  80%|█████████████████████████████████████████████████████▌             | 24/30 [01:55<00:28,  4.82s/it]\u001b[A\n",
      "[Succeeded / Failed / Skipped / Total] 15 / 5 / 4 / 24:  80%|█████████████████████████████████████████████████████▌             | 24/30 [01:55<00:28,  4.83s/it]\u001b[A\n",
      "[Succeeded / Failed / Skipped / Total] 15 / 5 / 4 / 24:  83%|███████████████████████████████████████████████████████▊           | 25/30 [02:09<00:25,  5.18s/it]\u001b[A\n",
      "[Succeeded / Failed / Skipped / Total] 16 / 5 / 4 / 25:  83%|███████████████████████████████████████████████████████▊           | 25/30 [02:09<00:25,  5.18s/it]\u001b[Atextattack: Saving checkpoint under \"checkpoints/1713628940866.ta.chkpt\" at 2024-04-20 16:02:20 after 25 attacks.\n"
     ]
    },
    {
     "name": "stdout",
     "output_type": "stream",
     "text": [
      "\n",
      "\n",
      "=============================================================================================================================\n",
      "=============================================================================================================================\n",
      "\n"
     ]
    },
    {
     "name": "stderr",
     "output_type": "stream",
     "text": [
      "\n",
      "[Succeeded / Failed / Skipped / Total] 16 / 5 / 4 / 25:  87%|██████████████████████████████████████████████████████████         | 26/30 [02:25<00:22,  5.60s/it]\u001b[A\n",
      "[Succeeded / Failed / Skipped / Total] 16 / 6 / 4 / 26:  87%|██████████████████████████████████████████████████████████         | 26/30 [02:25<00:22,  5.60s/it]\u001b[A\n",
      "[Succeeded / Failed / Skipped / Total] 16 / 6 / 4 / 26:  90%|████████████████████████████████████████████████████████████▎      | 27/30 [02:31<00:16,  5.62s/it]\u001b[A\n",
      "[Succeeded / Failed / Skipped / Total] 17 / 6 / 4 / 27:  90%|████████████████████████████████████████████████████████████▎      | 27/30 [02:31<00:16,  5.62s/it]\u001b[A\n",
      "[Succeeded / Failed / Skipped / Total] 17 / 6 / 4 / 27:  93%|██████████████████████████████████████████████████████████████▌    | 28/30 [02:42<00:11,  5.81s/it]\u001b[A\n",
      "[Succeeded / Failed / Skipped / Total] 17 / 7 / 4 / 28:  93%|██████████████████████████████████████████████████████████████▌    | 28/30 [02:42<00:11,  5.81s/it]\u001b[A\n",
      "[Succeeded / Failed / Skipped / Total] 17 / 7 / 4 / 28:  97%|████████████████████████████████████████████████████████████████▊  | 29/30 [02:45<00:05,  5.71s/it]\u001b[A\n",
      "[Succeeded / Failed / Skipped / Total] 18 / 7 / 4 / 29:  97%|████████████████████████████████████████████████████████████████▊  | 29/30 [02:45<00:05,  5.71s/it]\u001b[A\n",
      "[Succeeded / Failed / Skipped / Total] 18 / 7 / 4 / 29: 100%|███████████████████████████████████████████████████████████████████| 30/30 [02:49<00:00,  5.65s/it]\u001b[A\n",
      "[Succeeded / Failed / Skipped / Total] 19 / 7 / 4 / 30: 100%|███████████████████████████████████████████████████████████████████| 30/30 [02:49<00:00,  5.65s/it]\u001b[Atextattack: Saving checkpoint under \"checkpoints/1713628980885.ta.chkpt\" at 2024-04-20 16:03:00 after 30 attacks.\n",
      "[Succeeded / Failed / Skipped / Total] 19 / 7 / 4 / 30: 100%|███████████████████████████████████████████████████████████████████| 30/30 [02:49<00:00,  5.65s/it]"
     ]
    },
    {
     "name": "stdout",
     "output_type": "stream",
     "text": [
      "\n",
      "\n",
      "=============================================================================================================================\n",
      "=============================================================================================================================\n",
      "\n",
      "\n",
      "+-------------------------------+--------+\n",
      "| Attack Results                |        |\n",
      "+-------------------------------+--------+\n",
      "| Number of successful attacks: | 19     |\n",
      "| Number of failed attacks:     | 7      |\n",
      "| Number of skipped attacks:    | 4      |\n",
      "| Original accuracy:            | 86.67% |\n",
      "| Accuracy under attack:        | 23.33% |\n",
      "| Attack success rate:          | 73.08% |\n",
      "| Average perturbed word %:     | 9.85%  |\n",
      "| Average num. words per input: | 22.7   |\n",
      "| Avg num queries:              | 399.65 |\n",
      "+-------------------------------+--------+\n"
     ]
    },
    {
     "name": "stderr",
     "output_type": "stream",
     "text": [
      "\n"
     ]
    }
   ],
   "source": [
    "for rank in range(1, 50, 5):\n",
    "    model.load_state_dict(torch.load(\"weight_trained_1.pth\"))\n",
    "    \n",
    "    all_model_weight = svd_sa(model, rank)\n",
    "    model.load_state_dict(all_model_weight)\n",
    "    \n",
    "    model_wrapper = PyTorchModelWrapper(model, tokenizer)\n",
    "    goal_function = TargetedClassification(model_wrapper, target_class = 1)\n",
    "    attack = Attack(goal_function, constraints, transformation, search_method)\n",
    "    \n",
    "    attack_args = textattack.AttackArgs(\n",
    "    num_examples=30,\n",
    "    log_to_csv=\"rank/log_\"+str(rank)+\".csv\",\n",
    "    checkpoint_interval=5,\n",
    "    checkpoint_dir=\"checkpoints\",\n",
    "    disable_stdout=True\n",
    "    )\n",
    "    \n",
    "    attacker = Attacker(attack, dataset, attack_args)\n",
    "    attacker.attack_dataset()"
   ]
  },
  {
   "cell_type": "markdown",
   "id": "785b8b40-7250-4898-b64a-4e2e3b2062ad",
   "metadata": {},
   "source": [
    "### Result Analysis"
   ]
  },
  {
   "cell_type": "code",
   "execution_count": 45,
   "id": "862bd78a-444a-4c6e-8938-a33c176a9965",
   "metadata": {
    "tags": []
   },
   "outputs": [],
   "source": [
    "import pandas as pd\n",
    "import numpy as np\n",
    "import matplotlib.pyplot as plt"
   ]
  },
  {
   "cell_type": "code",
   "execution_count": 49,
   "id": "9a2d92cd-44b9-4f29-8785-8aeaf8de8356",
   "metadata": {
    "tags": []
   },
   "outputs": [],
   "source": [
    "all_df = []"
   ]
  },
  {
   "cell_type": "code",
   "execution_count": 50,
   "id": "97502de0-1dc6-4da2-ac37-309e614f0465",
   "metadata": {
    "tags": []
   },
   "outputs": [],
   "source": [
    "for i in range(1, 50, 5):\n",
    "    df = pd.read_csv(\"rank/log_\" + str(i) + \".csv\")\n",
    "    all_df.append(df)"
   ]
  },
  {
   "cell_type": "code",
   "execution_count": 51,
   "id": "e60e283c-b27b-4b23-90ef-898f8643f489",
   "metadata": {
    "scrolled": true,
    "tags": []
   },
   "outputs": [
    {
     "data": {
      "text/plain": [
       "0     Failed\n",
       "1     Failed\n",
       "2     Failed\n",
       "3     Failed\n",
       "4     Failed\n",
       "5     Failed\n",
       "6     Failed\n",
       "7     Failed\n",
       "8     Failed\n",
       "9     Failed\n",
       "10    Failed\n",
       "11    Failed\n",
       "12    Failed\n",
       "13    Failed\n",
       "14    Failed\n",
       "15    Failed\n",
       "16    Failed\n",
       "17    Failed\n",
       "18    Failed\n",
       "19    Failed\n",
       "20    Failed\n",
       "21    Failed\n",
       "22    Failed\n",
       "23    Failed\n",
       "24    Failed\n",
       "25    Failed\n",
       "26    Failed\n",
       "27    Failed\n",
       "28    Failed\n",
       "29    Failed\n",
       "Name: result_type, dtype: object"
      ]
     },
     "execution_count": 51,
     "metadata": {},
     "output_type": "execute_result"
    }
   ],
   "source": [
    "all_df[0][\"result_type\"]"
   ]
  },
  {
   "cell_type": "code",
   "execution_count": null,
   "id": "36614343-8945-40e3-acd2-d5c0dcca1774",
   "metadata": {
    "tags": []
   },
   "outputs": [],
   "source": []
  },
  {
   "cell_type": "code",
   "execution_count": 56,
   "id": "88c27e1e-a9c1-4979-af69-bfd362996d34",
   "metadata": {
    "tags": []
   },
   "outputs": [],
   "source": [
    "success = []\n",
    "failed = []\n",
    "skipped = []\n",
    "for i in range(len(all_df)):\n",
    "    try:\n",
    "        success.append(all_df[i][\"result_type\"].value_counts()[\"Successful\"])\n",
    "    except:\n",
    "        success.append(0)\n",
    "    failed.append(all_df[i][\"result_type\"].value_counts()[\"Failed\"])\n",
    "    try:\n",
    "        skipped.append(all_df[i][\"result_type\"].value_counts()[\"Skipped\"])\n",
    "    except:\n",
    "        skipped.append(0)"
   ]
  },
  {
   "cell_type": "code",
   "execution_count": 57,
   "id": "f70ea510-0fbc-41ab-accb-18a64bdd02ba",
   "metadata": {
    "tags": []
   },
   "outputs": [
    {
     "data": {
      "text/plain": [
       "[0, 20, 20, 23, 20, 21, 21, 22, 22, 19]"
      ]
     },
     "execution_count": 57,
     "metadata": {},
     "output_type": "execute_result"
    }
   ],
   "source": [
    "success"
   ]
  },
  {
   "cell_type": "code",
   "execution_count": null,
   "id": "d685db2c-728b-4893-8851-a75bb2217348",
   "metadata": {},
   "outputs": [],
   "source": []
  },
  {
   "cell_type": "code",
   "execution_count": 61,
   "id": "e6077336-e23d-4163-8084-ffdb805ad5ff",
   "metadata": {
    "tags": []
   },
   "outputs": [
    {
     "data": {
      "image/png": "[encoded data removed]",
      "text/plain": [
       "<Figure size 640x480 with 1 Axes>"
      ]
     },
     "metadata": {},
     "output_type": "display_data"
    }
   ],
   "source": [
    "bar_width = 1\n",
    "plt.bar(np.arange(1, 50, 5) - bar_width/2, success, width = bar_width, label=\"Attack Success\")\n",
    "plt.bar(np.arange(1, 50, 5) + bar_width/2, failed, width = bar_width, label=\"Attack Failed\")\n",
    "plt.bar(np.arange(1, 50, 5) + bar_width + bar_width/2, skipped, width = bar_width, label = \"Attack Skipped\")\n",
    "plt.title(\"Attack on Self Attention Matrix\")\n",
    "plt.xlabel(\"Low Rank (k)\")\n",
    "plt.ylabel(\"Count\")\n",
    "plt.legend(bbox_to_anchor=(1.05, 1.0), loc='upper left')\n",
    "plt.show()"
   ]
  },
  {
   "cell_type": "code",
   "execution_count": null,
   "id": "dd07f097-8b01-4314-b803-2801e0e543ac",
   "metadata": {},
   "outputs": [],
   "source": []
  },
  {
   "cell_type": "code",
   "execution_count": null,
   "id": "5b55d48f-e993-4063-9179-42adf2be051b",
   "metadata": {},
   "outputs": [],
   "source": []
  }
 ],
 "metadata": {
  "kernelspec": {
   "display_name": "Python 3 (Local)",
   "language": "python",
   "name": "python3"
  },
  "language_info": {
   "codemirror_mode": {
    "name": "ipython",
    "version": 3
   },
   "file_extension": ".py",
   "mimetype": "text/x-python",
   "name": "python",
   "nbconvert_exporter": "python",
   "pygments_lexer": "ipython3",
   "version": "3.10.13"
  }
 },
 "nbformat": 4,
 "nbformat_minor": 5
}
