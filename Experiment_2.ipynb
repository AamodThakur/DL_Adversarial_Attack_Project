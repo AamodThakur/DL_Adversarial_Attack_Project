{
 "cells": [
  {
   "cell_type": "code",
   "execution_count": 1,
   "id": "7049be18-2025-4ed0-b06f-b0269fbdbb93",
   "metadata": {
    "tags": []
   },
   "outputs": [],
   "source": [
    "import torch\n",
    "import torch.nn as nn\n",
    "import numpy as np\n",
    "import pandas as pd\n",
    "from transformers import BertTokenizer\n",
    "import pickle\n",
    "\n",
    "from textattack.models.wrappers import ModelWrapper\n",
    "from textattack.datasets import HuggingFaceDataset\n",
    "from textattack.attack_recipes import PWWSRen2019\n",
    "from textattack import Attacker, AttackArgs"
   ]
  },
  {
   "cell_type": "code",
   "execution_count": 2,
   "id": "9033dc5d-ad95-400b-95af-79a713169aac",
   "metadata": {
    "tags": []
   },
   "outputs": [],
   "source": [
    "import torch\n",
    "from torch.nn import CrossEntropyLoss\n",
    "import textattack\n",
    "from model_wrapper import ModelWrapper\n",
    "\n",
    "from models import model_1 as mm"
   ]
  },
  {
   "cell_type": "code",
   "execution_count": 3,
   "id": "d1a81f4e-44c5-4d2f-a422-c6f8f4e2b81c",
   "metadata": {
    "tags": []
   },
   "outputs": [],
   "source": [
    "torch.cuda.empty_cache()"
   ]
  },
  {
   "cell_type": "markdown",
   "id": "42ac3741-10da-4013-8925-1f0d8ce411a7",
   "metadata": {
    "tags": []
   },
   "source": [
    "### PyTorchModelWrapper"
   ]
  },
  {
   "cell_type": "code",
   "execution_count": 4,
   "id": "3916c7f2-9acc-4cf6-9447-1cb42d824813",
   "metadata": {
    "tags": []
   },
   "outputs": [],
   "source": [
    "class PyTorchModelWrapper(ModelWrapper):\n",
    "    \"\"\"Loads a PyTorch model (`nn.Module`) and tokenizer.\n",
    "\n",
    "    Args:\n",
    "        model (torch.nn.Module): PyTorch model\n",
    "        tokenizer: tokenizer whose output can be packed as a tensor and passed to the model.\n",
    "            No type requirement, but most have `tokenizer` method that accepts list of strings.\n",
    "    \"\"\"\n",
    "\n",
    "    def __init__(self, model, tokenizer):\n",
    "        if not isinstance(model, torch.nn.Module):\n",
    "            raise TypeError(\n",
    "                f\"PyTorch model must be torch.nn.Module, got type {type(model)}\"\n",
    "            )\n",
    "\n",
    "        self.model = model\n",
    "        self.tokenizer = tokenizer\n",
    "\n",
    "    def to(self, device):\n",
    "        self.model.to(device)\n",
    "\n",
    "    def __call__(self, text_input_list, batch_size=32):\n",
    "        model_device = next(self.model.parameters()).device\n",
    "        ############################################################ Change 1\n",
    "        ids = self.tokenizer(text_input_list, return_tensors=\"pt\", padding=True)\n",
    "        ids = ids.to(model_device)\n",
    "\n",
    "        with torch.no_grad():\n",
    "            outputs = textattack.shared.utils.batch_model_predict(\n",
    "                self.model, ids, batch_size=batch_size\n",
    "            )\n",
    "\n",
    "        return outputs\n",
    "\n",
    "    def get_grad(self, text_input, loss_fn=CrossEntropyLoss()):\n",
    "        \"\"\"Get gradient of loss with respect to input tokens.\n",
    "\n",
    "        Args:\n",
    "            text_input (str): input string\n",
    "            loss_fn (torch.nn.Module): loss function. Default is `torch.nn.CrossEntropyLoss`\n",
    "        Returns:\n",
    "            Dict of ids, tokens, and gradient as numpy array.\n",
    "        \"\"\"\n",
    "\n",
    "        if not hasattr(self.model, \"get_input_embeddings\"):\n",
    "            raise AttributeError(\n",
    "                f\"{type(self.model)} must have method `get_input_embeddings` that returns `torch.nn.Embedding` object that represents input embedding layer\"\n",
    "            )\n",
    "        if not isinstance(loss_fn, torch.nn.Module):\n",
    "            raise ValueError(\"Loss function must be of type `torch.nn.Module`.\")\n",
    "\n",
    "        self.model.train()\n",
    "\n",
    "        embedding_layer = self.model.get_input_embeddings()\n",
    "        original_state = embedding_layer.weight.requires_grad\n",
    "        embedding_layer.weight.requires_grad = True\n",
    "\n",
    "        emb_grads = []\n",
    "\n",
    "        def grad_hook(module, grad_in, grad_out):\n",
    "            emb_grads.append(grad_out[0])\n",
    "\n",
    "        emb_hook = embedding_layer.register_backward_hook(grad_hook)\n",
    "\n",
    "        self.model.zero_grad()\n",
    "        model_device = next(self.model.parameters()).device\n",
    "        \n",
    "        ######################################################### Change 2\n",
    "        ids = self.tokenizer(text_input_list, return_tensors=\"pt\", padding=True)\n",
    "        ids = ids.to(model_device)\n",
    "\n",
    "        predictions = self.model(ids)\n",
    "\n",
    "        output = predictions.argmax(dim=1)\n",
    "        loss = loss_fn(predictions, output)\n",
    "        loss.backward()\n",
    "\n",
    "        # grad w.r.t to word embeddings\n",
    "\n",
    "        # Fix for Issue #601\n",
    "\n",
    "        # Check if gradient has shape [max_sequence,1,_] ( when model input in transpose of input sequence)\n",
    "\n",
    "        if emb_grads[0].shape[1] == 1:\n",
    "            grad = torch.transpose(emb_grads[0], 0, 1)[0].cpu().numpy()\n",
    "        else:\n",
    "            # gradient has shape [1,max_sequence,_]\n",
    "            grad = emb_grads[0][0].cpu().numpy()\n",
    "\n",
    "        embedding_layer.weight.requires_grad = original_state\n",
    "        emb_hook.remove()\n",
    "        self.model.eval()\n",
    "\n",
    "        output = {\"ids\": ids[0].tolist(), \"gradient\": grad}\n",
    "\n",
    "        return output\n",
    "\n",
    "    def _tokenize(self, inputs):\n",
    "        \"\"\"Helper method that for `tokenize`\n",
    "        Args:\n",
    "            inputs (list[str]): list of input strings\n",
    "        Returns:\n",
    "            tokens (list[list[str]]): List of list of tokens as strings\n",
    "        \"\"\"\n",
    "        return [self.tokenizer.convert_ids_to_tokens(self.tokenizer(x)) for x in inputs]"
   ]
  },
  {
   "cell_type": "markdown",
   "id": "c0580a9c-44b6-4bc9-9cd1-5bcdb0c19f15",
   "metadata": {
    "tags": []
   },
   "source": [
    "### Self Tx"
   ]
  },
  {
   "cell_type": "code",
   "execution_count": 5,
   "id": "a031a345-3045-460a-b645-722db0226563",
   "metadata": {
    "tags": []
   },
   "outputs": [],
   "source": [
    "d_model = 768\n",
    "max_token = 512\n",
    "nhead = 12\n",
    "nlayer = 6\n",
    "device = \"cuda\""
   ]
  },
  {
   "cell_type": "code",
   "execution_count": 6,
   "id": "d85c977d-8aba-460e-afb0-474b636ee2e1",
   "metadata": {
    "tags": []
   },
   "outputs": [],
   "source": [
    "with open(\"bert_embedding.pkl\", \"rb\") as file:\n",
    "    embd = pickle.load(file)"
   ]
  },
  {
   "cell_type": "code",
   "execution_count": 7,
   "id": "f2e89fd2-a358-4b23-b041-32c94e2ca1b5",
   "metadata": {
    "tags": []
   },
   "outputs": [],
   "source": [
    "model = mm.ad_transformer(d_model,nhead, nlayer, max_token, embd, device).to(device)"
   ]
  },
  {
   "cell_type": "code",
   "execution_count": 8,
   "id": "89254143-a950-4897-aba7-4d3cdca9e44f",
   "metadata": {
    "tags": []
   },
   "outputs": [],
   "source": [
    "tokenizer = BertTokenizer.from_pretrained('bert-base-uncased')"
   ]
  },
  {
   "cell_type": "code",
   "execution_count": 9,
   "id": "b504c8db-b6e6-4f29-a188-2f2cc26e63fc",
   "metadata": {
    "tags": []
   },
   "outputs": [
    {
     "data": {
      "text/plain": [
       "<All keys matched successfully>"
      ]
     },
     "execution_count": 9,
     "metadata": {},
     "output_type": "execute_result"
    }
   ],
   "source": [
    "model.load_state_dict(torch.load(\"weight_trained_1.pth\"))"
   ]
  },
  {
   "cell_type": "markdown",
   "id": "e8ce8152-23ec-49bd-a94b-a40a13654076",
   "metadata": {
    "tags": []
   },
   "source": [
    "### Spam Dataset"
   ]
  },
  {
   "cell_type": "code",
   "execution_count": 10,
   "id": "bbbadc2d-fed9-4268-b05c-d511694bff8b",
   "metadata": {
    "tags": []
   },
   "outputs": [],
   "source": [
    "#f = pd.read_csv(\"dataset/spam_train.csv\")"
   ]
  },
  {
   "cell_type": "code",
   "execution_count": 11,
   "id": "ec987be9-14c2-434c-b029-bc29f04eb71d",
   "metadata": {
    "tags": []
   },
   "outputs": [],
   "source": [
    "#df = df.drop(\"len\", axis=1)"
   ]
  },
  {
   "cell_type": "code",
   "execution_count": 12,
   "id": "09fc61b8-bb0e-4f75-b0da-debb5aa1bc2d",
   "metadata": {
    "tags": []
   },
   "outputs": [],
   "source": [
    "### Removing Sequence more than 500 tokens\n",
    "#tok_threshold = []\n",
    "#for i in range(len(df) - 1, -1, -1):\n",
    "#    tok_len = len(tokenizer(df.iloc[i,1], return_tensors=\"pt\", padding=True)[\"input_ids\"][0])\n",
    "#    if tok_len > 500:\n",
    "#        tok_threshold.append(i)\n",
    "#        \n",
    "#df.drop(859, inplace=True)"
   ]
  },
  {
   "cell_type": "code",
   "execution_count": 13,
   "id": "6a7e333a-a3cf-4095-bdfe-2b18ad513b50",
   "metadata": {
    "tags": []
   },
   "outputs": [],
   "source": [
    "#df = df[df[\"text_type\"] == \"spam\"]"
   ]
  },
  {
   "cell_type": "code",
   "execution_count": 14,
   "id": "047cca20-5893-4e61-9293-aca91a1577e6",
   "metadata": {
    "tags": []
   },
   "outputs": [],
   "source": [
    "#df_test.to_csv(\"attack_spam_only.csv\", index = False)"
   ]
  },
  {
   "cell_type": "code",
   "execution_count": 15,
   "id": "3aa6e39e-a4ae-4645-a807-d123ef095cdb",
   "metadata": {
    "tags": []
   },
   "outputs": [],
   "source": [
    "df_test = pd.read_csv(\"dataset/attack_test.csv\")"
   ]
  },
  {
   "cell_type": "code",
   "execution_count": 16,
   "id": "ac673a5a-d863-4828-9d6b-c894d30b31be",
   "metadata": {
    "tags": []
   },
   "outputs": [],
   "source": [
    "df_test = df_test.replace(\"spam\",0)"
   ]
  },
  {
   "cell_type": "markdown",
   "id": "5946d094-a653-4cdb-bfd8-274627f15105",
   "metadata": {
    "tags": []
   },
   "source": [
    "### Testing Acurracy"
   ]
  },
  {
   "cell_type": "code",
   "execution_count": 17,
   "id": "cca8c6be-5ed1-4d6f-a837-8ead76728b98",
   "metadata": {
    "tags": []
   },
   "outputs": [],
   "source": [
    "## Actual Value (SPAM, HAM)  ## Y - Predicted Value (SPAM, HAM)\n",
    "#conf_matrix = np.zeros((2,2))"
   ]
  },
  {
   "cell_type": "code",
   "execution_count": 18,
   "id": "63c28c47-cda0-491c-b7d0-35d5116fe270",
   "metadata": {
    "tags": []
   },
   "outputs": [
    {
     "data": {
      "text/plain": [
       "'\\nfor i in range(len(df_test)):\\n    input_list = df_test.iloc[i,1]\\n    tok_input = tokenizer(input_list, return_tensors=\"pt\", padding=True).to(device)\\n    out = model(tok_input)\\n    \\n    index_1 = torch.argmax(out[0]).tolist()\\n    \\n    if df_test.iloc[i,0] == 0:\\n        index_2 = 0\\n    else:\\n        index_2 = 1\\n        \\n    conf_matrix[index_1][index_2] += 1\\n'"
      ]
     },
     "execution_count": 18,
     "metadata": {},
     "output_type": "execute_result"
    }
   ],
   "source": [
    "\"\"\"\n",
    "for i in range(len(df_test)):\n",
    "    input_list = df_test.iloc[i,1]\n",
    "    tok_input = tokenizer(input_list, return_tensors=\"pt\", padding=True).to(device)\n",
    "    out = model(tok_input)\n",
    "    \n",
    "    index_1 = torch.argmax(out[0]).tolist()\n",
    "    \n",
    "    if df_test.iloc[i,0] == 0:\n",
    "        index_2 = 0\n",
    "    else:\n",
    "        index_2 = 1\n",
    "        \n",
    "    conf_matrix[index_1][index_2] += 1\n",
    "\"\"\""
   ]
  },
  {
   "cell_type": "code",
   "execution_count": 19,
   "id": "afaccf29-a4ba-4cd2-b595-2c6643b4ee03",
   "metadata": {
    "tags": []
   },
   "outputs": [],
   "source": [
    "#conf_matrix"
   ]
  },
  {
   "cell_type": "markdown",
   "id": "a61c33c6-8611-41cb-88e6-e07b450f23b8",
   "metadata": {},
   "source": [
    "### Attack"
   ]
  },
  {
   "cell_type": "code",
   "execution_count": 20,
   "id": "7e2b0de6-f07d-4d1f-a52f-c93d988500e0",
   "metadata": {
    "tags": []
   },
   "outputs": [],
   "source": [
    "df_test = df_test.rename(columns={'text_type': 'label'})"
   ]
  },
  {
   "cell_type": "code",
   "execution_count": 21,
   "id": "a7a14008-a471-4843-9de0-2bc4b10a7ed2",
   "metadata": {
    "tags": []
   },
   "outputs": [],
   "source": [
    "model_wrapper = PyTorchModelWrapper(model, tokenizer)"
   ]
  },
  {
   "cell_type": "code",
   "execution_count": 22,
   "id": "85db722d-9611-4aaa-98d0-450653bbd8df",
   "metadata": {},
   "outputs": [],
   "source": [
    "from textattack import Attack\n",
    "from textattack.search_methods import GreedySearch\n",
    "from textattack.constraints.pre_transformation import (\n",
    "    RepeatModification,\n",
    "    StopwordModification,\n",
    ")\n",
    "from textattack.goal_functions import UntargetedClassification, TargetedClassification\n",
    "from textattack.transformations import WordSwapEmbedding\n",
    "from textattack.constraints.pre_transformation import RepeatModification\n",
    "from textattack.constraints.pre_transformation import StopwordModification"
   ]
  },
  {
   "cell_type": "code",
   "execution_count": 23,
   "id": "c447e937-f2ef-438b-a96b-b402d1dbd13d",
   "metadata": {},
   "outputs": [
    {
     "name": "stderr",
     "output_type": "stream",
     "text": [
      "textattack: Unknown if model of class <class 'models.model_1.ad_transformer'> compatible with goal function <class 'textattack.goal_functions.classification.targeted_classification.TargetedClassification'>.\n"
     ]
    }
   ],
   "source": [
    "goal_function = TargetedClassification(model_wrapper, target_class = 1)\n",
    "\n",
    "transformation = WordSwapEmbedding()\n",
    "\n",
    "constraints = [RepeatModification(), StopwordModification()]\n",
    "\n",
    "search_method = GreedySearch()\n",
    "\n",
    "attack = Attack(goal_function, constraints, transformation, search_method)"
   ]
  },
  {
   "cell_type": "code",
   "execution_count": 24,
   "id": "367153a4-ef8c-4f98-81c2-67e37da48e0b",
   "metadata": {
    "tags": []
   },
   "outputs": [],
   "source": [
    "custom_ds = []\n",
    "for i in range(len(df_test)):\n",
    "    custom_ds.append((df_test.iloc[i,1], int(df_test.iloc[i,0])))"
   ]
  },
  {
   "cell_type": "code",
   "execution_count": 25,
   "id": "415e4dd0-77e1-4795-9d70-4f75309f3f77",
   "metadata": {
    "tags": []
   },
   "outputs": [],
   "source": [
    "dataset = textattack.datasets.Dataset(custom_ds)"
   ]
  },
  {
   "cell_type": "code",
   "execution_count": 39,
   "id": "fd58a638-8402-42b2-b70d-c609cb3661ad",
   "metadata": {
    "tags": []
   },
   "outputs": [],
   "source": [
    "### 21 success 9 failed"
   ]
  },
  {
   "cell_type": "markdown",
   "id": "ad4631a6-626f-4899-ac4a-1a84713bbfd5",
   "metadata": {},
   "source": [
    "### Getting Low Rank of only Attention Weights"
   ]
  },
  {
   "cell_type": "code",
   "execution_count": 27,
   "id": "e621695c-96fb-4001-a366-c35e920578ee",
   "metadata": {
    "tags": []
   },
   "outputs": [],
   "source": [
    "all_model_weight = model.state_dict()"
   ]
  },
  {
   "cell_type": "code",
   "execution_count": 34,
   "id": "4c15323f-826f-4e89-8207-c66a332c3c8e",
   "metadata": {
    "tags": []
   },
   "outputs": [
    {
     "data": {
      "text/plain": [
       "torch.Size([2048, 768])"
      ]
     },
     "execution_count": 34,
     "metadata": {},
     "output_type": "execute_result"
    }
   ],
   "source": [
    "all_model_weight['transformer_encoder.layers.0.linear1.weight'].shape"
   ]
  },
  {
   "cell_type": "code",
   "execution_count": null,
   "id": "75269675-832c-4ee2-8622-885b88e6561f",
   "metadata": {},
   "outputs": [],
   "source": []
  },
  {
   "cell_type": "code",
   "execution_count": null,
   "id": "8ff31a33-1867-42ec-9f69-a6c29d3cb69e",
   "metadata": {},
   "outputs": [],
   "source": []
  },
  {
   "cell_type": "code",
   "execution_count": 150,
   "id": "d170a09d-d159-4c0a-a113-5756cb2a0f5f",
   "metadata": {
    "tags": []
   },
   "outputs": [],
   "source": [
    "def svd_sa(model, rank):\n",
    "    all_model_weight = model.state_dict()\n",
    "    \n",
    "    for layer_num in range(nlayer):\n",
    "        layer_name = 'transformer_encoder.layers.' + str(layer_num) + '.linear1.weight'\n",
    "\n",
    "        in_proj_weight = all_model_weight[layer_name]\n",
    "\n",
    "        U, s, V = np.linalg.svd(in_proj_weight.to(\"cpu\").numpy())\n",
    "        low_rank_mat = np.dot(U[:, :rank], np.dot(np.diag(s[:rank]), V[:rank, :]))\n",
    "        in_proj_weight = low_rank_mat\n",
    "\n",
    "        U, s, V = np.linalg.svd(k.to(\"cpu\").numpy())\n",
    "        low_rank_mat = np.dot(U[:, :rank], np.dot(np.diag(s[:rank]), V[:rank, :]))\n",
    "        k = low_rank_mat\n",
    "\n",
    "        U, s, V = np.linalg.svd(v.to(\"cpu\").numpy())\n",
    "        low_rank_mat = np.dot(U[:, :rank], np.dot(np.diag(s[:rank]), V[:rank, :]))\n",
    "        v = low_rank_mat\n",
    "\n",
    "        all_model_weight[layer_name] = torch.concat((torch.tensor(q),torch.tensor(k), torch.tensor(v))).to(\"cuda\")\n",
    "        \n",
    "        return all_model_weight"
   ]
  },
  {
   "cell_type": "markdown",
   "id": "b0486247-b0b1-417e-93d1-9b18d1a092d3",
   "metadata": {},
   "source": [
    "### Experimenting on different rank"
   ]
  },
  {
   "cell_type": "code",
   "execution_count": 169,
   "id": "b03e61e4-cdab-4535-a035-0d0a9b153326",
   "metadata": {
    "tags": []
   },
   "outputs": [],
   "source": [
    "transformation = WordSwapEmbedding()\n",
    "constraints = [RepeatModification(), StopwordModification()]\n",
    "search_method = GreedySearch()"
   ]
  },
  {
   "cell_type": "code",
   "execution_count": null,
   "id": "08f829d2-61e3-4ce9-bc58-26891d3b5ff5",
   "metadata": {
    "scrolled": true,
    "tags": []
   },
   "outputs": [
    {
     "name": "stderr",
     "output_type": "stream",
     "text": [
      "textattack: Unknown if model of class <class 'models.model_1.ad_transformer'> compatible with goal function <class 'textattack.goal_functions.classification.targeted_classification.TargetedClassification'>.\n",
      "textattack: Logging to CSV at path rank/log_50.csv\n"
     ]
    },
    {
     "name": "stdout",
     "output_type": "stream",
     "text": [
      "Attack(\n",
      "  (search_method): GreedySearch\n",
      "  (goal_function):  TargetedClassification(\n",
      "    (target_class):  1\n",
      "  )\n",
      "  (transformation):  WordSwapEmbedding(\n",
      "    (max_candidates):  15\n",
      "    (embedding):  WordEmbedding\n",
      "  )\n",
      "  (constraints): \n",
      "    (0): RepeatModification\n",
      "    (1): StopwordModification\n",
      "  (is_black_box):  True\n",
      ") \n",
      "\n"
     ]
    },
    {
     "name": "stderr",
     "output_type": "stream",
     "text": [
      "\n",
      "\n",
      "  0%|                                                                                                                                    | 0/30 [00:00<?, ?it/s]\u001b[A\u001b[A\n",
      "\n",
      "[Succeeded / Failed / Skipped / Total] 0 / 0 / 1 / 1:   3%|██▎                                                                   | 1/30 [00:00<00:01, 20.69it/s]\u001b[A\u001b[A\n",
      "\n",
      "[Succeeded / Failed / Skipped / Total] 0 / 0 / 1 / 1:   7%|████▋                                                                 | 2/30 [00:03<00:42,  1.52s/it]\u001b[A\u001b[A\n",
      "\n",
      "[Succeeded / Failed / Skipped / Total] 1 / 0 / 1 / 2:   7%|████▋                                                                 | 2/30 [00:03<00:42,  1.53s/it]\u001b[A\u001b[A\n",
      "\n",
      "[Succeeded / Failed / Skipped / Total] 2 / 0 / 1 / 3:  10%|███████                                                               | 3/30 [00:06<00:56,  2.11s/it]\u001b[A\u001b[A\n",
      "\n",
      "[Succeeded / Failed / Skipped / Total] 2 / 0 / 1 / 3:  13%|█████████▎                                                            | 4/30 [00:09<01:04,  2.48s/it]\u001b[A\u001b[A\n",
      "\n",
      "[Succeeded / Failed / Skipped / Total] 3 / 0 / 1 / 4:  13%|█████████▎                                                            | 4/30 [00:09<01:04,  2.49s/it]\u001b[A\u001b[A\n",
      "\n",
      "[Succeeded / Failed / Skipped / Total] 4 / 0 / 1 / 5:  17%|███████████▋                                                          | 5/30 [00:13<01:05,  2.61s/it]\u001b[A\u001b[Atextattack: Saving checkpoint under \"checkpoints/1713513339230.ta.chkpt\" at 2024-04-19 07:55:39 after 5 attacks.\n"
     ]
    },
    {
     "name": "stdout",
     "output_type": "stream",
     "text": [
      "\n",
      "\n",
      "=============================================================================================================================\n",
      "=============================================================================================================================\n",
      "\n"
     ]
    },
    {
     "name": "stderr",
     "output_type": "stream",
     "text": [
      "\n",
      "\n",
      "[Succeeded / Failed / Skipped / Total] 4 / 0 / 1 / 5:  20%|██████████████                                                        | 6/30 [00:16<01:05,  2.72s/it]\u001b[A\u001b[A\n",
      "\n",
      "[Succeeded / Failed / Skipped / Total] 5 / 0 / 1 / 6:  20%|██████████████                                                        | 6/30 [00:16<01:05,  2.73s/it]\u001b[A\u001b[A\n",
      "\n",
      "[Succeeded / Failed / Skipped / Total] 6 / 0 / 1 / 7:  23%|████████████████▎                                                     | 7/30 [00:20<01:05,  2.86s/it]\u001b[A\u001b[A\n",
      "\n",
      "[Succeeded / Failed / Skipped / Total] 6 / 0 / 1 / 7:  27%|██████████████████▋                                                   | 8/30 [00:20<00:56,  2.59s/it]\u001b[A\u001b[A\n",
      "\n",
      "[Succeeded / Failed / Skipped / Total] 6 / 1 / 1 / 8:  27%|██████████████████▋                                                   | 8/30 [00:20<00:57,  2.59s/it]\u001b[A\u001b[A\n",
      "\n",
      "[Succeeded / Failed / Skipped / Total] 7 / 1 / 1 / 9:  30%|█████████████████████                                                 | 9/30 [00:24<00:57,  2.73s/it]\u001b[A\u001b[A\n",
      "\n",
      "[Succeeded / Failed / Skipped / Total] 7 / 1 / 1 / 9:  33%|███████████████████████                                              | 10/30 [00:27<00:54,  2.74s/it]\u001b[A\u001b[A\n",
      "\n",
      "[Succeeded / Failed / Skipped / Total] 8 / 1 / 1 / 10:  33%|██████████████████████▋                                             | 10/30 [00:27<00:54,  2.74s/it]\u001b[A\u001b[Atextattack: Saving checkpoint under \"checkpoints/1713513353603.ta.chkpt\" at 2024-04-19 07:55:53 after 10 attacks.\n"
     ]
    },
    {
     "name": "stdout",
     "output_type": "stream",
     "text": [
      "\n",
      "\n",
      "=============================================================================================================================\n",
      "=============================================================================================================================\n",
      "\n"
     ]
    },
    {
     "name": "stderr",
     "output_type": "stream",
     "text": [
      "\n",
      "\n",
      "[Succeeded / Failed / Skipped / Total] 9 / 1 / 1 / 11:  37%|████████████████████████▉                                           | 11/30 [00:30<00:53,  2.82s/it]\u001b[A\u001b[A\n",
      "\n",
      "[Succeeded / Failed / Skipped / Total] 9 / 1 / 1 / 11:  40%|███████████████████████████▏                                        | 12/30 [00:39<00:59,  3.30s/it]\u001b[A\u001b[A\n",
      "\n",
      "[Succeeded / Failed / Skipped / Total] 9 / 2 / 1 / 12:  40%|███████████████████████████▏                                        | 12/30 [00:39<00:59,  3.30s/it]\u001b[A\u001b[A\n",
      "\n",
      "[Succeeded / Failed / Skipped / Total] 9 / 2 / 1 / 12:  43%|█████████████████████████████▍                                      | 13/30 [00:47<01:02,  3.66s/it]\u001b[A\u001b[A\n",
      "\n",
      "[Succeeded / Failed / Skipped / Total] 9 / 3 / 1 / 13:  43%|█████████████████████████████▍                                      | 13/30 [00:47<01:02,  3.66s/it]\u001b[A\u001b[A\n",
      "\n",
      "[Succeeded / Failed / Skipped / Total] 9 / 3 / 1 / 13:  47%|███████████████████████████████▋                                    | 14/30 [00:51<00:58,  3.64s/it]\u001b[A\u001b[A\n",
      "\n",
      "[Succeeded / Failed / Skipped / Total] 10 / 3 / 1 / 14:  47%|███████████████████████████████▎                                   | 14/30 [00:51<00:58,  3.65s/it]\u001b[A\u001b[A\n",
      "\n",
      "[Succeeded / Failed / Skipped / Total] 10 / 3 / 1 / 14:  50%|█████████████████████████████████▌                                 | 15/30 [00:59<00:59,  3.98s/it]\u001b[A\u001b[A\n",
      "\n",
      "[Succeeded / Failed / Skipped / Total] 10 / 4 / 1 / 15:  50%|█████████████████████████████████▌                                 | 15/30 [00:59<00:59,  3.98s/it]\u001b[A\u001b[Atextattack: Saving checkpoint under \"checkpoints/1713513385857.ta.chkpt\" at 2024-04-19 07:56:25 after 15 attacks.\n"
     ]
    },
    {
     "name": "stdout",
     "output_type": "stream",
     "text": [
      "\n",
      "\n",
      "=============================================================================================================================\n",
      "=============================================================================================================================\n",
      "\n"
     ]
    },
    {
     "name": "stderr",
     "output_type": "stream",
     "text": [
      "\n",
      "\n",
      "[Succeeded / Failed / Skipped / Total] 10 / 4 / 1 / 15:  53%|███████████████████████████████████▋                               | 16/30 [01:12<01:03,  4.52s/it]\u001b[A\u001b[A\n",
      "\n",
      "[Succeeded / Failed / Skipped / Total] 10 / 5 / 1 / 16:  53%|███████████████████████████████████▋                               | 16/30 [01:12<01:03,  4.52s/it]\u001b[A\u001b[A\n",
      "\n",
      "[Succeeded / Failed / Skipped / Total] 10 / 5 / 1 / 16:  57%|█████████████████████████████████████▉                             | 17/30 [01:15<00:57,  4.45s/it]\u001b[A\u001b[A\n",
      "\n",
      "[Succeeded / Failed / Skipped / Total] 11 / 5 / 1 / 17:  57%|█████████████████████████████████████▉                             | 17/30 [01:15<00:57,  4.46s/it]\u001b[A\u001b[A\n",
      "\n",
      "[Succeeded / Failed / Skipped / Total] 11 / 5 / 1 / 17:  60%|████████████████████████████████████████▏                          | 18/30 [01:18<00:52,  4.38s/it]\u001b[A\u001b[A\n",
      "\n",
      "[Succeeded / Failed / Skipped / Total] 12 / 5 / 1 / 18:  60%|████████████████████████████████████████▏                          | 18/30 [01:18<00:52,  4.38s/it]\u001b[A\u001b[A\n",
      "\n",
      "[Succeeded / Failed / Skipped / Total] 12 / 5 / 1 / 18:  63%|██████████████████████████████████████████▍                        | 19/30 [01:28<00:51,  4.68s/it]\u001b[A\u001b[A\n",
      "\n",
      "[Succeeded / Failed / Skipped / Total] 13 / 5 / 1 / 19:  63%|██████████████████████████████████████████▍                        | 19/30 [01:29<00:51,  4.69s/it]\u001b[A\u001b[A\n",
      "\n",
      "[Succeeded / Failed / Skipped / Total] 13 / 5 / 1 / 19:  67%|████████████████████████████████████████████▋                      | 20/30 [01:33<00:46,  4.69s/it]\u001b[A\u001b[A\n",
      "\n",
      "[Succeeded / Failed / Skipped / Total] 14 / 5 / 1 / 20:  67%|████████████████████████████████████████████▋                      | 20/30 [01:33<00:46,  4.69s/it]\u001b[A\u001b[Atextattack: Saving checkpoint under \"checkpoints/1713513420070.ta.chkpt\" at 2024-04-19 07:57:00 after 20 attacks.\n"
     ]
    },
    {
     "name": "stdout",
     "output_type": "stream",
     "text": [
      "\n",
      "\n",
      "=============================================================================================================================\n",
      "=============================================================================================================================\n",
      "\n"
     ]
    },
    {
     "name": "stderr",
     "output_type": "stream",
     "text": [
      "\n",
      "\n",
      "[Succeeded / Failed / Skipped / Total] 14 / 5 / 1 / 20:  70%|██████████████████████████████████████████████▉                    | 21/30 [01:39<00:42,  4.76s/it]\u001b[A\u001b[A\n",
      "\n",
      "[Succeeded / Failed / Skipped / Total] 15 / 5 / 1 / 21:  70%|██████████████████████████████████████████████▉                    | 21/30 [01:39<00:42,  4.76s/it]\u001b[A\u001b[A\n",
      "\n",
      "[Succeeded / Failed / Skipped / Total] 15 / 5 / 1 / 21:  73%|█████████████████████████████████████████████████▏                 | 22/30 [01:47<00:39,  4.90s/it]\u001b[A\u001b[A\n",
      "\n",
      "[Succeeded / Failed / Skipped / Total] 16 / 5 / 1 / 22:  73%|█████████████████████████████████████████████████▏                 | 22/30 [01:47<00:39,  4.91s/it]\u001b[A\u001b[A\n",
      "\n",
      "[Succeeded / Failed / Skipped / Total] 16 / 5 / 1 / 22:  77%|███████████████████████████████████████████████████▎               | 23/30 [01:53<00:34,  4.92s/it]\u001b[A\u001b[A\n",
      "\n",
      "[Succeeded / Failed / Skipped / Total] 17 / 5 / 1 / 23:  77%|███████████████████████████████████████████████████▎               | 23/30 [01:53<00:34,  4.92s/it]\u001b[A\u001b[A\n",
      "\n",
      "[Succeeded / Failed / Skipped / Total] 17 / 5 / 1 / 23:  80%|█████████████████████████████████████████████████████▌             | 24/30 [01:58<00:29,  4.94s/it]\u001b[A\u001b[A\n",
      "\n",
      "[Succeeded / Failed / Skipped / Total] 18 / 5 / 1 / 24:  80%|█████████████████████████████████████████████████████▌             | 24/30 [01:58<00:29,  4.94s/it]\u001b[A\u001b[A\n",
      "\n",
      "[Succeeded / Failed / Skipped / Total] 18 / 5 / 1 / 24:  83%|███████████████████████████████████████████████████████▊           | 25/30 [02:20<00:28,  5.64s/it]\u001b[A\u001b[A\n",
      "\n",
      "[Succeeded / Failed / Skipped / Total] 18 / 6 / 1 / 25:  83%|███████████████████████████████████████████████████████▊           | 25/30 [02:20<00:28,  5.64s/it]\u001b[A\u001b[Atextattack: Saving checkpoint under \"checkpoints/1713513467157.ta.chkpt\" at 2024-04-19 07:57:47 after 25 attacks.\n"
     ]
    },
    {
     "name": "stdout",
     "output_type": "stream",
     "text": [
      "\n",
      "\n",
      "=============================================================================================================================\n",
      "=============================================================================================================================\n",
      "\n"
     ]
    },
    {
     "name": "stderr",
     "output_type": "stream",
     "text": [
      "\n",
      "\n",
      "[Succeeded / Failed / Skipped / Total] 18 / 6 / 1 / 25:  87%|██████████████████████████████████████████████████████████         | 26/30 [02:30<00:23,  5.78s/it]\u001b[A\u001b[A\n",
      "\n",
      "[Succeeded / Failed / Skipped / Total] 19 / 6 / 1 / 26:  87%|██████████████████████████████████████████████████████████         | 26/30 [02:30<00:23,  5.78s/it]\u001b[A\u001b[A\n",
      "\n",
      "[Succeeded / Failed / Skipped / Total] 19 / 6 / 1 / 26:  90%|████████████████████████████████████████████████████████████▎      | 27/30 [02:45<00:18,  6.14s/it]\u001b[A\u001b[A\n",
      "\n",
      "[Succeeded / Failed / Skipped / Total] 20 / 6 / 1 / 27:  90%|████████████████████████████████████████████████████████████▎      | 27/30 [02:45<00:18,  6.14s/it]\u001b[A\u001b[A\n",
      "\n",
      "[Succeeded / Failed / Skipped / Total] 20 / 6 / 1 / 27:  93%|██████████████████████████████████████████████████████████████▌    | 28/30 [02:56<00:12,  6.31s/it]\u001b[A\u001b[A\n",
      "\n",
      "[Succeeded / Failed / Skipped / Total] 20 / 7 / 1 / 28:  93%|██████████████████████████████████████████████████████████████▌    | 28/30 [02:56<00:12,  6.31s/it]\u001b[A\u001b[A\n",
      "\n",
      "[Succeeded / Failed / Skipped / Total] 20 / 7 / 1 / 28:  97%|████████████████████████████████████████████████████████████████▊  | 29/30 [02:59<00:06,  6.20s/it]\u001b[A\u001b[A\n",
      "\n",
      "[Succeeded / Failed / Skipped / Total] 21 / 7 / 1 / 29:  97%|████████████████████████████████████████████████████████████████▊  | 29/30 [02:59<00:06,  6.20s/it]\u001b[A\u001b[A\n",
      "\n",
      "[Succeeded / Failed / Skipped / Total] 21 / 7 / 1 / 29: 100%|███████████████████████████████████████████████████████████████████| 30/30 [03:03<00:00,  6.12s/it]\u001b[A\u001b[A\n",
      "\n",
      "[Succeeded / Failed / Skipped / Total] 22 / 7 / 1 / 30: 100%|███████████████████████████████████████████████████████████████████| 30/30 [03:03<00:00,  6.12s/it]\u001b[A\u001b[Atextattack: Saving checkpoint under \"checkpoints/1713513509671.ta.chkpt\" at 2024-04-19 07:58:29 after 30 attacks.\n",
      "[Succeeded / Failed / Skipped / Total] 22 / 7 / 1 / 30: 100%|███████████████████████████████████████████████████████████████████| 30/30 [03:03<00:00,  6.12s/it]"
     ]
    },
    {
     "name": "stdout",
     "output_type": "stream",
     "text": [
      "\n",
      "\n",
      "=============================================================================================================================\n",
      "=============================================================================================================================\n",
      "\n",
      "\n",
      "+-------------------------------+--------+\n",
      "| Attack Results                |        |\n",
      "+-------------------------------+--------+\n",
      "| Number of successful attacks: | 22     |\n",
      "| Number of failed attacks:     | 7      |\n",
      "| Number of skipped attacks:    | 1      |\n",
      "| Original accuracy:            | 96.67% |\n",
      "| Accuracy under attack:        | 23.33% |\n",
      "| Attack success rate:          | 75.86% |\n",
      "| Average perturbed word %:     | 9.0%   |\n",
      "| Average num. words per input: | 22.7   |\n",
      "| Avg num queries:              | 399.28 |\n",
      "+-------------------------------+--------+"
     ]
    },
    {
     "name": "stderr",
     "output_type": "stream",
     "text": [
      "\n"
     ]
    },
    {
     "name": "stdout",
     "output_type": "stream",
     "text": [
      "\n"
     ]
    },
    {
     "name": "stderr",
     "output_type": "stream",
     "text": [
      "textattack: Unknown if model of class <class 'models.model_1.ad_transformer'> compatible with goal function <class 'textattack.goal_functions.classification.targeted_classification.TargetedClassification'>.\n",
      "textattack: Logging to CSV at path rank/log_100.csv\n"
     ]
    },
    {
     "name": "stdout",
     "output_type": "stream",
     "text": [
      "Attack(\n",
      "  (search_method): GreedySearch\n",
      "  (goal_function):  TargetedClassification(\n",
      "    (target_class):  1\n",
      "  )\n",
      "  (transformation):  WordSwapEmbedding(\n",
      "    (max_candidates):  15\n",
      "    (embedding):  WordEmbedding\n",
      "  )\n",
      "  (constraints): \n",
      "    (0): RepeatModification\n",
      "    (1): StopwordModification\n",
      "  (is_black_box):  True\n",
      ") \n",
      "\n"
     ]
    },
    {
     "name": "stderr",
     "output_type": "stream",
     "text": [
      "\n",
      "\n",
      "  0%|                                                                                                                                    | 0/30 [00:00<?, ?it/s]\u001b[A\u001b[A\n",
      "\n",
      "  3%|████▏                                                                                                                       | 1/30 [00:02<01:18,  2.71s/it]\u001b[A\u001b[A\n",
      "\n",
      "[Succeeded / Failed / Skipped / Total] 1 / 0 / 0 / 1:   3%|██▎                                                                   | 1/30 [00:02<01:19,  2.73s/it]\u001b[A\u001b[A\n",
      "\n",
      "[Succeeded / Failed / Skipped / Total] 1 / 0 / 0 / 1:   7%|████▋                                                                 | 2/30 [00:05<01:22,  2.93s/it]\u001b[A\u001b[A\n",
      "\n",
      "[Succeeded / Failed / Skipped / Total] 2 / 0 / 0 / 2:   7%|████▋                                                                 | 2/30 [00:05<01:22,  2.94s/it]\u001b[A\u001b[A\n",
      "\n",
      "[Succeeded / Failed / Skipped / Total] 2 / 0 / 0 / 2:  10%|███████                                                               | 3/30 [00:09<01:25,  3.18s/it]\u001b[A\u001b[A\n",
      "\n",
      "[Succeeded / Failed / Skipped / Total] 3 / 0 / 0 / 3:  10%|███████                                                               | 3/30 [00:09<01:25,  3.19s/it]\u001b[A\u001b[A\n",
      "\n",
      "[Succeeded / Failed / Skipped / Total] 3 / 0 / 0 / 3:  13%|█████████▎                                                            | 4/30 [00:13<01:27,  3.36s/it]\u001b[A\u001b[A\n",
      "\n",
      "[Succeeded / Failed / Skipped / Total] 4 / 0 / 0 / 4:  13%|█████████▎                                                            | 4/30 [00:13<01:27,  3.36s/it]\u001b[A\u001b[A\n",
      "\n",
      "[Succeeded / Failed / Skipped / Total] 4 / 0 / 0 / 4:  17%|███████████▋                                                          | 5/30 [00:16<01:23,  3.35s/it]\u001b[A\u001b[A\n",
      "\n",
      "[Succeeded / Failed / Skipped / Total] 5 / 0 / 0 / 5:  17%|███████████▋                                                          | 5/30 [00:16<01:23,  3.35s/it]\u001b[A\u001b[Atextattack: Saving checkpoint under \"checkpoints/1713513527749.ta.chkpt\" at 2024-04-19 07:58:47 after 5 attacks.\n"
     ]
    },
    {
     "name": "stdout",
     "output_type": "stream",
     "text": [
      "\n",
      "\n",
      "=============================================================================================================================\n",
      "=============================================================================================================================\n",
      "\n"
     ]
    },
    {
     "name": "stderr",
     "output_type": "stream",
     "text": [
      "\n",
      "\n",
      "[Succeeded / Failed / Skipped / Total] 5 / 0 / 0 / 5:  20%|██████████████                                                        | 6/30 [00:20<01:20,  3.37s/it]\u001b[A\u001b[A\n",
      "\n",
      "[Succeeded / Failed / Skipped / Total] 6 / 0 / 0 / 6:  20%|██████████████                                                        | 6/30 [00:20<01:20,  3.37s/it]\u001b[A\u001b[A\n",
      "\n",
      "[Succeeded / Failed / Skipped / Total] 6 / 0 / 0 / 6:  23%|████████████████▎                                                     | 7/30 [00:23<01:18,  3.42s/it]\u001b[A\u001b[A\n",
      "\n",
      "[Succeeded / Failed / Skipped / Total] 7 / 0 / 0 / 7:  23%|████████████████▎                                                     | 7/30 [00:23<01:18,  3.42s/it]\u001b[A\u001b[A\n",
      "\n",
      "[Succeeded / Failed / Skipped / Total] 7 / 0 / 0 / 7:  27%|██████████████████▋                                                   | 8/30 [00:24<01:07,  3.08s/it]\u001b[A\u001b[A\n",
      "\n",
      "[Succeeded / Failed / Skipped / Total] 7 / 1 / 0 / 8:  27%|██████████████████▋                                                   | 8/30 [00:24<01:08,  3.09s/it]\u001b[A\u001b[A\n",
      "\n",
      "[Succeeded / Failed / Skipped / Total] 7 / 1 / 0 / 8:  30%|█████████████████████                                                 | 9/30 [00:33<01:18,  3.75s/it]\u001b[A\u001b[A\n",
      "\n",
      "[Succeeded / Failed / Skipped / Total] 8 / 1 / 0 / 9:  30%|█████████████████████                                                 | 9/30 [00:33<01:18,  3.75s/it]\u001b[A\u001b[A\n",
      "\n",
      "[Succeeded / Failed / Skipped / Total] 8 / 1 / 0 / 9:  33%|███████████████████████                                              | 10/30 [00:36<01:13,  3.67s/it]\u001b[A\u001b[A\n",
      "\n",
      "[Succeeded / Failed / Skipped / Total] 9 / 1 / 0 / 10:  33%|██████████████████████▋                                             | 10/30 [00:36<01:13,  3.68s/it]\u001b[A\u001b[Atextattack: Saving checkpoint under \"checkpoints/1713513547753.ta.chkpt\" at 2024-04-19 07:59:07 after 10 attacks.\n"
     ]
    },
    {
     "name": "stdout",
     "output_type": "stream",
     "text": [
      "\n",
      "\n",
      "=============================================================================================================================\n",
      "=============================================================================================================================\n",
      "\n"
     ]
    },
    {
     "name": "stderr",
     "output_type": "stream",
     "text": [
      "\n",
      "\n",
      "[Succeeded / Failed / Skipped / Total] 9 / 1 / 0 / 10:  37%|████████████████████████▉                                           | 11/30 [00:40<01:09,  3.67s/it]\u001b[A\u001b[A\n",
      "\n",
      "[Succeeded / Failed / Skipped / Total] 10 / 1 / 0 / 11:  37%|████████████████████████▌                                          | 11/30 [00:40<01:09,  3.67s/it]\u001b[A\u001b[A\n",
      "\n",
      "[Succeeded / Failed / Skipped / Total] 10 / 1 / 0 / 11:  40%|██████████████████████████▊                                        | 12/30 [00:44<01:06,  3.68s/it]\u001b[A\u001b[A\n",
      "\n",
      "[Succeeded / Failed / Skipped / Total] 11 / 1 / 0 / 12:  40%|██████████████████████████▊                                        | 12/30 [00:44<01:06,  3.69s/it]\u001b[A\u001b[A\n",
      "\n",
      "[Succeeded / Failed / Skipped / Total] 11 / 1 / 0 / 12:  43%|█████████████████████████████                                      | 13/30 [00:52<01:09,  4.07s/it]\u001b[A\u001b[A\n",
      "\n",
      "[Succeeded / Failed / Skipped / Total] 11 / 2 / 0 / 13:  43%|█████████████████████████████                                      | 13/30 [00:52<01:09,  4.07s/it]\u001b[A\u001b[A\n",
      "\n",
      "[Succeeded / Failed / Skipped / Total] 11 / 2 / 0 / 13:  47%|███████████████████████████████▎                                   | 14/30 [00:58<01:06,  4.16s/it]\u001b[A\u001b[A\n",
      "\n",
      "[Succeeded / Failed / Skipped / Total] 12 / 2 / 0 / 14:  47%|███████████████████████████████▎                                   | 14/30 [00:58<01:06,  4.16s/it]\u001b[A\u001b[A\n",
      "\n",
      "[Succeeded / Failed / Skipped / Total] 12 / 2 / 0 / 14:  50%|█████████████████████████████████▌                                 | 15/30 [01:06<01:06,  4.46s/it]\u001b[A\u001b[A\n",
      "\n",
      "[Succeeded / Failed / Skipped / Total] 12 / 3 / 0 / 15:  50%|█████████████████████████████████▌                                 | 15/30 [01:06<01:06,  4.47s/it]\u001b[A\u001b[Atextattack: Saving checkpoint under \"checkpoints/1713513577985.ta.chkpt\" at 2024-04-19 07:59:37 after 15 attacks.\n"
     ]
    },
    {
     "name": "stdout",
     "output_type": "stream",
     "text": [
      "\n",
      "\n",
      "=============================================================================================================================\n",
      "=============================================================================================================================\n",
      "\n"
     ]
    },
    {
     "name": "stderr",
     "output_type": "stream",
     "text": [
      "\n",
      "\n",
      "[Succeeded / Failed / Skipped / Total] 12 / 3 / 0 / 15:  53%|███████████████████████████████████▋                               | 16/30 [01:20<01:10,  5.03s/it]\u001b[A\u001b[A\n",
      "\n",
      "[Succeeded / Failed / Skipped / Total] 12 / 4 / 0 / 16:  53%|███████████████████████████████████▋                               | 16/30 [01:20<01:10,  5.03s/it]\u001b[A\u001b[A\n",
      "\n",
      "[Succeeded / Failed / Skipped / Total] 12 / 4 / 0 / 16:  57%|█████████████████████████████████████▉                             | 17/30 [01:24<01:04,  4.95s/it]\u001b[A\u001b[A\n",
      "\n",
      "[Succeeded / Failed / Skipped / Total] 13 / 4 / 0 / 17:  57%|█████████████████████████████████████▉                             | 17/30 [01:24<01:04,  4.95s/it]\u001b[A\u001b[A\n",
      "\n",
      "[Succeeded / Failed / Skipped / Total] 13 / 4 / 0 / 17:  60%|████████████████████████████████████████▏                          | 18/30 [01:27<00:58,  4.86s/it]\u001b[A\u001b[A\n",
      "\n",
      "[Succeeded / Failed / Skipped / Total] 14 / 4 / 0 / 18:  60%|████████████████████████████████████████▏                          | 18/30 [01:27<00:58,  4.86s/it]\u001b[A\u001b[A\n",
      "\n",
      "[Succeeded / Failed / Skipped / Total] 14 / 4 / 0 / 18:  63%|██████████████████████████████████████████▍                        | 19/30 [01:40<00:58,  5.30s/it]\u001b[A\u001b[A\n",
      "\n",
      "[Succeeded / Failed / Skipped / Total] 15 / 4 / 0 / 19:  63%|██████████████████████████████████████████▍                        | 19/30 [01:40<00:58,  5.30s/it]\u001b[A\u001b[Atextattack: CSVLogger exiting without calling flush().\n",
      "[Succeeded / Failed / Skipped / Total] 2 / 0 / 3 / 5:  17%|███████████▏                                                       | 5/30 [43:23<3:36:59, 520.79s/it]\n",
      "\n",
      "\n",
      "[Succeeded / Failed / Skipped / Total] 15 / 4 / 0 / 19:  67%|████████████████████████████████████████████▋                      | 20/30 [01:46<00:53,  5.32s/it]\u001b[A\u001b[A\n",
      "\n",
      "[Succeeded / Failed / Skipped / Total] 16 / 4 / 0 / 20:  67%|████████████████████████████████████████████▋                      | 20/30 [01:46<00:53,  5.32s/it]\u001b[A\u001b[Atextattack: Saving checkpoint under \"checkpoints/1713513617491.ta.chkpt\" at 2024-04-19 08:00:17 after 20 attacks.\n"
     ]
    },
    {
     "name": "stdout",
     "output_type": "stream",
     "text": [
      "\n",
      "\n",
      "=============================================================================================================================\n",
      "=============================================================================================================================\n",
      "\n"
     ]
    },
    {
     "name": "stderr",
     "output_type": "stream",
     "text": [
      "\n",
      "\n",
      "[Succeeded / Failed / Skipped / Total] 16 / 4 / 0 / 20:  70%|██████████████████████████████████████████████▉                    | 21/30 [01:52<00:48,  5.36s/it]\u001b[A\u001b[A\n",
      "\n",
      "[Succeeded / Failed / Skipped / Total] 17 / 4 / 0 / 21:  70%|██████████████████████████████████████████████▉                    | 21/30 [01:52<00:48,  5.36s/it]\u001b[A\u001b[A\n",
      "\n",
      "[Succeeded / Failed / Skipped / Total] 17 / 4 / 0 / 21:  73%|█████████████████████████████████████████████████▏                 | 22/30 [01:57<00:42,  5.35s/it]\u001b[A\u001b[A\n",
      "\n",
      "[Succeeded / Failed / Skipped / Total] 18 / 4 / 0 / 22:  73%|█████████████████████████████████████████████████▏                 | 22/30 [01:57<00:42,  5.35s/it]\u001b[A\u001b[A\n",
      "\n",
      "[Succeeded / Failed / Skipped / Total] 18 / 4 / 0 / 22:  77%|███████████████████████████████████████████████████▎               | 23/30 [02:06<00:38,  5.52s/it]\u001b[A\u001b[A\n",
      "\n",
      "[Succeeded / Failed / Skipped / Total] 19 / 4 / 0 / 23:  77%|███████████████████████████████████████████████████▎               | 23/30 [02:06<00:38,  5.52s/it]\u001b[A\u001b[A\n",
      "\n",
      "[Succeeded / Failed / Skipped / Total] 19 / 4 / 0 / 23:  80%|█████████████████████████████████████████████████████▌             | 24/30 [02:16<00:34,  5.67s/it]\u001b[A\u001b[A\n",
      "\n",
      "[Succeeded / Failed / Skipped / Total] 20 / 4 / 0 / 24:  80%|█████████████████████████████████████████████████████▌             | 24/30 [02:16<00:34,  5.67s/it]\u001b[A\u001b[A\n",
      "\n",
      "[Succeeded / Failed / Skipped / Total] 20 / 4 / 0 / 24:  83%|███████████████████████████████████████████████████████▊           | 25/30 [02:35<00:31,  6.22s/it]\u001b[A\u001b[A\n",
      "\n",
      "[Succeeded / Failed / Skipped / Total] 21 / 4 / 0 / 25:  83%|███████████████████████████████████████████████████████▊           | 25/30 [02:35<00:31,  6.23s/it]\u001b[A\u001b[Atextattack: Saving checkpoint under \"checkpoints/1713513666641.ta.chkpt\" at 2024-04-19 08:01:06 after 25 attacks.\n"
     ]
    },
    {
     "name": "stdout",
     "output_type": "stream",
     "text": [
      "\n",
      "\n",
      "=============================================================================================================================\n",
      "=============================================================================================================================\n",
      "\n"
     ]
    },
    {
     "name": "stderr",
     "output_type": "stream",
     "text": [
      "\n",
      "\n",
      "[Succeeded / Failed / Skipped / Total] 21 / 4 / 0 / 25:  87%|██████████████████████████████████████████████████████████         | 26/30 [02:48<00:25,  6.48s/it]\u001b[A\u001b[A\n",
      "\n",
      "[Succeeded / Failed / Skipped / Total] 22 / 4 / 0 / 26:  87%|██████████████████████████████████████████████████████████         | 26/30 [02:48<00:25,  6.48s/it]\u001b[A\u001b[A\n",
      "\n",
      "[Succeeded / Failed / Skipped / Total] 22 / 4 / 0 / 26:  90%|████████████████████████████████████████████████████████████▎      | 27/30 [03:01<00:20,  6.74s/it]\u001b[A\u001b[A\n",
      "\n",
      "[Succeeded / Failed / Skipped / Total] 23 / 4 / 0 / 27:  90%|████████████████████████████████████████████████████████████▎      | 27/30 [03:01<00:20,  6.74s/it]\u001b[A\u001b[A\n",
      "\n",
      "[Succeeded / Failed / Skipped / Total] 23 / 4 / 0 / 27:  93%|██████████████████████████████████████████████████████████████▌    | 28/30 [03:13<00:13,  6.90s/it]\u001b[A\u001b[A\n",
      "\n",
      "[Succeeded / Failed / Skipped / Total] 23 / 5 / 0 / 28:  93%|██████████████████████████████████████████████████████████████▌    | 28/30 [03:13<00:13,  6.90s/it]\u001b[A\u001b[A\n",
      "\n",
      "[Succeeded / Failed / Skipped / Total] 23 / 5 / 0 / 28:  97%|████████████████████████████████████████████████████████████████▊  | 29/30 [03:16<00:06,  6.76s/it]\u001b[A\u001b[A\n",
      "\n",
      "[Succeeded / Failed / Skipped / Total] 24 / 5 / 0 / 29:  97%|████████████████████████████████████████████████████████████████▊  | 29/30 [03:16<00:06,  6.76s/it]\u001b[A\u001b[A\n",
      "\n",
      "[Succeeded / Failed / Skipped / Total] 24 / 5 / 0 / 29: 100%|███████████████████████████████████████████████████████████████████| 30/30 [03:19<00:00,  6.66s/it]\u001b[A\u001b[A\n",
      "\n",
      "[Succeeded / Failed / Skipped / Total] 25 / 5 / 0 / 30: 100%|███████████████████████████████████████████████████████████████████| 30/30 [03:19<00:00,  6.66s/it]\u001b[A\u001b[Atextattack: Saving checkpoint under \"checkpoints/1713513710786.ta.chkpt\" at 2024-04-19 08:01:50 after 30 attacks.\n",
      "[Succeeded / Failed / Skipped / Total] 25 / 5 / 0 / 30: 100%|███████████████████████████████████████████████████████████████████| 30/30 [03:19<00:00,  6.66s/it]"
     ]
    },
    {
     "name": "stdout",
     "output_type": "stream",
     "text": [
      "\n",
      "\n",
      "=============================================================================================================================\n",
      "=============================================================================================================================\n",
      "\n",
      "\n",
      "+-------------------------------+--------+\n",
      "| Attack Results                |        |\n",
      "+-------------------------------+--------+\n",
      "| Number of successful attacks: | 25     |\n",
      "| Number of failed attacks:     | 5      |\n",
      "| Number of skipped attacks:    | 0      |\n",
      "| Original accuracy:            | 100.0% |\n",
      "| Accuracy under attack:        | 16.67% |\n",
      "| Attack success rate:          | 83.33% |\n",
      "| Average perturbed word %:     | 11.03% |\n",
      "| Average num. words per input: | 22.7   |\n",
      "| Avg num queries:              | 405.0  |\n",
      "+-------------------------------+--------+"
     ]
    },
    {
     "name": "stderr",
     "output_type": "stream",
     "text": [
      "\n"
     ]
    },
    {
     "name": "stdout",
     "output_type": "stream",
     "text": [
      "\n"
     ]
    },
    {
     "name": "stderr",
     "output_type": "stream",
     "text": [
      "textattack: Unknown if model of class <class 'models.model_1.ad_transformer'> compatible with goal function <class 'textattack.goal_functions.classification.targeted_classification.TargetedClassification'>.\n",
      "textattack: Logging to CSV at path rank/log_150.csv\n"
     ]
    },
    {
     "name": "stdout",
     "output_type": "stream",
     "text": [
      "Attack(\n",
      "  (search_method): GreedySearch\n",
      "  (goal_function):  TargetedClassification(\n",
      "    (target_class):  1\n",
      "  )\n",
      "  (transformation):  WordSwapEmbedding(\n",
      "    (max_candidates):  15\n",
      "    (embedding):  WordEmbedding\n",
      "  )\n",
      "  (constraints): \n",
      "    (0): RepeatModification\n",
      "    (1): StopwordModification\n",
      "  (is_black_box):  True\n",
      ") \n",
      "\n"
     ]
    },
    {
     "name": "stderr",
     "output_type": "stream",
     "text": [
      "[Succeeded / Failed / Skipped / Total] 5 / 0 / 0 / 5:  17%|███████████▋                                                          | 5/30 [00:16<01:23,  3.35s/it]textattack: Saving checkpoint under \"checkpoints/1713513728879.ta.chkpt\" at 2024-04-19 08:02:08 after 5 attacks.\n"
     ]
    },
    {
     "name": "stdout",
     "output_type": "stream",
     "text": [
      "\n",
      "\n",
      "=============================================================================================================================\n",
      "=============================================================================================================================\n",
      "\n"
     ]
    },
    {
     "name": "stderr",
     "output_type": "stream",
     "text": [
      "[Succeeded / Failed / Skipped / Total] 9 / 1 / 0 / 10:  33%|██████████████████████▋                                             | 10/30 [00:34<01:08,  3.40s/it]textattack: Saving checkpoint under \"checkpoints/1713513746133.ta.chkpt\" at 2024-04-19 08:02:26 after 10 attacks.\n"
     ]
    },
    {
     "name": "stdout",
     "output_type": "stream",
     "text": [
      "\n",
      "\n",
      "=============================================================================================================================\n",
      "=============================================================================================================================\n",
      "\n"
     ]
    },
    {
     "name": "stderr",
     "output_type": "stream",
     "text": [
      "[Succeeded / Failed / Skipped / Total] 11 / 4 / 0 / 15:  50%|█████████████████████████████████▌                                 | 15/30 [01:10<01:10,  4.71s/it]textattack: Saving checkpoint under \"checkpoints/1713513782841.ta.chkpt\" at 2024-04-19 08:03:02 after 15 attacks.\n"
     ]
    },
    {
     "name": "stdout",
     "output_type": "stream",
     "text": [
      "\n",
      "\n",
      "=============================================================================================================================\n",
      "=============================================================================================================================\n",
      "\n"
     ]
    },
    {
     "name": "stderr",
     "output_type": "stream",
     "text": [
      "[Succeeded / Failed / Skipped / Total] 16 / 4 / 0 / 20:  67%|████████████████████████████████████████████▋                      | 20/30 [01:47<00:53,  5.39s/it]textattack: Saving checkpoint under \"checkpoints/1713513819872.ta.chkpt\" at 2024-04-19 08:03:39 after 20 attacks.\n"
     ]
    },
    {
     "name": "stdout",
     "output_type": "stream",
     "text": [
      "\n",
      "\n",
      "=============================================================================================================================\n",
      "=============================================================================================================================\n",
      "\n"
     ]
    },
    {
     "name": "stderr",
     "output_type": "stream",
     "text": [
      "[Succeeded / Failed / Skipped / Total] 20 / 5 / 0 / 25:  83%|███████████████████████████████████████████████████████▊           | 25/30 [02:41<00:32,  6.47s/it]textattack: Saving checkpoint under \"checkpoints/1713513874003.ta.chkpt\" at 2024-04-19 08:04:34 after 25 attacks.\n"
     ]
    },
    {
     "name": "stdout",
     "output_type": "stream",
     "text": [
      "\n",
      "\n",
      "=============================================================================================================================\n",
      "=============================================================================================================================\n",
      "\n"
     ]
    },
    {
     "name": "stderr",
     "output_type": "stream",
     "text": [
      "[Succeeded / Failed / Skipped / Total] 24 / 6 / 0 / 30: 100%|███████████████████████████████████████████████████████████████████| 30/30 [03:24<00:00,  6.81s/it]textattack: Saving checkpoint under \"checkpoints/1713513916437.ta.chkpt\" at 2024-04-19 08:05:16 after 30 attacks.\n",
      "[Succeeded / Failed / Skipped / Total] 24 / 6 / 0 / 30: 100%|███████████████████████████████████████████████████████████████████| 30/30 [03:24<00:00,  6.81s/it]"
     ]
    },
    {
     "name": "stdout",
     "output_type": "stream",
     "text": [
      "\n",
      "\n",
      "=============================================================================================================================\n",
      "=============================================================================================================================\n",
      "\n",
      "\n",
      "+-------------------------------+--------+\n",
      "| Attack Results                |        |\n",
      "+-------------------------------+--------+\n",
      "| Number of successful attacks: | 24     |\n",
      "| Number of failed attacks:     | 6      |\n",
      "| Number of skipped attacks:    | 0      |\n",
      "| Original accuracy:            | 100.0% |\n",
      "| Accuracy under attack:        | 20.0%  |\n",
      "| Attack success rate:          | 80.0%  |\n",
      "| Average perturbed word %:     | 10.86% |\n",
      "| Average num. words per input: | 22.7   |\n",
      "| Avg num queries:              | 413.5  |\n",
      "+-------------------------------+--------+"
     ]
    },
    {
     "name": "stderr",
     "output_type": "stream",
     "text": [
      "\n"
     ]
    },
    {
     "name": "stdout",
     "output_type": "stream",
     "text": [
      "\n"
     ]
    },
    {
     "name": "stderr",
     "output_type": "stream",
     "text": [
      "textattack: Unknown if model of class <class 'models.model_1.ad_transformer'> compatible with goal function <class 'textattack.goal_functions.classification.targeted_classification.TargetedClassification'>.\n",
      "textattack: Logging to CSV at path rank/log_200.csv\n"
     ]
    },
    {
     "name": "stdout",
     "output_type": "stream",
     "text": [
      "Attack(\n",
      "  (search_method): GreedySearch\n",
      "  (goal_function):  TargetedClassification(\n",
      "    (target_class):  1\n",
      "  )\n",
      "  (transformation):  WordSwapEmbedding(\n",
      "    (max_candidates):  15\n",
      "    (embedding):  WordEmbedding\n",
      "  )\n",
      "  (constraints): \n",
      "    (0): RepeatModification\n",
      "    (1): StopwordModification\n",
      "  (is_black_box):  True\n",
      ") \n",
      "\n"
     ]
    },
    {
     "name": "stderr",
     "output_type": "stream",
     "text": [
      "[Succeeded / Failed / Skipped / Total] 5 / 0 / 0 / 5:  17%|███████████▋                                                          | 5/30 [00:17<01:25,  3.41s/it]textattack: Saving checkpoint under \"checkpoints/1713513934890.ta.chkpt\" at 2024-04-19 08:05:34 after 5 attacks.\n"
     ]
    },
    {
     "name": "stdout",
     "output_type": "stream",
     "text": [
      "\n",
      "\n",
      "=============================================================================================================================\n",
      "=============================================================================================================================\n",
      "\n"
     ]
    },
    {
     "name": "stderr",
     "output_type": "stream",
     "text": [
      "[Succeeded / Failed / Skipped / Total] 9 / 1 / 0 / 10:  33%|██████████████████████▋                                             | 10/30 [00:33<01:07,  3.39s/it]textattack: Saving checkpoint under \"checkpoints/1713513951762.ta.chkpt\" at 2024-04-19 08:05:51 after 10 attacks.\n"
     ]
    },
    {
     "name": "stdout",
     "output_type": "stream",
     "text": [
      "\n",
      "\n",
      "=============================================================================================================================\n",
      "=============================================================================================================================\n",
      "\n"
     ]
    },
    {
     "name": "stderr",
     "output_type": "stream",
     "text": [
      "[Succeeded / Failed / Skipped / Total] 12 / 3 / 0 / 15:  50%|█████████████████████████████████▌                                 | 15/30 [01:09<01:09,  4.65s/it]textattack: Saving checkpoint under \"checkpoints/1713513987631.ta.chkpt\" at 2024-04-19 08:06:27 after 15 attacks.\n"
     ]
    },
    {
     "name": "stdout",
     "output_type": "stream",
     "text": [
      "\n",
      "\n",
      "=============================================================================================================================\n",
      "=============================================================================================================================\n",
      "\n"
     ]
    },
    {
     "name": "stderr",
     "output_type": "stream",
     "text": [
      "[Succeeded / Failed / Skipped / Total] 16 / 4 / 0 / 20:  67%|████████████████████████████████████████████▋                      | 20/30 [01:46<00:53,  5.33s/it]textattack: Saving checkpoint under \"checkpoints/1713514024448.ta.chkpt\" at 2024-04-19 08:07:04 after 20 attacks.\n"
     ]
    },
    {
     "name": "stdout",
     "output_type": "stream",
     "text": [
      "\n",
      "\n",
      "=============================================================================================================================\n",
      "=============================================================================================================================\n",
      "\n"
     ]
    },
    {
     "name": "stderr",
     "output_type": "stream",
     "text": [
      "[Succeeded / Failed / Skipped / Total] 20 / 5 / 0 / 25:  83%|███████████████████████████████████████████████████████▊           | 25/30 [02:49<00:33,  6.76s/it]textattack: Saving checkpoint under \"checkpoints/1713514086919.ta.chkpt\" at 2024-04-19 08:08:06 after 25 attacks.\n"
     ]
    },
    {
     "name": "stdout",
     "output_type": "stream",
     "text": [
      "\n",
      "\n",
      "=============================================================================================================================\n",
      "=============================================================================================================================\n",
      "\n"
     ]
    },
    {
     "name": "stderr",
     "output_type": "stream",
     "text": [
      "[Succeeded / Failed / Skipped / Total] 24 / 6 / 0 / 30: 100%|███████████████████████████████████████████████████████████████████| 30/30 [03:30<00:00,  7.03s/it]textattack: Saving checkpoint under \"checkpoints/1713514128826.ta.chkpt\" at 2024-04-19 08:08:48 after 30 attacks.\n",
      "[Succeeded / Failed / Skipped / Total] 24 / 6 / 0 / 30: 100%|███████████████████████████████████████████████████████████████████| 30/30 [03:30<00:00,  7.03s/it]"
     ]
    },
    {
     "name": "stdout",
     "output_type": "stream",
     "text": [
      "\n",
      "\n",
      "=============================================================================================================================\n",
      "=============================================================================================================================\n",
      "\n",
      "\n",
      "+-------------------------------+--------+\n",
      "| Attack Results                |        |\n",
      "+-------------------------------+--------+\n",
      "| Number of successful attacks: | 24     |\n",
      "| Number of failed attacks:     | 6      |\n",
      "| Number of skipped attacks:    | 0      |\n",
      "| Original accuracy:            | 100.0% |\n",
      "| Accuracy under attack:        | 20.0%  |\n",
      "| Attack success rate:          | 80.0%  |\n",
      "| Average perturbed word %:     | 12.48% |\n",
      "| Average num. words per input: | 22.7   |\n",
      "| Avg num queries:              | 426.5  |\n",
      "+-------------------------------+--------+"
     ]
    },
    {
     "name": "stderr",
     "output_type": "stream",
     "text": [
      "\n"
     ]
    },
    {
     "name": "stdout",
     "output_type": "stream",
     "text": [
      "\n"
     ]
    },
    {
     "name": "stderr",
     "output_type": "stream",
     "text": [
      "textattack: Unknown if model of class <class 'models.model_1.ad_transformer'> compatible with goal function <class 'textattack.goal_functions.classification.targeted_classification.TargetedClassification'>.\n",
      "textattack: Logging to CSV at path rank/log_250.csv\n"
     ]
    },
    {
     "name": "stdout",
     "output_type": "stream",
     "text": [
      "Attack(\n",
      "  (search_method): GreedySearch\n",
      "  (goal_function):  TargetedClassification(\n",
      "    (target_class):  1\n",
      "  )\n",
      "  (transformation):  WordSwapEmbedding(\n",
      "    (max_candidates):  15\n",
      "    (embedding):  WordEmbedding\n",
      "  )\n",
      "  (constraints): \n",
      "    (0): RepeatModification\n",
      "    (1): StopwordModification\n",
      "  (is_black_box):  True\n",
      ") \n",
      "\n"
     ]
    },
    {
     "name": "stderr",
     "output_type": "stream",
     "text": [
      "[Succeeded / Failed / Skipped / Total] 5 / 0 / 0 / 5:  17%|███████████▋                                                          | 5/30 [00:17<01:27,  3.49s/it]textattack: Saving checkpoint under \"checkpoints/1713514147675.ta.chkpt\" at 2024-04-19 08:09:07 after 5 attacks.\n"
     ]
    },
    {
     "name": "stdout",
     "output_type": "stream",
     "text": [
      "\n",
      "\n",
      "=============================================================================================================================\n",
      "=============================================================================================================================\n",
      "\n"
     ]
    },
    {
     "name": "stderr",
     "output_type": "stream",
     "text": [
      "[Succeeded / Failed / Skipped / Total] 9 / 1 / 0 / 10:  33%|██████████████████████▋                                             | 10/30 [00:37<01:15,  3.78s/it]textattack: Saving checkpoint under \"checkpoints/1713514168008.ta.chkpt\" at 2024-04-19 08:09:28 after 10 attacks.\n"
     ]
    },
    {
     "name": "stdout",
     "output_type": "stream",
     "text": [
      "\n",
      "\n",
      "=============================================================================================================================\n",
      "=============================================================================================================================\n",
      "\n"
     ]
    },
    {
     "name": "stderr",
     "output_type": "stream",
     "text": [
      "[Succeeded / Failed / Skipped / Total] 12 / 3 / 0 / 15:  50%|█████████████████████████████████▌                                 | 15/30 [01:09<01:09,  4.65s/it]textattack: Saving checkpoint under \"checkpoints/1713514199962.ta.chkpt\" at 2024-04-19 08:09:59 after 15 attacks.\n"
     ]
    },
    {
     "name": "stdout",
     "output_type": "stream",
     "text": [
      "\n",
      "\n",
      "=============================================================================================================================\n",
      "=============================================================================================================================\n",
      "\n"
     ]
    },
    {
     "name": "stderr",
     "output_type": "stream",
     "text": [
      "[Succeeded / Failed / Skipped / Total] 16 / 4 / 0 / 20:  67%|████████████████████████████████████████████▋                      | 20/30 [01:51<00:55,  5.58s/it]textattack: Saving checkpoint under \"checkpoints/1713514241728.ta.chkpt\" at 2024-04-19 08:10:41 after 20 attacks.\n"
     ]
    },
    {
     "name": "stdout",
     "output_type": "stream",
     "text": [
      "\n",
      "\n",
      "=============================================================================================================================\n",
      "=============================================================================================================================\n",
      "\n"
     ]
    },
    {
     "name": "stderr",
     "output_type": "stream",
     "text": [
      "[Succeeded / Failed / Skipped / Total] 19 / 6 / 0 / 25:  83%|███████████████████████████████████████████████████████▊           | 25/30 [02:48<00:33,  6.72s/it]textattack: Saving checkpoint under \"checkpoints/1713514298330.ta.chkpt\" at 2024-04-19 08:11:38 after 25 attacks.\n"
     ]
    },
    {
     "name": "stdout",
     "output_type": "stream",
     "text": [
      "\n",
      "\n",
      "=============================================================================================================================\n",
      "=============================================================================================================================\n",
      "\n"
     ]
    },
    {
     "name": "stderr",
     "output_type": "stream",
     "text": [
      "[Succeeded / Failed / Skipped / Total] 23 / 7 / 0 / 30: 100%|███████████████████████████████████████████████████████████████████| 30/30 [03:33<00:00,  7.13s/it]textattack: Saving checkpoint under \"checkpoints/1713514343983.ta.chkpt\" at 2024-04-19 08:12:23 after 30 attacks.\n",
      "[Succeeded / Failed / Skipped / Total] 23 / 7 / 0 / 30: 100%|███████████████████████████████████████████████████████████████████| 30/30 [03:33<00:00,  7.13s/it]"
     ]
    },
    {
     "name": "stdout",
     "output_type": "stream",
     "text": [
      "\n",
      "\n",
      "=============================================================================================================================\n",
      "=============================================================================================================================\n",
      "\n",
      "\n",
      "+-------------------------------+--------+\n",
      "| Attack Results                |        |\n",
      "+-------------------------------+--------+\n",
      "| Number of successful attacks: | 23     |\n",
      "| Number of failed attacks:     | 7      |\n",
      "| Number of skipped attacks:    | 0      |\n",
      "| Original accuracy:            | 100.0% |\n",
      "| Accuracy under attack:        | 23.33% |\n",
      "| Attack success rate:          | 76.67% |\n",
      "| Average perturbed word %:     | 10.43% |\n",
      "| Average num. words per input: | 22.7   |\n",
      "| Avg num queries:              | 434.5  |\n",
      "+-------------------------------+--------+"
     ]
    },
    {
     "name": "stderr",
     "output_type": "stream",
     "text": [
      "\n"
     ]
    },
    {
     "name": "stdout",
     "output_type": "stream",
     "text": [
      "\n"
     ]
    },
    {
     "name": "stderr",
     "output_type": "stream",
     "text": [
      "textattack: Unknown if model of class <class 'models.model_1.ad_transformer'> compatible with goal function <class 'textattack.goal_functions.classification.targeted_classification.TargetedClassification'>.\n",
      "textattack: Logging to CSV at path rank/log_300.csv\n"
     ]
    },
    {
     "name": "stdout",
     "output_type": "stream",
     "text": [
      "Attack(\n",
      "  (search_method): GreedySearch\n",
      "  (goal_function):  TargetedClassification(\n",
      "    (target_class):  1\n",
      "  )\n",
      "  (transformation):  WordSwapEmbedding(\n",
      "    (max_candidates):  15\n",
      "    (embedding):  WordEmbedding\n",
      "  )\n",
      "  (constraints): \n",
      "    (0): RepeatModification\n",
      "    (1): StopwordModification\n",
      "  (is_black_box):  True\n",
      ") \n",
      "\n"
     ]
    },
    {
     "name": "stderr",
     "output_type": "stream",
     "text": [
      "[Succeeded / Failed / Skipped / Total] 5 / 0 / 0 / 5:  17%|███████████▋                                                          | 5/30 [00:19<01:39,  3.96s/it]textattack: Saving checkpoint under \"checkpoints/1713514365234.ta.chkpt\" at 2024-04-19 08:12:45 after 5 attacks.\n"
     ]
    },
    {
     "name": "stdout",
     "output_type": "stream",
     "text": [
      "\n",
      "\n",
      "=============================================================================================================================\n",
      "=============================================================================================================================\n",
      "\n"
     ]
    },
    {
     "name": "stderr",
     "output_type": "stream",
     "text": [
      "[Succeeded / Failed / Skipped / Total] 9 / 1 / 0 / 10:  33%|██████████████████████▋                                             | 10/30 [00:36<01:13,  3.67s/it]textattack: Saving checkpoint under \"checkpoints/1713514382123.ta.chkpt\" at 2024-04-19 08:13:02 after 10 attacks.\n"
     ]
    },
    {
     "name": "stdout",
     "output_type": "stream",
     "text": [
      "\n",
      "\n",
      "=============================================================================================================================\n",
      "=============================================================================================================================\n",
      "\n"
     ]
    },
    {
     "name": "stderr",
     "output_type": "stream",
     "text": [
      "[Succeeded / Failed / Skipped / Total] 12 / 3 / 0 / 15:  50%|█████████████████████████████████▌                                 | 15/30 [01:06<01:06,  4.41s/it]textattack: Saving checkpoint under \"checkpoints/1713514411571.ta.chkpt\" at 2024-04-19 08:13:31 after 15 attacks.\n"
     ]
    },
    {
     "name": "stdout",
     "output_type": "stream",
     "text": [
      "\n",
      "\n",
      "=============================================================================================================================\n",
      "=============================================================================================================================\n",
      "\n"
     ]
    },
    {
     "name": "stderr",
     "output_type": "stream",
     "text": [
      "[Succeeded / Failed / Skipped / Total] 16 / 4 / 0 / 20:  67%|████████████████████████████████████████████▋                      | 20/30 [01:48<00:54,  5.41s/it]textattack: Saving checkpoint under \"checkpoints/1713514453579.ta.chkpt\" at 2024-04-19 08:14:13 after 20 attacks.\n"
     ]
    },
    {
     "name": "stdout",
     "output_type": "stream",
     "text": [
      "\n",
      "\n",
      "=============================================================================================================================\n",
      "=============================================================================================================================\n",
      "\n"
     ]
    },
    {
     "name": "stderr",
     "output_type": "stream",
     "text": [
      "[Succeeded / Failed / Skipped / Total] 21 / 4 / 0 / 25:  83%|███████████████████████████████████████████████████████▊           | 25/30 [02:41<00:32,  6.45s/it]textattack: Saving checkpoint under \"checkpoints/1713514506773.ta.chkpt\" at 2024-04-19 08:15:06 after 25 attacks.\n"
     ]
    },
    {
     "name": "stdout",
     "output_type": "stream",
     "text": [
      "\n",
      "\n",
      "=============================================================================================================================\n",
      "=============================================================================================================================\n",
      "\n"
     ]
    },
    {
     "name": "stderr",
     "output_type": "stream",
     "text": [
      "[Succeeded / Failed / Skipped / Total] 25 / 5 / 0 / 30: 100%|███████████████████████████████████████████████████████████████████| 30/30 [03:27<00:00,  6.93s/it]textattack: Saving checkpoint under \"checkpoints/1713514553300.ta.chkpt\" at 2024-04-19 08:15:53 after 30 attacks.\n",
      "[Succeeded / Failed / Skipped / Total] 25 / 5 / 0 / 30: 100%|███████████████████████████████████████████████████████████████████| 30/30 [03:27<00:00,  6.93s/it]"
     ]
    },
    {
     "name": "stdout",
     "output_type": "stream",
     "text": [
      "\n",
      "\n",
      "=============================================================================================================================\n",
      "=============================================================================================================================\n",
      "\n",
      "\n",
      "+-------------------------------+--------+\n",
      "| Attack Results                |        |\n",
      "+-------------------------------+--------+\n",
      "| Number of successful attacks: | 25     |\n",
      "| Number of failed attacks:     | 5      |\n",
      "| Number of skipped attacks:    | 0      |\n",
      "| Original accuracy:            | 100.0% |\n",
      "| Accuracy under attack:        | 16.67% |\n",
      "| Attack success rate:          | 83.33% |\n",
      "| Average perturbed word %:     | 12.26% |\n",
      "| Average num. words per input: | 22.7   |\n",
      "| Avg num queries:              | 428.0  |\n",
      "+-------------------------------+--------+"
     ]
    },
    {
     "name": "stderr",
     "output_type": "stream",
     "text": [
      "\n"
     ]
    },
    {
     "name": "stdout",
     "output_type": "stream",
     "text": [
      "\n"
     ]
    },
    {
     "name": "stderr",
     "output_type": "stream",
     "text": [
      "textattack: Unknown if model of class <class 'models.model_1.ad_transformer'> compatible with goal function <class 'textattack.goal_functions.classification.targeted_classification.TargetedClassification'>.\n",
      "textattack: Logging to CSV at path rank/log_350.csv\n"
     ]
    },
    {
     "name": "stdout",
     "output_type": "stream",
     "text": [
      "Attack(\n",
      "  (search_method): GreedySearch\n",
      "  (goal_function):  TargetedClassification(\n",
      "    (target_class):  1\n",
      "  )\n",
      "  (transformation):  WordSwapEmbedding(\n",
      "    (max_candidates):  15\n",
      "    (embedding):  WordEmbedding\n",
      "  )\n",
      "  (constraints): \n",
      "    (0): RepeatModification\n",
      "    (1): StopwordModification\n",
      "  (is_black_box):  True\n",
      ") \n",
      "\n"
     ]
    },
    {
     "name": "stderr",
     "output_type": "stream",
     "text": [
      "[Succeeded / Failed / Skipped / Total] 5 / 0 / 0 / 5:  17%|███████████▋                                                          | 5/30 [00:23<01:55,  4.62s/it]textattack: Saving checkpoint under \"checkpoints/1713514577761.ta.chkpt\" at 2024-04-19 08:16:17 after 5 attacks.\n"
     ]
    },
    {
     "name": "stdout",
     "output_type": "stream",
     "text": [
      "\n",
      "\n",
      "=============================================================================================================================\n",
      "=============================================================================================================================\n",
      "\n"
     ]
    },
    {
     "name": "stderr",
     "output_type": "stream",
     "text": [
      "[Succeeded / Failed / Skipped / Total] 9 / 1 / 0 / 10:  33%|██████████████████████▋                                             | 10/30 [00:45<01:31,  4.56s/it]textattack: Saving checkpoint under \"checkpoints/1713514600298.ta.chkpt\" at 2024-04-19 08:16:40 after 10 attacks.\n"
     ]
    },
    {
     "name": "stdout",
     "output_type": "stream",
     "text": [
      "\n",
      "\n",
      "=============================================================================================================================\n",
      "=============================================================================================================================\n",
      "\n"
     ]
    },
    {
     "name": "stderr",
     "output_type": "stream",
     "text": [
      "[Succeeded / Failed / Skipped / Total] 11 / 4 / 0 / 15:  50%|█████████████████████████████████▌                                 | 15/30 [01:23<01:23,  5.57s/it]textattack: Saving checkpoint under \"checkpoints/1713514638170.ta.chkpt\" at 2024-04-19 08:17:18 after 15 attacks.\n"
     ]
    },
    {
     "name": "stdout",
     "output_type": "stream",
     "text": [
      "\n",
      "\n",
      "=============================================================================================================================\n",
      "=============================================================================================================================\n",
      "\n"
     ]
    },
    {
     "name": "stderr",
     "output_type": "stream",
     "text": [
      "[Succeeded / Failed / Skipped / Total] 16 / 4 / 0 / 20:  67%|████████████████████████████████████████████▋                      | 20/30 [02:07<01:03,  6.37s/it]textattack: Saving checkpoint under \"checkpoints/1713514682028.ta.chkpt\" at 2024-04-19 08:18:02 after 20 attacks.\n"
     ]
    },
    {
     "name": "stdout",
     "output_type": "stream",
     "text": [
      "\n",
      "\n",
      "=============================================================================================================================\n",
      "=============================================================================================================================\n",
      "\n"
     ]
    },
    {
     "name": "stderr",
     "output_type": "stream",
     "text": [
      "[Succeeded / Failed / Skipped / Total] 19 / 6 / 0 / 25:  83%|███████████████████████████████████████████████████████▊           | 25/30 [03:05<00:37,  7.42s/it]textattack: Saving checkpoint under \"checkpoints/1713514740277.ta.chkpt\" at 2024-04-19 08:19:00 after 25 attacks.\n"
     ]
    },
    {
     "name": "stdout",
     "output_type": "stream",
     "text": [
      "\n",
      "\n",
      "=============================================================================================================================\n",
      "=============================================================================================================================\n",
      "\n"
     ]
    },
    {
     "name": "stderr",
     "output_type": "stream",
     "text": [
      "[Succeeded / Failed / Skipped / Total] 5 / 0 / 0 / 5:  17%|███████████▋                                                          | 5/30 [00:23<01:59,  4.77s/it]textattack: Saving checkpoint under \"checkpoints/1713514807915.ta.chkpt\" at 2024-04-19 08:20:07 after 5 attacks.\n"
     ]
    },
    {
     "name": "stdout",
     "output_type": "stream",
     "text": [
      "\n",
      "\n",
      "=============================================================================================================================\n",
      "=============================================================================================================================\n",
      "\n"
     ]
    },
    {
     "name": "stderr",
     "output_type": "stream",
     "text": [
      "[Succeeded / Failed / Skipped / Total] 9 / 1 / 0 / 10:  33%|██████████████████████▋                                             | 10/30 [00:45<01:31,  4.55s/it]textattack: Saving checkpoint under \"checkpoints/1713514829593.ta.chkpt\" at 2024-04-19 08:20:29 after 10 attacks.\n"
     ]
    },
    {
     "name": "stdout",
     "output_type": "stream",
     "text": [
      "\n",
      "\n",
      "=============================================================================================================================\n",
      "=============================================================================================================================\n",
      "\n"
     ]
    },
    {
     "name": "stderr",
     "output_type": "stream",
     "text": [
      "[Succeeded / Failed / Skipped / Total] 9 / 1 / 0 / 10:  33%|██████████████████████▋                                             | 10/30 [00:45<01:31,  4.57s/it]textattack: Saving checkpoint under \"checkpoints/1713515055119.ta.chkpt\" at 2024-04-19 08:24:15 after 10 attacks.\n"
     ]
    },
    {
     "name": "stdout",
     "output_type": "stream",
     "text": [
      "\n",
      "\n",
      "=============================================================================================================================\n",
      "=============================================================================================================================\n",
      "\n"
     ]
    },
    {
     "name": "stderr",
     "output_type": "stream",
     "text": [
      "[Succeeded / Failed / Skipped / Total] 11 / 4 / 0 / 15:  50%|█████████████████████████████████▌                                 | 15/30 [01:22<01:22,  5.50s/it]textattack: Saving checkpoint under \"checkpoints/1713515091919.ta.chkpt\" at 2024-04-19 08:24:51 after 15 attacks.\n"
     ]
    },
    {
     "name": "stdout",
     "output_type": "stream",
     "text": [
      "\n",
      "\n",
      "=============================================================================================================================\n",
      "=============================================================================================================================\n",
      "\n"
     ]
    },
    {
     "name": "stderr",
     "output_type": "stream",
     "text": [
      "[Succeeded / Failed / Skipped / Total] 15 / 5 / 0 / 20:  67%|████████████████████████████████████████████▋                      | 20/30 [02:03<01:01,  6.19s/it]textattack: Saving checkpoint under \"checkpoints/1713515133085.ta.chkpt\" at 2024-04-19 08:25:33 after 20 attacks.\n"
     ]
    },
    {
     "name": "stdout",
     "output_type": "stream",
     "text": [
      "\n",
      "\n",
      "=============================================================================================================================\n",
      "=============================================================================================================================\n",
      "\n"
     ]
    },
    {
     "name": "stderr",
     "output_type": "stream",
     "text": [
      "[Succeeded / Failed / Skipped / Total] 18 / 7 / 0 / 25:  83%|███████████████████████████████████████████████████████▊           | 25/30 [03:00<00:36,  7.21s/it]textattack: Saving checkpoint under \"checkpoints/1713515189649.ta.chkpt\" at 2024-04-19 08:26:29 after 25 attacks.\n"
     ]
    },
    {
     "name": "stdout",
     "output_type": "stream",
     "text": [
      "\n",
      "\n",
      "=============================================================================================================================\n",
      "=============================================================================================================================\n",
      "\n"
     ]
    },
    {
     "name": "stderr",
     "output_type": "stream",
     "text": [
      "[Succeeded / Failed / Skipped / Total] 21 / 9 / 0 / 30: 100%|███████████████████████████████████████████████████████████████████| 30/30 [03:53<00:00,  7.80s/it]textattack: Saving checkpoint under \"checkpoints/1713515243273.ta.chkpt\" at 2024-04-19 08:27:23 after 30 attacks.\n",
      "[Succeeded / Failed / Skipped / Total] 21 / 9 / 0 / 30: 100%|███████████████████████████████████████████████████████████████████| 30/30 [03:53<00:00,  7.80s/it]"
     ]
    },
    {
     "name": "stdout",
     "output_type": "stream",
     "text": [
      "\n",
      "\n",
      "=============================================================================================================================\n",
      "=============================================================================================================================\n",
      "\n",
      "\n",
      "+-------------------------------+--------+\n",
      "| Attack Results                |        |\n",
      "+-------------------------------+--------+\n",
      "| Number of successful attacks: | 21     |\n",
      "| Number of failed attacks:     | 9      |\n",
      "| Number of skipped attacks:    | 0      |\n",
      "| Original accuracy:            | 100.0% |\n",
      "| Accuracy under attack:        | 30.0%  |\n",
      "| Attack success rate:          | 70.0%  |\n",
      "| Average perturbed word %:     | 10.83% |\n",
      "| Average num. words per input: | 22.7   |\n",
      "| Avg num queries:              | 476.0  |\n",
      "+-------------------------------+--------+"
     ]
    },
    {
     "name": "stderr",
     "output_type": "stream",
     "text": [
      "\n"
     ]
    },
    {
     "name": "stdout",
     "output_type": "stream",
     "text": [
      "\n"
     ]
    },
    {
     "name": "stderr",
     "output_type": "stream",
     "text": [
      "textattack: Unknown if model of class <class 'models.model_1.ad_transformer'> compatible with goal function <class 'textattack.goal_functions.classification.targeted_classification.TargetedClassification'>.\n",
      "textattack: Logging to CSV at path rank/log_500.csv\n"
     ]
    },
    {
     "name": "stdout",
     "output_type": "stream",
     "text": [
      "Attack(\n",
      "  (search_method): GreedySearch\n",
      "  (goal_function):  TargetedClassification(\n",
      "    (target_class):  1\n",
      "  )\n",
      "  (transformation):  WordSwapEmbedding(\n",
      "    (max_candidates):  15\n",
      "    (embedding):  WordEmbedding\n",
      "  )\n",
      "  (constraints): \n",
      "    (0): RepeatModification\n",
      "    (1): StopwordModification\n",
      "  (is_black_box):  True\n",
      ") \n",
      "\n"
     ]
    },
    {
     "name": "stderr",
     "output_type": "stream",
     "text": [
      "[Succeeded / Failed / Skipped / Total] 5 / 0 / 0 / 5:  17%|███████████▋                                                          | 5/30 [00:23<01:56,  4.68s/it]textattack: Saving checkpoint under \"checkpoints/1713515268088.ta.chkpt\" at 2024-04-19 08:27:48 after 5 attacks.\n"
     ]
    },
    {
     "name": "stdout",
     "output_type": "stream",
     "text": [
      "\n",
      "\n",
      "=============================================================================================================================\n",
      "=============================================================================================================================\n",
      "\n"
     ]
    },
    {
     "name": "stderr",
     "output_type": "stream",
     "text": [
      "[Succeeded / Failed / Skipped / Total] 9 / 1 / 0 / 10:  33%|██████████████████████▋                                             | 10/30 [00:45<01:30,  4.54s/it]textattack: Saving checkpoint under \"checkpoints/1713515290119.ta.chkpt\" at 2024-04-19 08:28:10 after 10 attacks.\n"
     ]
    },
    {
     "name": "stdout",
     "output_type": "stream",
     "text": [
      "\n",
      "\n",
      "=============================================================================================================================\n",
      "=============================================================================================================================\n",
      "\n"
     ]
    },
    {
     "name": "stderr",
     "output_type": "stream",
     "text": [
      "[Succeeded / Failed / Skipped / Total] 11 / 4 / 0 / 15:  50%|█████████████████████████████████▌                                 | 15/30 [01:21<01:21,  5.46s/it]textattack: Saving checkpoint under \"checkpoints/1713515326572.ta.chkpt\" at 2024-04-19 08:28:46 after 15 attacks.\n"
     ]
    },
    {
     "name": "stdout",
     "output_type": "stream",
     "text": [
      "\n",
      "\n",
      "=============================================================================================================================\n",
      "=============================================================================================================================\n",
      "\n"
     ]
    },
    {
     "name": "stderr",
     "output_type": "stream",
     "text": [
      "[Succeeded / Failed / Skipped / Total] 15 / 5 / 0 / 20:  67%|████████████████████████████████████████████▋                      | 20/30 [02:02<01:01,  6.14s/it]textattack: Saving checkpoint under \"checkpoints/1713515367488.ta.chkpt\" at 2024-04-19 08:29:27 after 20 attacks.\n"
     ]
    },
    {
     "name": "stdout",
     "output_type": "stream",
     "text": [
      "\n",
      "\n",
      "=============================================================================================================================\n",
      "=============================================================================================================================\n",
      "\n"
     ]
    },
    {
     "name": "stderr",
     "output_type": "stream",
     "text": [
      "[Succeeded / Failed / Skipped / Total] 19 / 6 / 0 / 25:  83%|███████████████████████████████████████████████████████▊           | 25/30 [02:51<00:34,  6.87s/it]textattack: Saving checkpoint under \"checkpoints/1713515416394.ta.chkpt\" at 2024-04-19 08:30:16 after 25 attacks.\n"
     ]
    },
    {
     "name": "stdout",
     "output_type": "stream",
     "text": [
      "\n",
      "\n",
      "=============================================================================================================================\n",
      "=============================================================================================================================\n",
      "\n"
     ]
    },
    {
     "name": "stderr",
     "output_type": "stream",
     "text": [
      "[Succeeded / Failed / Skipped / Total] 23 / 7 / 0 / 30: 100%|███████████████████████████████████████████████████████████████████| 30/30 [03:43<00:00,  7.44s/it]textattack: Saving checkpoint under \"checkpoints/1713515467966.ta.chkpt\" at 2024-04-19 08:31:07 after 30 attacks.\n",
      "[Succeeded / Failed / Skipped / Total] 23 / 7 / 0 / 30: 100%|███████████████████████████████████████████████████████████████████| 30/30 [03:43<00:00,  7.44s/it]"
     ]
    },
    {
     "name": "stdout",
     "output_type": "stream",
     "text": [
      "\n",
      "\n",
      "=============================================================================================================================\n",
      "=============================================================================================================================\n",
      "\n",
      "\n",
      "+-------------------------------+--------+\n",
      "| Attack Results                |        |\n",
      "+-------------------------------+--------+\n",
      "| Number of successful attacks: | 23     |\n",
      "| Number of failed attacks:     | 7      |\n",
      "| Number of skipped attacks:    | 0      |\n",
      "| Original accuracy:            | 100.0% |\n",
      "| Accuracy under attack:        | 23.33% |\n",
      "| Attack success rate:          | 76.67% |\n",
      "| Average perturbed word %:     | 12.54% |\n",
      "| Average num. words per input: | 22.7   |\n",
      "| Avg num queries:              | 458.5  |\n",
      "+-------------------------------+--------+"
     ]
    },
    {
     "name": "stderr",
     "output_type": "stream",
     "text": [
      "\n"
     ]
    },
    {
     "name": "stdout",
     "output_type": "stream",
     "text": [
      "\n"
     ]
    },
    {
     "name": "stderr",
     "output_type": "stream",
     "text": [
      "textattack: Unknown if model of class <class 'models.model_1.ad_transformer'> compatible with goal function <class 'textattack.goal_functions.classification.targeted_classification.TargetedClassification'>.\n",
      "textattack: Logging to CSV at path rank/log_550.csv\n"
     ]
    },
    {
     "name": "stdout",
     "output_type": "stream",
     "text": [
      "Attack(\n",
      "  (search_method): GreedySearch\n",
      "  (goal_function):  TargetedClassification(\n",
      "    (target_class):  1\n",
      "  )\n",
      "  (transformation):  WordSwapEmbedding(\n",
      "    (max_candidates):  15\n",
      "    (embedding):  WordEmbedding\n",
      "  )\n",
      "  (constraints): \n",
      "    (0): RepeatModification\n",
      "    (1): StopwordModification\n",
      "  (is_black_box):  True\n",
      ") \n",
      "\n"
     ]
    },
    {
     "name": "stderr",
     "output_type": "stream",
     "text": [
      "[Succeeded / Failed / Skipped / Total] 5 / 0 / 0 / 5:  17%|███████████▋                                                          | 5/30 [00:23<01:55,  4.61s/it]textattack: Saving checkpoint under \"checkpoints/1713515492420.ta.chkpt\" at 2024-04-19 08:31:32 after 5 attacks.\n"
     ]
    },
    {
     "name": "stdout",
     "output_type": "stream",
     "text": [
      "\n",
      "\n",
      "=============================================================================================================================\n",
      "=============================================================================================================================\n",
      "\n"
     ]
    },
    {
     "name": "stderr",
     "output_type": "stream",
     "text": [
      "[Succeeded / Failed / Skipped / Total] 9 / 1 / 0 / 10:  33%|██████████████████████▋                                             | 10/30 [00:43<01:26,  4.34s/it]textattack: Saving checkpoint under \"checkpoints/1713515512781.ta.chkpt\" at 2024-04-19 08:31:52 after 10 attacks.\n"
     ]
    },
    {
     "name": "stdout",
     "output_type": "stream",
     "text": [
      "\n",
      "\n",
      "=============================================================================================================================\n",
      "=============================================================================================================================\n",
      "\n"
     ]
    },
    {
     "name": "stderr",
     "output_type": "stream",
     "text": [
      "[Succeeded / Failed / Skipped / Total] 12 / 3 / 0 / 15:  50%|█████████████████████████████████▌                                 | 15/30 [01:21<01:21,  5.43s/it]textattack: Saving checkpoint under \"checkpoints/1713515550858.ta.chkpt\" at 2024-04-19 08:32:30 after 15 attacks.\n"
     ]
    },
    {
     "name": "stdout",
     "output_type": "stream",
     "text": [
      "\n",
      "\n",
      "=============================================================================================================================\n",
      "=============================================================================================================================\n",
      "\n"
     ]
    },
    {
     "name": "stderr",
     "output_type": "stream",
     "text": [
      "[Succeeded / Failed / Skipped / Total] 17 / 3 / 0 / 20:  67%|████████████████████████████████████████████▋                      | 20/30 [02:01<01:00,  6.10s/it]textattack: Saving checkpoint under \"checkpoints/1713515591356.ta.chkpt\" at 2024-04-19 08:33:11 after 20 attacks.\n"
     ]
    },
    {
     "name": "stdout",
     "output_type": "stream",
     "text": [
      "\n",
      "\n",
      "=============================================================================================================================\n",
      "=============================================================================================================================\n",
      "\n"
     ]
    },
    {
     "name": "stderr",
     "output_type": "stream",
     "text": [
      "[Succeeded / Failed / Skipped / Total] 22 / 3 / 0 / 25:  83%|███████████████████████████████████████████████████████▊           | 25/30 [02:58<00:35,  7.15s/it]textattack: Saving checkpoint under \"checkpoints/1713515648021.ta.chkpt\" at 2024-04-19 08:34:08 after 25 attacks.\n"
     ]
    },
    {
     "name": "stdout",
     "output_type": "stream",
     "text": [
      "\n",
      "\n",
      "=============================================================================================================================\n",
      "=============================================================================================================================\n",
      "\n"
     ]
    },
    {
     "name": "stderr",
     "output_type": "stream",
     "text": [
      "[Succeeded / Failed / Skipped / Total] 25 / 5 / 0 / 30: 100%|███████████████████████████████████████████████████████████████████| 30/30 [03:48<00:00,  7.61s/it]textattack: Saving checkpoint under \"checkpoints/1713515697626.ta.chkpt\" at 2024-04-19 08:34:57 after 30 attacks.\n",
      "[Succeeded / Failed / Skipped / Total] 25 / 5 / 0 / 30: 100%|███████████████████████████████████████████████████████████████████| 30/30 [03:48<00:00,  7.61s/it]"
     ]
    },
    {
     "name": "stdout",
     "output_type": "stream",
     "text": [
      "\n",
      "\n",
      "=============================================================================================================================\n",
      "=============================================================================================================================\n",
      "\n",
      "\n",
      "+-------------------------------+--------+\n",
      "| Attack Results                |        |\n",
      "+-------------------------------+--------+\n",
      "| Number of successful attacks: | 25     |\n",
      "| Number of failed attacks:     | 5      |\n",
      "| Number of skipped attacks:    | 0      |\n",
      "| Original accuracy:            | 100.0% |\n",
      "| Accuracy under attack:        | 16.67% |\n",
      "| Attack success rate:          | 83.33% |\n",
      "| Average perturbed word %:     | 13.37% |\n",
      "| Average num. words per input: | 22.7   |\n",
      "| Avg num queries:              | 465.5  |\n",
      "+-------------------------------+--------+"
     ]
    },
    {
     "name": "stderr",
     "output_type": "stream",
     "text": [
      "\n"
     ]
    },
    {
     "name": "stdout",
     "output_type": "stream",
     "text": [
      "\n"
     ]
    },
    {
     "name": "stderr",
     "output_type": "stream",
     "text": [
      "textattack: Unknown if model of class <class 'models.model_1.ad_transformer'> compatible with goal function <class 'textattack.goal_functions.classification.targeted_classification.TargetedClassification'>.\n",
      "textattack: Logging to CSV at path rank/log_600.csv\n"
     ]
    },
    {
     "name": "stdout",
     "output_type": "stream",
     "text": [
      "Attack(\n",
      "  (search_method): GreedySearch\n",
      "  (goal_function):  TargetedClassification(\n",
      "    (target_class):  1\n",
      "  )\n",
      "  (transformation):  WordSwapEmbedding(\n",
      "    (max_candidates):  15\n",
      "    (embedding):  WordEmbedding\n",
      "  )\n",
      "  (constraints): \n",
      "    (0): RepeatModification\n",
      "    (1): StopwordModification\n",
      "  (is_black_box):  True\n",
      ") \n",
      "\n"
     ]
    },
    {
     "name": "stderr",
     "output_type": "stream",
     "text": [
      "[Succeeded / Failed / Skipped / Total] 5 / 0 / 0 / 5:  17%|███████████▋                                                          | 5/30 [00:23<01:57,  4.70s/it]textattack: Saving checkpoint under \"checkpoints/1713515722457.ta.chkpt\" at 2024-04-19 08:35:22 after 5 attacks.\n"
     ]
    },
    {
     "name": "stdout",
     "output_type": "stream",
     "text": [
      "\n",
      "\n",
      "=============================================================================================================================\n",
      "=============================================================================================================================\n",
      "\n"
     ]
    },
    {
     "name": "stderr",
     "output_type": "stream",
     "text": [
      "[Succeeded / Failed / Skipped / Total] 9 / 1 / 0 / 10:  33%|██████████████████████▋                                             | 10/30 [00:43<01:27,  4.37s/it]textattack: Saving checkpoint under \"checkpoints/1713515742663.ta.chkpt\" at 2024-04-19 08:35:42 after 10 attacks.\n"
     ]
    },
    {
     "name": "stdout",
     "output_type": "stream",
     "text": [
      "\n",
      "\n",
      "=============================================================================================================================\n",
      "=============================================================================================================================\n",
      "\n"
     ]
    },
    {
     "name": "stderr",
     "output_type": "stream",
     "text": [
      "[Succeeded / Failed / Skipped / Total] 12 / 3 / 0 / 15:  50%|█████████████████████████████████▌                                 | 15/30 [01:21<01:21,  5.45s/it]textattack: Saving checkpoint under \"checkpoints/1713515780799.ta.chkpt\" at 2024-04-19 08:36:20 after 15 attacks.\n"
     ]
    },
    {
     "name": "stdout",
     "output_type": "stream",
     "text": [
      "\n",
      "\n",
      "=============================================================================================================================\n",
      "=============================================================================================================================\n",
      "\n"
     ]
    },
    {
     "name": "stderr",
     "output_type": "stream",
     "text": [
      "[Succeeded / Failed / Skipped / Total] 16 / 4 / 0 / 20:  67%|████████████████████████████████████████████▋                      | 20/30 [02:21<01:10,  7.09s/it]textattack: Saving checkpoint under \"checkpoints/1713515840683.ta.chkpt\" at 2024-04-19 08:37:20 after 20 attacks.\n"
     ]
    },
    {
     "name": "stdout",
     "output_type": "stream",
     "text": [
      "\n",
      "\n",
      "=============================================================================================================================\n",
      "=============================================================================================================================\n",
      "\n"
     ]
    },
    {
     "name": "stderr",
     "output_type": "stream",
     "text": [
      "[Succeeded / Failed / Skipped / Total] 20 / 5 / 0 / 25:  83%|███████████████████████████████████████████████████████▊           | 25/30 [03:26<00:41,  8.28s/it]textattack: Saving checkpoint under \"checkpoints/1713515905905.ta.chkpt\" at 2024-04-19 08:38:25 after 25 attacks.\n"
     ]
    },
    {
     "name": "stdout",
     "output_type": "stream",
     "text": [
      "\n",
      "\n",
      "=============================================================================================================================\n",
      "=============================================================================================================================\n",
      "\n"
     ]
    },
    {
     "name": "stderr",
     "output_type": "stream",
     "text": [
      "[Succeeded / Failed / Skipped / Total] 23 / 7 / 0 / 30: 100%|███████████████████████████████████████████████████████████████████| 30/30 [04:23<00:00,  8.80s/it]textattack: Saving checkpoint under \"checkpoints/1713515962977.ta.chkpt\" at 2024-04-19 08:39:22 after 30 attacks.\n",
      "[Succeeded / Failed / Skipped / Total] 23 / 7 / 0 / 30: 100%|███████████████████████████████████████████████████████████████████| 30/30 [04:24<00:00,  8.80s/it]"
     ]
    },
    {
     "name": "stdout",
     "output_type": "stream",
     "text": [
      "\n",
      "\n",
      "=============================================================================================================================\n",
      "=============================================================================================================================\n",
      "\n",
      "\n",
      "+-------------------------------+--------+\n",
      "| Attack Results                |        |\n",
      "+-------------------------------+--------+\n",
      "| Number of successful attacks: | 23     |\n",
      "| Number of failed attacks:     | 7      |\n",
      "| Number of skipped attacks:    | 0      |\n",
      "| Original accuracy:            | 100.0% |\n",
      "| Accuracy under attack:        | 23.33% |\n",
      "| Attack success rate:          | 76.67% |\n",
      "| Average perturbed word %:     | 15.83% |\n",
      "| Average num. words per input: | 22.7   |\n",
      "| Avg num queries:              | 539.5  |\n",
      "+-------------------------------+--------+"
     ]
    },
    {
     "name": "stderr",
     "output_type": "stream",
     "text": [
      "\n"
     ]
    },
    {
     "name": "stdout",
     "output_type": "stream",
     "text": [
      "\n"
     ]
    },
    {
     "name": "stderr",
     "output_type": "stream",
     "text": [
      "textattack: Unknown if model of class <class 'models.model_1.ad_transformer'> compatible with goal function <class 'textattack.goal_functions.classification.targeted_classification.TargetedClassification'>.\n",
      "textattack: Logging to CSV at path rank/log_650.csv\n"
     ]
    },
    {
     "name": "stdout",
     "output_type": "stream",
     "text": [
      "Attack(\n",
      "  (search_method): GreedySearch\n",
      "  (goal_function):  TargetedClassification(\n",
      "    (target_class):  1\n",
      "  )\n",
      "  (transformation):  WordSwapEmbedding(\n",
      "    (max_candidates):  15\n",
      "    (embedding):  WordEmbedding\n",
      "  )\n",
      "  (constraints): \n",
      "    (0): RepeatModification\n",
      "    (1): StopwordModification\n",
      "  (is_black_box):  True\n",
      ") \n",
      "\n"
     ]
    },
    {
     "name": "stderr",
     "output_type": "stream",
     "text": [
      "[Succeeded / Failed / Skipped / Total] 5 / 0 / 0 / 5:  17%|███████████▋                                                          | 5/30 [00:23<01:56,  4.64s/it]textattack: Saving checkpoint under \"checkpoints/1713515987594.ta.chkpt\" at 2024-04-19 08:39:47 after 5 attacks.\n"
     ]
    },
    {
     "name": "stdout",
     "output_type": "stream",
     "text": [
      "\n",
      "\n",
      "=============================================================================================================================\n",
      "=============================================================================================================================\n",
      "\n"
     ]
    },
    {
     "name": "stderr",
     "output_type": "stream",
     "text": [
      "[Succeeded / Failed / Skipped / Total] 9 / 1 / 0 / 10:  33%|██████████████████████▋                                             | 10/30 [00:43<01:27,  4.38s/it]textattack: Saving checkpoint under \"checkpoints/1713516008224.ta.chkpt\" at 2024-04-19 08:40:08 after 10 attacks.\n"
     ]
    },
    {
     "name": "stdout",
     "output_type": "stream",
     "text": [
      "\n",
      "\n",
      "=============================================================================================================================\n",
      "=============================================================================================================================\n",
      "\n"
     ]
    },
    {
     "name": "stderr",
     "output_type": "stream",
     "text": [
      "[Succeeded / Failed / Skipped / Total] 12 / 3 / 0 / 15:  50%|█████████████████████████████████▌                                 | 15/30 [01:23<01:23,  5.55s/it]textattack: Saving checkpoint under \"checkpoints/1713516047558.ta.chkpt\" at 2024-04-19 08:40:47 after 15 attacks.\n"
     ]
    },
    {
     "name": "stdout",
     "output_type": "stream",
     "text": [
      "\n",
      "\n",
      "=============================================================================================================================\n",
      "=============================================================================================================================\n",
      "\n"
     ]
    },
    {
     "name": "stderr",
     "output_type": "stream",
     "text": [
      "[Succeeded / Failed / Skipped / Total] 16 / 4 / 0 / 20:  67%|████████████████████████████████████████████▋                      | 20/30 [02:09<01:04,  6.49s/it]textattack: Saving checkpoint under \"checkpoints/1713516094101.ta.chkpt\" at 2024-04-19 08:41:34 after 20 attacks.\n"
     ]
    },
    {
     "name": "stdout",
     "output_type": "stream",
     "text": [
      "\n",
      "\n",
      "=============================================================================================================================\n",
      "=============================================================================================================================\n",
      "\n"
     ]
    },
    {
     "name": "stderr",
     "output_type": "stream",
     "text": [
      "[Succeeded / Failed / Skipped / Total] 19 / 6 / 0 / 25:  83%|███████████████████████████████████████████████████████▊           | 25/30 [03:13<00:38,  7.73s/it]textattack: Saving checkpoint under \"checkpoints/1713516157525.ta.chkpt\" at 2024-04-19 08:42:37 after 25 attacks.\n"
     ]
    },
    {
     "name": "stdout",
     "output_type": "stream",
     "text": [
      "\n",
      "\n",
      "=============================================================================================================================\n",
      "=============================================================================================================================\n",
      "\n"
     ]
    },
    {
     "name": "stderr",
     "output_type": "stream",
     "text": [
      "[Succeeded / Failed / Skipped / Total] 22 / 8 / 0 / 30: 100%|███████████████████████████████████████████████████████████████████| 30/30 [04:08<00:00,  8.27s/it]textattack: Saving checkpoint under \"checkpoints/1713516212524.ta.chkpt\" at 2024-04-19 08:43:32 after 30 attacks.\n",
      "[Succeeded / Failed / Skipped / Total] 22 / 8 / 0 / 30: 100%|███████████████████████████████████████████████████████████████████| 30/30 [04:08<00:00,  8.27s/it]"
     ]
    },
    {
     "name": "stdout",
     "output_type": "stream",
     "text": [
      "\n",
      "\n",
      "=============================================================================================================================\n",
      "=============================================================================================================================\n",
      "\n",
      "\n",
      "+-------------------------------+--------+\n",
      "| Attack Results                |        |\n",
      "+-------------------------------+--------+\n",
      "| Number of successful attacks: | 22     |\n",
      "| Number of failed attacks:     | 8      |\n",
      "| Number of skipped attacks:    | 0      |\n",
      "| Original accuracy:            | 100.0% |\n",
      "| Accuracy under attack:        | 26.67% |\n",
      "| Attack success rate:          | 73.33% |\n",
      "| Average perturbed word %:     | 13.26% |\n",
      "| Average num. words per input: | 22.7   |\n",
      "| Avg num queries:              | 513.0  |\n",
      "+-------------------------------+--------+"
     ]
    },
    {
     "name": "stderr",
     "output_type": "stream",
     "text": [
      "\n"
     ]
    },
    {
     "name": "stdout",
     "output_type": "stream",
     "text": [
      "\n"
     ]
    },
    {
     "name": "stderr",
     "output_type": "stream",
     "text": [
      "textattack: Unknown if model of class <class 'models.model_1.ad_transformer'> compatible with goal function <class 'textattack.goal_functions.classification.targeted_classification.TargetedClassification'>.\n",
      "textattack: Logging to CSV at path rank/log_700.csv\n"
     ]
    },
    {
     "name": "stdout",
     "output_type": "stream",
     "text": [
      "Attack(\n",
      "  (search_method): GreedySearch\n",
      "  (goal_function):  TargetedClassification(\n",
      "    (target_class):  1\n",
      "  )\n",
      "  (transformation):  WordSwapEmbedding(\n",
      "    (max_candidates):  15\n",
      "    (embedding):  WordEmbedding\n",
      "  )\n",
      "  (constraints): \n",
      "    (0): RepeatModification\n",
      "    (1): StopwordModification\n",
      "  (is_black_box):  True\n",
      ") \n",
      "\n"
     ]
    },
    {
     "name": "stderr",
     "output_type": "stream",
     "text": [
      "[Succeeded / Failed / Skipped / Total] 5 / 0 / 0 / 5:  17%|███████████▋                                                          | 5/30 [00:22<01:54,  4.56s/it]textattack: Saving checkpoint under \"checkpoints/1713516236743.ta.chkpt\" at 2024-04-19 08:43:56 after 5 attacks.\n"
     ]
    },
    {
     "name": "stdout",
     "output_type": "stream",
     "text": [
      "\n",
      "\n",
      "=============================================================================================================================\n",
      "=============================================================================================================================\n",
      "\n"
     ]
    },
    {
     "name": "stderr",
     "output_type": "stream",
     "text": [
      "[Succeeded / Failed / Skipped / Total] 9 / 1 / 0 / 10:  33%|██████████████████████▋                                             | 10/30 [00:46<01:33,  4.69s/it]textattack: Saving checkpoint under \"checkpoints/1713516260820.ta.chkpt\" at 2024-04-19 08:44:20 after 10 attacks.\n"
     ]
    },
    {
     "name": "stdout",
     "output_type": "stream",
     "text": [
      "\n",
      "\n",
      "=============================================================================================================================\n",
      "=============================================================================================================================\n",
      "\n"
     ]
    },
    {
     "name": "stderr",
     "output_type": "stream",
     "text": [
      "[Succeeded / Failed / Skipped / Total] 11 / 4 / 0 / 15:  50%|█████████████████████████████████▌                                 | 15/30 [01:27<01:27,  5.81s/it]textattack: Saving checkpoint under \"checkpoints/1713516301125.ta.chkpt\" at 2024-04-19 08:45:01 after 15 attacks.\n"
     ]
    },
    {
     "name": "stdout",
     "output_type": "stream",
     "text": [
      "\n",
      "\n",
      "=============================================================================================================================\n",
      "=============================================================================================================================\n",
      "\n"
     ]
    },
    {
     "name": "stderr",
     "output_type": "stream",
     "text": [
      "[Succeeded / Failed / Skipped / Total] 15 / 5 / 0 / 20:  67%|████████████████████████████████████████████▋                      | 20/30 [02:26<01:13,  7.34s/it]textattack: Saving checkpoint under \"checkpoints/1713516360770.ta.chkpt\" at 2024-04-19 08:46:00 after 20 attacks.\n"
     ]
    },
    {
     "name": "stdout",
     "output_type": "stream",
     "text": [
      "\n",
      "\n",
      "=============================================================================================================================\n",
      "=============================================================================================================================\n",
      "\n"
     ]
    },
    {
     "name": "stderr",
     "output_type": "stream",
     "text": [
      "[Succeeded / Failed / Skipped / Total] 19 / 6 / 0 / 25:  83%|███████████████████████████████████████████████████████▊           | 25/30 [03:29<00:41,  8.37s/it]textattack: Saving checkpoint under \"checkpoints/1713516423293.ta.chkpt\" at 2024-04-19 08:47:03 after 25 attacks.\n"
     ]
    },
    {
     "name": "stdout",
     "output_type": "stream",
     "text": [
      "\n",
      "\n",
      "=============================================================================================================================\n",
      "=============================================================================================================================\n",
      "\n"
     ]
    },
    {
     "name": "stderr",
     "output_type": "stream",
     "text": [
      "[Succeeded / Failed / Skipped / Total] 23 / 7 / 0 / 30: 100%|███████████████████████████████████████████████████████████████████| 30/30 [04:26<00:00,  8.90s/it]textattack: Saving checkpoint under \"checkpoints/1713516480923.ta.chkpt\" at 2024-04-19 08:48:00 after 30 attacks.\n",
      "[Succeeded / Failed / Skipped / Total] 23 / 7 / 0 / 30: 100%|███████████████████████████████████████████████████████████████████| 30/30 [04:26<00:00,  8.90s/it]"
     ]
    },
    {
     "name": "stdout",
     "output_type": "stream",
     "text": [
      "\n",
      "\n",
      "=============================================================================================================================\n",
      "=============================================================================================================================\n",
      "\n",
      "\n",
      "+-------------------------------+--------+\n",
      "| Attack Results                |        |\n",
      "+-------------------------------+--------+\n",
      "| Number of successful attacks: | 23     |\n",
      "| Number of failed attacks:     | 7      |\n",
      "| Number of skipped attacks:    | 0      |\n",
      "| Original accuracy:            | 100.0% |\n",
      "| Accuracy under attack:        | 23.33% |\n",
      "| Attack success rate:          | 76.67% |\n",
      "| Average perturbed word %:     | 16.18% |\n",
      "| Average num. words per input: | 22.7   |\n",
      "| Avg num queries:              | 547.0  |\n",
      "+-------------------------------+--------+"
     ]
    },
    {
     "name": "stderr",
     "output_type": "stream",
     "text": [
      "\n"
     ]
    },
    {
     "name": "stdout",
     "output_type": "stream",
     "text": [
      "\n"
     ]
    },
    {
     "name": "stderr",
     "output_type": "stream",
     "text": [
      "textattack: Unknown if model of class <class 'models.model_1.ad_transformer'> compatible with goal function <class 'textattack.goal_functions.classification.targeted_classification.TargetedClassification'>.\n",
      "textattack: Logging to CSV at path rank/log_750.csv\n"
     ]
    },
    {
     "name": "stdout",
     "output_type": "stream",
     "text": [
      "Attack(\n",
      "  (search_method): GreedySearch\n",
      "  (goal_function):  TargetedClassification(\n",
      "    (target_class):  1\n",
      "  )\n",
      "  (transformation):  WordSwapEmbedding(\n",
      "    (max_candidates):  15\n",
      "    (embedding):  WordEmbedding\n",
      "  )\n",
      "  (constraints): \n",
      "    (0): RepeatModification\n",
      "    (1): StopwordModification\n",
      "  (is_black_box):  True\n",
      ") \n",
      "\n"
     ]
    },
    {
     "name": "stderr",
     "output_type": "stream",
     "text": [
      "[Succeeded / Failed / Skipped / Total] 5 / 0 / 0 / 5:  17%|███████████▋                                                          | 5/30 [00:22<01:54,  4.59s/it]textattack: Saving checkpoint under \"checkpoints/1713516506127.ta.chkpt\" at 2024-04-19 08:48:26 after 5 attacks.\n"
     ]
    },
    {
     "name": "stdout",
     "output_type": "stream",
     "text": [
      "\n",
      "\n",
      "=============================================================================================================================\n",
      "=============================================================================================================================\n",
      "\n"
     ]
    },
    {
     "name": "stderr",
     "output_type": "stream",
     "text": [
      "[Succeeded / Failed / Skipped / Total] 9 / 1 / 0 / 10:  33%|██████████████████████▋                                             | 10/30 [00:46<01:33,  4.68s/it]textattack: Saving checkpoint under \"checkpoints/1713516529981.ta.chkpt\" at 2024-04-19 08:48:49 after 10 attacks.\n"
     ]
    },
    {
     "name": "stdout",
     "output_type": "stream",
     "text": [
      "\n",
      "\n",
      "=============================================================================================================================\n",
      "=============================================================================================================================\n",
      "\n"
     ]
    },
    {
     "name": "stderr",
     "output_type": "stream",
     "text": [
      "[Succeeded / Failed / Skipped / Total] 11 / 4 / 0 / 15:  50%|█████████████████████████████████▌                                 | 15/30 [01:27<01:27,  5.86s/it]textattack: Saving checkpoint under \"checkpoints/1713516571083.ta.chkpt\" at 2024-04-19 08:49:31 after 15 attacks.\n"
     ]
    },
    {
     "name": "stdout",
     "output_type": "stream",
     "text": [
      "\n",
      "\n",
      "=============================================================================================================================\n",
      "=============================================================================================================================\n",
      "\n"
     ]
    },
    {
     "name": "stderr",
     "output_type": "stream",
     "text": [
      "[Succeeded / Failed / Skipped / Total] 15 / 5 / 0 / 20:  67%|████████████████████████████████████████████▋                      | 20/30 [02:26<01:13,  7.34s/it]textattack: Saving checkpoint under \"checkpoints/1713516629905.ta.chkpt\" at 2024-04-19 08:50:29 after 20 attacks.\n"
     ]
    },
    {
     "name": "stdout",
     "output_type": "stream",
     "text": [
      "\n",
      "\n",
      "=============================================================================================================================\n",
      "=============================================================================================================================\n",
      "\n"
     ]
    },
    {
     "name": "stderr",
     "output_type": "stream",
     "text": [
      "[Succeeded / Failed / Skipped / Total] 18 / 7 / 0 / 25:  83%|███████████████████████████████████████████████████████▊           | 25/30 [03:35<00:43,  8.64s/it]textattack: Saving checkpoint under \"checkpoints/1713516699132.ta.chkpt\" at 2024-04-19 08:51:39 after 25 attacks.\n"
     ]
    },
    {
     "name": "stdout",
     "output_type": "stream",
     "text": [
      "\n",
      "\n",
      "=============================================================================================================================\n",
      "=============================================================================================================================\n",
      "\n"
     ]
    },
    {
     "name": "stderr",
     "output_type": "stream",
     "text": [
      "[Succeeded / Failed / Skipped / Total] 21 / 9 / 0 / 30: 100%|███████████████████████████████████████████████████████████████████| 30/30 [04:35<00:00,  9.20s/it]textattack: Saving checkpoint under \"checkpoints/1713516759084.ta.chkpt\" at 2024-04-19 08:52:39 after 30 attacks.\n",
      "[Succeeded / Failed / Skipped / Total] 21 / 9 / 0 / 30: 100%|███████████████████████████████████████████████████████████████████| 30/30 [04:35<00:00,  9.20s/it]"
     ]
    },
    {
     "name": "stdout",
     "output_type": "stream",
     "text": [
      "\n",
      "\n",
      "=============================================================================================================================\n",
      "=============================================================================================================================\n",
      "\n",
      "\n",
      "+-------------------------------+--------+\n",
      "| Attack Results                |        |\n",
      "+-------------------------------+--------+\n",
      "| Number of successful attacks: | 21     |\n",
      "| Number of failed attacks:     | 9      |\n",
      "| Number of skipped attacks:    | 0      |\n",
      "| Original accuracy:            | 100.0% |\n",
      "| Accuracy under attack:        | 30.0%  |\n",
      "| Attack success rate:          | 70.0%  |\n",
      "| Average perturbed word %:     | 15.83% |\n",
      "| Average num. words per input: | 22.7   |\n",
      "| Avg num queries:              | 570.5  |\n",
      "+-------------------------------+--------+"
     ]
    },
    {
     "name": "stderr",
     "output_type": "stream",
     "text": [
      "\n"
     ]
    },
    {
     "name": "stdout",
     "output_type": "stream",
     "text": [
      "\n"
     ]
    },
    {
     "name": "stderr",
     "output_type": "stream",
     "text": [
      "textattack: Unknown if model of class <class 'models.model_1.ad_transformer'> compatible with goal function <class 'textattack.goal_functions.classification.targeted_classification.TargetedClassification'>.\n",
      "textattack: Logging to CSV at path rank/log_800.csv\n"
     ]
    },
    {
     "name": "stdout",
     "output_type": "stream",
     "text": [
      "Attack(\n",
      "  (search_method): GreedySearch\n",
      "  (goal_function):  TargetedClassification(\n",
      "    (target_class):  1\n",
      "  )\n",
      "  (transformation):  WordSwapEmbedding(\n",
      "    (max_candidates):  15\n",
      "    (embedding):  WordEmbedding\n",
      "  )\n",
      "  (constraints): \n",
      "    (0): RepeatModification\n",
      "    (1): StopwordModification\n",
      "  (is_black_box):  True\n",
      ") \n",
      "\n"
     ]
    },
    {
     "name": "stderr",
     "output_type": "stream",
     "text": [
      "[Succeeded / Failed / Skipped / Total] 5 / 0 / 0 / 5:  17%|███████████▋                                                          | 5/30 [00:23<01:55,  4.63s/it]textattack: Saving checkpoint under \"checkpoints/1713516783666.ta.chkpt\" at 2024-04-19 08:53:03 after 5 attacks.\n"
     ]
    },
    {
     "name": "stdout",
     "output_type": "stream",
     "text": [
      "\n",
      "\n",
      "=============================================================================================================================\n",
      "=============================================================================================================================\n",
      "\n"
     ]
    },
    {
     "name": "stderr",
     "output_type": "stream",
     "text": [
      "[Succeeded / Failed / Skipped / Total] 9 / 1 / 0 / 10:  33%|██████████████████████▋                                             | 10/30 [00:47<01:34,  4.73s/it]textattack: Saving checkpoint under \"checkpoints/1713516807826.ta.chkpt\" at 2024-04-19 08:53:27 after 10 attacks.\n"
     ]
    },
    {
     "name": "stdout",
     "output_type": "stream",
     "text": [
      "\n",
      "\n",
      "=============================================================================================================================\n",
      "=============================================================================================================================\n",
      "\n"
     ]
    },
    {
     "name": "stderr",
     "output_type": "stream",
     "text": [
      "[Succeeded / Failed / Skipped / Total] 11 / 4 / 0 / 15:  50%|█████████████████████████████████▌                                 | 15/30 [01:28<01:28,  5.91s/it]textattack: Saving checkpoint under \"checkpoints/1713516849227.ta.chkpt\" at 2024-04-19 08:54:09 after 15 attacks.\n"
     ]
    },
    {
     "name": "stdout",
     "output_type": "stream",
     "text": [
      "\n",
      "\n",
      "=============================================================================================================================\n",
      "=============================================================================================================================\n",
      "\n"
     ]
    },
    {
     "name": "stderr",
     "output_type": "stream",
     "text": [
      "[Succeeded / Failed / Skipped / Total] 15 / 5 / 0 / 20:  67%|████████████████████████████████████████████▋                      | 20/30 [02:28<01:14,  7.40s/it]textattack: Saving checkpoint under \"checkpoints/1713516908557.ta.chkpt\" at 2024-04-19 08:55:08 after 20 attacks.\n"
     ]
    },
    {
     "name": "stdout",
     "output_type": "stream",
     "text": [
      "\n",
      "\n",
      "=============================================================================================================================\n",
      "=============================================================================================================================\n",
      "\n"
     ]
    },
    {
     "name": "stderr",
     "output_type": "stream",
     "text": [
      "[Succeeded / Failed / Skipped / Total] 18 / 7 / 0 / 25:  83%|███████████████████████████████████████████████████████▊           | 25/30 [03:37<00:43,  8.69s/it]textattack: Saving checkpoint under \"checkpoints/1713516977821.ta.chkpt\" at 2024-04-19 08:56:17 after 25 attacks.\n"
     ]
    },
    {
     "name": "stdout",
     "output_type": "stream",
     "text": [
      "\n",
      "\n",
      "=============================================================================================================================\n",
      "=============================================================================================================================\n",
      "\n"
     ]
    },
    {
     "name": "stderr",
     "output_type": "stream",
     "text": [
      "[Succeeded / Failed / Skipped / Total] 21 / 9 / 0 / 30: 100%|███████████████████████████████████████████████████████████████████| 30/30 [04:38<00:00,  9.28s/it]textattack: Saving checkpoint under \"checkpoints/1713517039043.ta.chkpt\" at 2024-04-19 08:57:19 after 30 attacks.\n",
      "[Succeeded / Failed / Skipped / Total] 21 / 9 / 0 / 30: 100%|███████████████████████████████████████████████████████████████████| 30/30 [04:38<00:00,  9.28s/it]"
     ]
    },
    {
     "name": "stdout",
     "output_type": "stream",
     "text": [
      "\n",
      "\n",
      "=============================================================================================================================\n",
      "=============================================================================================================================\n",
      "\n",
      "\n",
      "+-------------------------------+--------+\n",
      "| Attack Results                |        |\n",
      "+-------------------------------+--------+\n",
      "| Number of successful attacks: | 21     |\n",
      "| Number of failed attacks:     | 9      |\n",
      "| Number of skipped attacks:    | 0      |\n",
      "| Original accuracy:            | 100.0% |\n",
      "| Accuracy under attack:        | 30.0%  |\n",
      "| Attack success rate:          | 70.0%  |\n",
      "| Average perturbed word %:     | 15.83% |\n",
      "| Average num. words per input: | 22.7   |\n",
      "| Avg num queries:              | 570.5  |\n",
      "+-------------------------------+--------+\n"
     ]
    },
    {
     "name": "stderr",
     "output_type": "stream",
     "text": [
      "\n"
     ]
    }
   ],
   "source": [
    "for rank in range(50, 850, 50):\n",
    "    model.load_state_dict(torch.load(\"weight_trained_1.pth\"))\n",
    "    \n",
    "    all_model_weight = svd_sa(model, rank)\n",
    "    model.load_state_dict(all_model_weight)\n",
    "    \n",
    "    model_wrapper = PyTorchModelWrapper(model, tokenizer)\n",
    "    goal_function = TargetedClassification(model_wrapper, target_class = 1)\n",
    "    attack = Attack(goal_function, constraints, transformation, search_method)\n",
    "    \n",
    "    attack_args = textattack.AttackArgs(\n",
    "    num_examples=30,\n",
    "    log_to_csv=\"rank/log_\"+str(rank)+\".csv\",\n",
    "    checkpoint_interval=5,\n",
    "    checkpoint_dir=\"checkpoints\",\n",
    "    disable_stdout=True\n",
    "    )\n",
    "    \n",
    "    attacker = Attacker(attack, dataset, attack_args)\n",
    "    attacker.attack_dataset()"
   ]
  },
  {
   "cell_type": "markdown",
   "id": "785b8b40-7250-4898-b64a-4e2e3b2062ad",
   "metadata": {},
   "source": [
    "### Result Analysis"
   ]
  },
  {
   "cell_type": "code",
   "execution_count": 21,
   "id": "862bd78a-444a-4c6e-8938-a33c176a9965",
   "metadata": {
    "tags": []
   },
   "outputs": [],
   "source": [
    "import pandas as pd\n",
    "import numpy as np\n",
    "import matplotlib.pyplot as plt"
   ]
  },
  {
   "cell_type": "code",
   "execution_count": 8,
   "id": "9a2d92cd-44b9-4f29-8785-8aeaf8de8356",
   "metadata": {
    "tags": []
   },
   "outputs": [],
   "source": [
    "all_df = []"
   ]
  },
  {
   "cell_type": "code",
   "execution_count": 9,
   "id": "97502de0-1dc6-4da2-ac37-309e614f0465",
   "metadata": {
    "tags": []
   },
   "outputs": [],
   "source": [
    "for i in range(50, 850, 50):\n",
    "    df = pd.read_csv(\"rank/log_\" + str(i) + \".csv\")\n",
    "    all_df.append(df)"
   ]
  },
  {
   "cell_type": "code",
   "execution_count": 14,
   "id": "e60e283c-b27b-4b23-90ef-898f8643f489",
   "metadata": {
    "scrolled": true,
    "tags": []
   },
   "outputs": [
    {
     "data": {
      "text/plain": [
       "0        Skipped\n",
       "1     Successful\n",
       "2     Successful\n",
       "3     Successful\n",
       "4     Successful\n",
       "5     Successful\n",
       "6     Successful\n",
       "7         Failed\n",
       "8     Successful\n",
       "9     Successful\n",
       "10    Successful\n",
       "11        Failed\n",
       "12        Failed\n",
       "13    Successful\n",
       "14        Failed\n",
       "15        Failed\n",
       "16    Successful\n",
       "17    Successful\n",
       "18    Successful\n",
       "19    Successful\n",
       "20    Successful\n",
       "21    Successful\n",
       "22    Successful\n",
       "23    Successful\n",
       "24        Failed\n",
       "25    Successful\n",
       "26    Successful\n",
       "27        Failed\n",
       "28    Successful\n",
       "29    Successful\n",
       "Name: result_type, dtype: object"
      ]
     },
     "execution_count": 14,
     "metadata": {},
     "output_type": "execute_result"
    }
   ],
   "source": [
    "all_df[0][\"result_type\"]"
   ]
  },
  {
   "cell_type": "code",
   "execution_count": 18,
   "id": "36614343-8945-40e3-acd2-d5c0dcca1774",
   "metadata": {
    "tags": []
   },
   "outputs": [],
   "source": []
  },
  {
   "cell_type": "code",
   "execution_count": 30,
   "id": "88c27e1e-a9c1-4979-af69-bfd362996d34",
   "metadata": {
    "tags": []
   },
   "outputs": [],
   "source": [
    "success = []\n",
    "failed = []\n",
    "skipped = []\n",
    "for i in range(len(all_df)):\n",
    "    success.append(all_df[i][\"result_type\"].value_counts()[\"Successful\"])\n",
    "    failed.append(all_df[i][\"result_type\"].value_counts()[\"Failed\"])\n",
    "    try:\n",
    "        skipped.append(all_df[i][\"result_type\"].value_counts()[\"Skipped\"])\n",
    "    except:\n",
    "        skipped.append(0)"
   ]
  },
  {
   "cell_type": "code",
   "execution_count": 31,
   "id": "f70ea510-0fbc-41ab-accb-18a64bdd02ba",
   "metadata": {
    "tags": []
   },
   "outputs": [
    {
     "data": {
      "text/plain": [
       "[22, 25, 24, 24, 23, 25, 23, 24, 21, 23, 25, 23, 22, 23, 21, 21]"
      ]
     },
     "execution_count": 31,
     "metadata": {},
     "output_type": "execute_result"
    }
   ],
   "source": [
    "success"
   ]
  },
  {
   "cell_type": "code",
   "execution_count": null,
   "id": "d685db2c-728b-4893-8851-a75bb2217348",
   "metadata": {},
   "outputs": [],
   "source": []
  },
  {
   "cell_type": "code",
   "execution_count": 54,
   "id": "e6077336-e23d-4163-8084-ffdb805ad5ff",
   "metadata": {
    "tags": []
   },
   "outputs": [
    {
     "data": {
      "image/png": "[encoded data removed]",
      "text/plain": [
       "<Figure size 640x480 with 1 Axes>"
      ]
     },
     "metadata": {},
     "output_type": "display_data"
    }
   ],
   "source": [
    "bar_width = 12\n",
    "plt.bar(np.arange(50, 801, 50) - bar_width/2, success, width = bar_width, label=\"Attack Success\")\n",
    "plt.bar(np.arange(50, 801, 50) + bar_width/2, failed, width = bar_width, label=\"Attack Failed\")\n",
    "plt.bar(np.arange(50, 801, 50) + bar_width + bar_width/2, skipped, width = bar_width, label = \"Attack Skipped\")\n",
    "plt.title(\"Attack on Self Attention Matrix\")\n",
    "plt.xlabel(\"Low Rank (k)\")\n",
    "plt.ylabel(\"Count\")\n",
    "plt.legend(bbox_to_anchor=(1.05, 1.0), loc='upper left')\n",
    "plt.show()"
   ]
  },
  {
   "cell_type": "code",
   "execution_count": null,
   "id": "dd07f097-8b01-4314-b803-2801e0e543ac",
   "metadata": {},
   "outputs": [],
   "source": []
  },
  {
   "cell_type": "code",
   "execution_count": null,
   "id": "5b55d48f-e993-4063-9179-42adf2be051b",
   "metadata": {},
   "outputs": [],
   "source": []
  }
 ],
 "metadata": {
  "kernelspec": {
   "display_name": "Python 3 (Local)",
   "language": "python",
   "name": "python3"
  },
  "language_info": {
   "codemirror_mode": {
    "name": "ipython",
    "version": 3
   },
   "file_extension": ".py",
   "mimetype": "text/x-python",
   "name": "python",
   "nbconvert_exporter": "python",
   "pygments_lexer": "ipython3",
   "version": "3.10.13"
  }
 },
 "nbformat": 4,
 "nbformat_minor": 5
}
